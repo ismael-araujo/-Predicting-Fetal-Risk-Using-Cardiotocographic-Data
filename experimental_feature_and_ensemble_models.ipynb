{
 "cells": [
  {
   "cell_type": "markdown",
   "metadata": {},
   "source": [
    "# Modeling Process With Experimental Feature Database"
   ]
  },
  {
   "cell_type": "markdown",
   "metadata": {},
   "source": [
    "- In this notebook we use our experimental database to identify key features and tune the hyperparameters of several high preforming models. For model selection, we where looking for models where we could best improve the precision(reduce false positives) while not drastically reducing recall (false negatives).  To evaluate the models we used sklearn metrics and also viewed the confusion matrix to see how the models predictions on the test set preformed."
   ]
  },
  {
   "cell_type": "code",
   "execution_count": 1,
   "metadata": {
    "ExecuteTime": {
     "end_time": "2021-03-17T00:16:18.075818Z",
     "start_time": "2021-03-17T00:16:16.250179Z"
    }
   },
   "outputs": [],
   "source": [
    "# Import Packages\n",
    "import pandas as pd\n",
    "import seaborn as sns\n",
    "import numpy as np\n",
    "import matplotlib.pyplot as plt\n",
    "\n",
    "\n",
    "# Sklearn Packages\n",
    "from sklearn.model_selection import train_test_split, GridSearchCV, cross_val_score\n",
    "\n",
    "from sklearn.ensemble import RandomForestClassifier, AdaBoostClassifier, BaggingClassifier\n",
    "\n",
    "\n",
    "from sklearn import set_config\n",
    "from sklearn import metrics\n",
    "from sklearn.metrics import mean_squared_error, precision_score, confusion_matrix, accuracy_score\n",
    "from sklearn.dummy import DummyClassifier\n",
    "from sklearn.preprocessing import StandardScaler\n",
    "from sklearn.neighbors import KNeighborsClassifier\n",
    "from sklearn.linear_model import LogisticRegression\n",
    "from sklearn.tree import DecisionTreeClassifier\n",
    "from sklearn.exceptions import ConvergenceWarning\n",
    "from imblearn.over_sampling import SMOTE\n",
    "from xgboost import XGBClassifier\n",
    "from xgboost import plot_importance\n",
    "\n",
    "set_config(print_changed_only=False)\n",
    "\n",
    "import warnings\n",
    "warnings.filterwarnings(\"ignore\")\n",
    "\n",
    "pd.set_option('display.max_columns', 300)\n",
    "% matplotlib inline\n",
    "\n",
    "plt.style.use('seaborn')"
   ]
  },
  {
   "cell_type": "code",
   "execution_count": 2,
   "metadata": {
    "ExecuteTime": {
     "end_time": "2021-03-17T00:16:18.515101Z",
     "start_time": "2021-03-17T00:16:18.078474Z"
    }
   },
   "outputs": [],
   "source": [
    "# Importing all functions used in this notebook\n",
    "from functions import *"
   ]
  },
  {
   "cell_type": "code",
   "execution_count": 3,
   "metadata": {
    "ExecuteTime": {
     "end_time": "2021-03-17T00:16:18.578094Z",
     "start_time": "2021-03-17T00:16:18.517942Z"
    }
   },
   "outputs": [
    {
     "data": {
      "text/html": [
       "<div>\n",
       "<style scoped>\n",
       "    .dataframe tbody tr th:only-of-type {\n",
       "        vertical-align: middle;\n",
       "    }\n",
       "\n",
       "    .dataframe tbody tr th {\n",
       "        vertical-align: top;\n",
       "    }\n",
       "\n",
       "    .dataframe thead th {\n",
       "        text-align: right;\n",
       "    }\n",
       "</style>\n",
       "<table border=\"1\" class=\"dataframe\">\n",
       "  <thead>\n",
       "    <tr style=\"text-align: right;\">\n",
       "      <th></th>\n",
       "      <th>baseline value</th>\n",
       "      <th>accelerations</th>\n",
       "      <th>fetal_movement</th>\n",
       "      <th>uterine_contractions</th>\n",
       "      <th>light_decelerations</th>\n",
       "      <th>prolongued_decelerations</th>\n",
       "      <th>abnormal_short_term_variability</th>\n",
       "      <th>mean_value_of_short_term_variability</th>\n",
       "      <th>percentage_of_time_with_abnormal_long_term_variability</th>\n",
       "      <th>mean_value_of_long_term_variability</th>\n",
       "      <th>histogram_width</th>\n",
       "      <th>histogram_min</th>\n",
       "      <th>histogram_max</th>\n",
       "      <th>histogram_number_of_peaks</th>\n",
       "      <th>histogram_mode</th>\n",
       "      <th>histogram_mean</th>\n",
       "      <th>histogram_median</th>\n",
       "      <th>histogram_variance</th>\n",
       "      <th>fetal_health</th>\n",
       "      <th>uterine_cont_per_min</th>\n",
       "      <th>total_change</th>\n",
       "      <th>sqrt_total_change</th>\n",
       "      <th>hist_zeros_1.0</th>\n",
       "      <th>hist_zeros_2.0</th>\n",
       "      <th>hist_zeros_3.0</th>\n",
       "      <th>hist_zeros_4.0</th>\n",
       "      <th>hist_zeros_5.0</th>\n",
       "      <th>hist_zeros_7.0</th>\n",
       "      <th>hist_zeros_8.0</th>\n",
       "      <th>hist_zeros_10.0</th>\n",
       "      <th>hist_tendancy_0.0</th>\n",
       "      <th>hist_tendancy_1.0</th>\n",
       "      <th>sev_decel_0.001</th>\n",
       "      <th>quant_acc_1</th>\n",
       "      <th>quant_light_dec_1</th>\n",
       "      <th>quant_hist_mean_1</th>\n",
       "      <th>quant_hist_mean_2</th>\n",
       "      <th>quant_hist_mean_3</th>\n",
       "      <th>quant_hist_mean_4</th>\n",
       "      <th>quant_hist_mean_5</th>\n",
       "      <th>quant_hist_mean_6</th>\n",
       "    </tr>\n",
       "  </thead>\n",
       "  <tbody>\n",
       "    <tr>\n",
       "      <th>0</th>\n",
       "      <td>120.0</td>\n",
       "      <td>0.000</td>\n",
       "      <td>0.0</td>\n",
       "      <td>0.000</td>\n",
       "      <td>0.000</td>\n",
       "      <td>0.0</td>\n",
       "      <td>73.0</td>\n",
       "      <td>0.5</td>\n",
       "      <td>43.0</td>\n",
       "      <td>2.4</td>\n",
       "      <td>64.0</td>\n",
       "      <td>62.0</td>\n",
       "      <td>126.0</td>\n",
       "      <td>2.0</td>\n",
       "      <td>120.0</td>\n",
       "      <td>137.0</td>\n",
       "      <td>121.0</td>\n",
       "      <td>73.0</td>\n",
       "      <td>2.0</td>\n",
       "      <td>0.00</td>\n",
       "      <td>0.000</td>\n",
       "      <td>0.000000</td>\n",
       "      <td>0</td>\n",
       "      <td>0</td>\n",
       "      <td>0</td>\n",
       "      <td>0</td>\n",
       "      <td>0</td>\n",
       "      <td>0</td>\n",
       "      <td>0</td>\n",
       "      <td>0</td>\n",
       "      <td>0</td>\n",
       "      <td>1</td>\n",
       "      <td>0</td>\n",
       "      <td>0</td>\n",
       "      <td>0</td>\n",
       "      <td>0</td>\n",
       "      <td>0</td>\n",
       "      <td>1</td>\n",
       "      <td>0</td>\n",
       "      <td>0</td>\n",
       "      <td>0</td>\n",
       "    </tr>\n",
       "    <tr>\n",
       "      <th>1</th>\n",
       "      <td>132.0</td>\n",
       "      <td>0.006</td>\n",
       "      <td>0.0</td>\n",
       "      <td>0.006</td>\n",
       "      <td>0.003</td>\n",
       "      <td>0.0</td>\n",
       "      <td>17.0</td>\n",
       "      <td>2.1</td>\n",
       "      <td>0.0</td>\n",
       "      <td>10.4</td>\n",
       "      <td>130.0</td>\n",
       "      <td>68.0</td>\n",
       "      <td>198.0</td>\n",
       "      <td>6.0</td>\n",
       "      <td>141.0</td>\n",
       "      <td>136.0</td>\n",
       "      <td>140.0</td>\n",
       "      <td>12.0</td>\n",
       "      <td>1.0</td>\n",
       "      <td>0.36</td>\n",
       "      <td>1.980</td>\n",
       "      <td>0.122474</td>\n",
       "      <td>1</td>\n",
       "      <td>0</td>\n",
       "      <td>0</td>\n",
       "      <td>0</td>\n",
       "      <td>0</td>\n",
       "      <td>0</td>\n",
       "      <td>0</td>\n",
       "      <td>0</td>\n",
       "      <td>1</td>\n",
       "      <td>0</td>\n",
       "      <td>0</td>\n",
       "      <td>0</td>\n",
       "      <td>0</td>\n",
       "      <td>0</td>\n",
       "      <td>0</td>\n",
       "      <td>1</td>\n",
       "      <td>0</td>\n",
       "      <td>0</td>\n",
       "      <td>0</td>\n",
       "    </tr>\n",
       "    <tr>\n",
       "      <th>2</th>\n",
       "      <td>133.0</td>\n",
       "      <td>0.003</td>\n",
       "      <td>0.0</td>\n",
       "      <td>0.008</td>\n",
       "      <td>0.003</td>\n",
       "      <td>0.0</td>\n",
       "      <td>16.0</td>\n",
       "      <td>2.1</td>\n",
       "      <td>0.0</td>\n",
       "      <td>13.4</td>\n",
       "      <td>130.0</td>\n",
       "      <td>68.0</td>\n",
       "      <td>198.0</td>\n",
       "      <td>5.0</td>\n",
       "      <td>141.0</td>\n",
       "      <td>135.0</td>\n",
       "      <td>138.0</td>\n",
       "      <td>13.0</td>\n",
       "      <td>1.0</td>\n",
       "      <td>0.48</td>\n",
       "      <td>1.862</td>\n",
       "      <td>0.118322</td>\n",
       "      <td>1</td>\n",
       "      <td>0</td>\n",
       "      <td>0</td>\n",
       "      <td>0</td>\n",
       "      <td>0</td>\n",
       "      <td>0</td>\n",
       "      <td>0</td>\n",
       "      <td>0</td>\n",
       "      <td>1</td>\n",
       "      <td>0</td>\n",
       "      <td>0</td>\n",
       "      <td>0</td>\n",
       "      <td>0</td>\n",
       "      <td>0</td>\n",
       "      <td>0</td>\n",
       "      <td>1</td>\n",
       "      <td>0</td>\n",
       "      <td>0</td>\n",
       "      <td>0</td>\n",
       "    </tr>\n",
       "    <tr>\n",
       "      <th>3</th>\n",
       "      <td>134.0</td>\n",
       "      <td>0.003</td>\n",
       "      <td>0.0</td>\n",
       "      <td>0.008</td>\n",
       "      <td>0.003</td>\n",
       "      <td>0.0</td>\n",
       "      <td>16.0</td>\n",
       "      <td>2.4</td>\n",
       "      <td>0.0</td>\n",
       "      <td>23.0</td>\n",
       "      <td>117.0</td>\n",
       "      <td>53.0</td>\n",
       "      <td>170.0</td>\n",
       "      <td>11.0</td>\n",
       "      <td>137.0</td>\n",
       "      <td>134.0</td>\n",
       "      <td>137.0</td>\n",
       "      <td>13.0</td>\n",
       "      <td>1.0</td>\n",
       "      <td>0.48</td>\n",
       "      <td>1.876</td>\n",
       "      <td>0.118322</td>\n",
       "      <td>0</td>\n",
       "      <td>0</td>\n",
       "      <td>0</td>\n",
       "      <td>0</td>\n",
       "      <td>0</td>\n",
       "      <td>0</td>\n",
       "      <td>0</td>\n",
       "      <td>0</td>\n",
       "      <td>0</td>\n",
       "      <td>1</td>\n",
       "      <td>0</td>\n",
       "      <td>0</td>\n",
       "      <td>0</td>\n",
       "      <td>0</td>\n",
       "      <td>0</td>\n",
       "      <td>1</td>\n",
       "      <td>0</td>\n",
       "      <td>0</td>\n",
       "      <td>0</td>\n",
       "    </tr>\n",
       "    <tr>\n",
       "      <th>4</th>\n",
       "      <td>132.0</td>\n",
       "      <td>0.007</td>\n",
       "      <td>0.0</td>\n",
       "      <td>0.008</td>\n",
       "      <td>0.000</td>\n",
       "      <td>0.0</td>\n",
       "      <td>16.0</td>\n",
       "      <td>2.4</td>\n",
       "      <td>0.0</td>\n",
       "      <td>19.9</td>\n",
       "      <td>117.0</td>\n",
       "      <td>53.0</td>\n",
       "      <td>170.0</td>\n",
       "      <td>9.0</td>\n",
       "      <td>137.0</td>\n",
       "      <td>136.0</td>\n",
       "      <td>138.0</td>\n",
       "      <td>11.0</td>\n",
       "      <td>1.0</td>\n",
       "      <td>0.48</td>\n",
       "      <td>1.980</td>\n",
       "      <td>0.122474</td>\n",
       "      <td>0</td>\n",
       "      <td>0</td>\n",
       "      <td>0</td>\n",
       "      <td>0</td>\n",
       "      <td>0</td>\n",
       "      <td>0</td>\n",
       "      <td>0</td>\n",
       "      <td>0</td>\n",
       "      <td>0</td>\n",
       "      <td>1</td>\n",
       "      <td>0</td>\n",
       "      <td>1</td>\n",
       "      <td>0</td>\n",
       "      <td>0</td>\n",
       "      <td>0</td>\n",
       "      <td>1</td>\n",
       "      <td>0</td>\n",
       "      <td>0</td>\n",
       "      <td>0</td>\n",
       "    </tr>\n",
       "  </tbody>\n",
       "</table>\n",
       "</div>"
      ],
      "text/plain": [
       "   baseline value  accelerations  fetal_movement  uterine_contractions  \\\n",
       "0           120.0          0.000             0.0                 0.000   \n",
       "1           132.0          0.006             0.0                 0.006   \n",
       "2           133.0          0.003             0.0                 0.008   \n",
       "3           134.0          0.003             0.0                 0.008   \n",
       "4           132.0          0.007             0.0                 0.008   \n",
       "\n",
       "   light_decelerations  prolongued_decelerations  \\\n",
       "0                0.000                       0.0   \n",
       "1                0.003                       0.0   \n",
       "2                0.003                       0.0   \n",
       "3                0.003                       0.0   \n",
       "4                0.000                       0.0   \n",
       "\n",
       "   abnormal_short_term_variability  mean_value_of_short_term_variability  \\\n",
       "0                             73.0                                   0.5   \n",
       "1                             17.0                                   2.1   \n",
       "2                             16.0                                   2.1   \n",
       "3                             16.0                                   2.4   \n",
       "4                             16.0                                   2.4   \n",
       "\n",
       "   percentage_of_time_with_abnormal_long_term_variability  \\\n",
       "0                                               43.0        \n",
       "1                                                0.0        \n",
       "2                                                0.0        \n",
       "3                                                0.0        \n",
       "4                                                0.0        \n",
       "\n",
       "   mean_value_of_long_term_variability  histogram_width  histogram_min  \\\n",
       "0                                  2.4             64.0           62.0   \n",
       "1                                 10.4            130.0           68.0   \n",
       "2                                 13.4            130.0           68.0   \n",
       "3                                 23.0            117.0           53.0   \n",
       "4                                 19.9            117.0           53.0   \n",
       "\n",
       "   histogram_max  histogram_number_of_peaks  histogram_mode  histogram_mean  \\\n",
       "0          126.0                        2.0           120.0           137.0   \n",
       "1          198.0                        6.0           141.0           136.0   \n",
       "2          198.0                        5.0           141.0           135.0   \n",
       "3          170.0                       11.0           137.0           134.0   \n",
       "4          170.0                        9.0           137.0           136.0   \n",
       "\n",
       "   histogram_median  histogram_variance  fetal_health  uterine_cont_per_min  \\\n",
       "0             121.0                73.0           2.0                  0.00   \n",
       "1             140.0                12.0           1.0                  0.36   \n",
       "2             138.0                13.0           1.0                  0.48   \n",
       "3             137.0                13.0           1.0                  0.48   \n",
       "4             138.0                11.0           1.0                  0.48   \n",
       "\n",
       "   total_change  sqrt_total_change  hist_zeros_1.0  hist_zeros_2.0  \\\n",
       "0         0.000           0.000000               0               0   \n",
       "1         1.980           0.122474               1               0   \n",
       "2         1.862           0.118322               1               0   \n",
       "3         1.876           0.118322               0               0   \n",
       "4         1.980           0.122474               0               0   \n",
       "\n",
       "   hist_zeros_3.0  hist_zeros_4.0  hist_zeros_5.0  hist_zeros_7.0  \\\n",
       "0               0               0               0               0   \n",
       "1               0               0               0               0   \n",
       "2               0               0               0               0   \n",
       "3               0               0               0               0   \n",
       "4               0               0               0               0   \n",
       "\n",
       "   hist_zeros_8.0  hist_zeros_10.0  hist_tendancy_0.0  hist_tendancy_1.0  \\\n",
       "0               0                0                  0                  1   \n",
       "1               0                0                  1                  0   \n",
       "2               0                0                  1                  0   \n",
       "3               0                0                  0                  1   \n",
       "4               0                0                  0                  1   \n",
       "\n",
       "   sev_decel_0.001  quant_acc_1  quant_light_dec_1  quant_hist_mean_1  \\\n",
       "0                0            0                  0                  0   \n",
       "1                0            0                  0                  0   \n",
       "2                0            0                  0                  0   \n",
       "3                0            0                  0                  0   \n",
       "4                0            1                  0                  0   \n",
       "\n",
       "   quant_hist_mean_2  quant_hist_mean_3  quant_hist_mean_4  quant_hist_mean_5  \\\n",
       "0                  0                  1                  0                  0   \n",
       "1                  0                  1                  0                  0   \n",
       "2                  0                  1                  0                  0   \n",
       "3                  0                  1                  0                  0   \n",
       "4                  0                  1                  0                  0   \n",
       "\n",
       "   quant_hist_mean_6  \n",
       "0                  0  \n",
       "1                  0  \n",
       "2                  0  \n",
       "3                  0  \n",
       "4                  0  "
      ]
     },
     "execution_count": 3,
     "metadata": {},
     "output_type": "execute_result"
    }
   ],
   "source": [
    "#Read in dataframe\n",
    "exp_df = pd.read_csv('experiment_features.csv',index_col=0)\n",
    "exp_df.head()"
   ]
  },
  {
   "cell_type": "code",
   "execution_count": 4,
   "metadata": {
    "ExecuteTime": {
     "end_time": "2021-03-17T00:16:18.584211Z",
     "start_time": "2021-03-17T00:16:18.580708Z"
    }
   },
   "outputs": [],
   "source": [
    "# # Evaluation function\n",
    "# def evaluation(y_true, y_pred):\n",
    "    \n",
    "# # Print Accuracy, Recall, F1 Score, and Precision metrics.\n",
    "#     print('Evaluation Metrics:')\n",
    "#     print('Accuracy: ' + str(metrics.accuracy_score(y_test, y_pred)))\n",
    "#     print('Recall: ' + str(metrics.recall_score(y_test, y_pred)))\n",
    "#     print('F1 Score: ' + str(metrics.f1_score(y_test, y_pred)))\n",
    "#     print('Precision: ' + str(metrics.precision_score(y_test, y_pred)))\n",
    "    \n",
    "# # Print Confusion Matrix\n",
    "#     print('\\nConfusion Matrix:')\n",
    "#     print(' TN,  FP, FN, TP')\n",
    "#     print(confusion_matrix(y_true, y_pred).ravel())\n",
    "    \n",
    "# # Function Prints best parameters for GridSearchCV\n",
    "# def print_results(results):\n",
    "#     print('Best Parameters: {}\\n'.format(results.best_params_))   "
   ]
  },
  {
   "cell_type": "code",
   "execution_count": 5,
   "metadata": {
    "ExecuteTime": {
     "end_time": "2021-03-17T00:16:18.597657Z",
     "start_time": "2021-03-17T00:16:18.586672Z"
    }
   },
   "outputs": [],
   "source": [
    "#train test split of data\n",
    "X = exp_df.drop('fetal_health', axis =1)\n",
    "y = exp_df.fetal_health\n",
    "\n",
    "X_train, X_test, y_train, y_test = train_test_split(X, y, test_size= 0.25, random_state=1)"
   ]
  },
  {
   "cell_type": "code",
   "execution_count": 6,
   "metadata": {
    "ExecuteTime": {
     "end_time": "2021-03-17T00:16:18.611750Z",
     "start_time": "2021-03-17T00:16:18.599957Z"
    }
   },
   "outputs": [
    {
     "data": {
      "text/plain": [
       "StandardScaler(copy=True, with_mean=True, with_std=True)"
      ]
     },
     "execution_count": 6,
     "metadata": {},
     "output_type": "execute_result"
    }
   ],
   "source": [
    "#standared scaler for predicting features\n",
    "scaler = StandardScaler()  \n",
    "scaler.fit(X_train)"
   ]
  },
  {
   "cell_type": "markdown",
   "metadata": {},
   "source": [
    "## Class imbalance"
   ]
  },
  {
   "cell_type": "markdown",
   "metadata": {},
   "source": [
    "- To handle class imbalance we oversampled the minority class using SMOTE(Synthetic Minority Oversampling Technique), this balanced the minority class by sampling the nearest neighboors and adding points between the neighbors.  We used both a SMOTE sampled database and unbalanced database to compare the effect of the metrics for each experimental baseline model.  The Smote Database preformed better on every baseline model, we chose to use the SMOTE database for our final models.  "
   ]
  },
  {
   "cell_type": "code",
   "execution_count": 10,
   "metadata": {
    "ExecuteTime": {
     "end_time": "2021-03-17T00:17:06.633032Z",
     "start_time": "2021-03-17T00:17:06.605174Z"
    }
   },
   "outputs": [],
   "source": [
    "#Used smote to oversample minority class\n",
    "sm = SMOTE(random_state=25)\n",
    "smX_train, smy_train = sm.fit_sample(X_train, y_train)"
   ]
  },
  {
   "cell_type": "markdown",
   "metadata": {},
   "source": [
    "## KNN "
   ]
  },
  {
   "cell_type": "markdown",
   "metadata": {},
   "source": [
    "- Here we ran a basline model of knn on the experimental database and compared the metrics results to the database treated with smote.  \n"
   ]
  },
  {
   "cell_type": "code",
   "execution_count": 8,
   "metadata": {
    "ExecuteTime": {
     "end_time": "2021-03-17T00:16:21.036943Z",
     "start_time": "2021-03-17T00:16:20.988272Z"
    }
   },
   "outputs": [],
   "source": [
    "#baseline KNN with class imbalance\n",
    "knn = KNeighborsClassifier(n_neighbors=1)\n",
    "knn.fit(X_train,y_train)\n",
    "y_pred = knn.predict(X_test)"
   ]
  },
  {
   "cell_type": "code",
   "execution_count": 9,
   "metadata": {
    "ExecuteTime": {
     "end_time": "2021-03-17T00:16:21.760581Z",
     "start_time": "2021-03-17T00:16:21.554642Z"
    }
   },
   "outputs": [
    {
     "name": "stdout",
     "output_type": "stream",
     "text": [
      "Evaluation Metrics:\n",
      "Accuracy: 0.9172932330827067\n",
      "Precision: 0.927400468384075\n",
      "Recall: 0.9682151589242054\n",
      "F1 Score: 0.9473684210526316\n",
      "\n",
      "Confusion Matrix:\n",
      " TN,  FP, FN, TP\n"
     ]
    },
    {
     "ename": "TypeError",
     "evalue": "confusion_matrix() missing 1 required positional argument: 'y_test'",
     "output_type": "error",
     "traceback": [
      "\u001b[0;31m---------------------------------------------------------------------------\u001b[0m",
      "\u001b[0;31mTypeError\u001b[0m                                 Traceback (most recent call last)",
      "\u001b[0;32m<ipython-input-9-60c26da5c31f>\u001b[0m in \u001b[0;36m<module>\u001b[0;34m()\u001b[0m\n\u001b[1;32m      1\u001b[0m \u001b[0;31m#prediction metrics and confusion matrix of base KNN with class imbalance\u001b[0m\u001b[0;34m\u001b[0m\u001b[0;34m\u001b[0m\u001b[0;34m\u001b[0m\u001b[0m\n\u001b[0;32m----> 2\u001b[0;31m \u001b[0mevaluation\u001b[0m\u001b[0;34m(\u001b[0m\u001b[0my_test\u001b[0m\u001b[0;34m,\u001b[0m \u001b[0my_pred\u001b[0m\u001b[0;34m)\u001b[0m\u001b[0;34m\u001b[0m\u001b[0;34m\u001b[0m\u001b[0m\n\u001b[0m",
      "\u001b[0;32m/Users/ismael/Desktop/data_science/Projects/mod-3-improved/Predicting-Fetal-Risk-Using-Cardiotocographic-Data/functions.py\u001b[0m in \u001b[0;36mevaluation\u001b[0;34m(y_true, y_pred)\u001b[0m\n\u001b[1;32m     41\u001b[0m     \u001b[0mprint\u001b[0m\u001b[0;34m(\u001b[0m\u001b[0;34m'\\nConfusion Matrix:'\u001b[0m\u001b[0;34m)\u001b[0m\u001b[0;34m\u001b[0m\u001b[0;34m\u001b[0m\u001b[0m\n\u001b[1;32m     42\u001b[0m     \u001b[0mprint\u001b[0m\u001b[0;34m(\u001b[0m\u001b[0;34m' TN,  FP, FN, TP'\u001b[0m\u001b[0;34m)\u001b[0m\u001b[0;34m\u001b[0m\u001b[0;34m\u001b[0m\u001b[0m\n\u001b[0;32m---> 43\u001b[0;31m     \u001b[0mprint\u001b[0m\u001b[0;34m(\u001b[0m\u001b[0mconfusion_matrix\u001b[0m\u001b[0;34m(\u001b[0m\u001b[0my_true\u001b[0m\u001b[0;34m,\u001b[0m \u001b[0my_pred\u001b[0m\u001b[0;34m)\u001b[0m\u001b[0;34m.\u001b[0m\u001b[0mravel\u001b[0m\u001b[0;34m(\u001b[0m\u001b[0;34m)\u001b[0m\u001b[0;34m)\u001b[0m\u001b[0;34m\u001b[0m\u001b[0;34m\u001b[0m\u001b[0m\n\u001b[0m\u001b[1;32m     44\u001b[0m \u001b[0;34m\u001b[0m\u001b[0m\n\u001b[1;32m     45\u001b[0m \u001b[0;34m\u001b[0m\u001b[0m\n",
      "\u001b[0;31mTypeError\u001b[0m: confusion_matrix() missing 1 required positional argument: 'y_test'"
     ]
    }
   ],
   "source": [
    "#prediction metrics and confusion matrix of base KNN with class imbalance\n",
    "evaluation(y_test, y_pred)"
   ]
  },
  {
   "cell_type": "code",
   "execution_count": 11,
   "metadata": {
    "ExecuteTime": {
     "end_time": "2021-03-17T00:05:43.536778Z",
     "start_time": "2021-03-17T00:05:43.488446Z"
    }
   },
   "outputs": [],
   "source": [
    "#Base KNN model with Smote oversampled class\n",
    "smknn = KNeighborsClassifier(n_neighbors=1)\n",
    "smknn.fit(smX_train,smy_train)\n",
    "y_pred = smknn.predict(X_test)"
   ]
  },
  {
   "cell_type": "code",
   "execution_count": 47,
   "metadata": {
    "ExecuteTime": {
     "end_time": "2021-03-17T00:05:29.493924Z",
     "start_time": "2021-03-17T00:05:29.482412Z"
    }
   },
   "outputs": [
    {
     "name": "stdout",
     "output_type": "stream",
     "text": [
      "Evaluation Metrics:\n",
      "Accuracy: 0.9172932330827067\n",
      "Precision: 0.9355608591885441\n",
      "Recall: 0.9584352078239609\n",
      "F1 Score: 0.9468599033816426\n"
     ]
    }
   ],
   "source": [
    "#Prediction metrics and confusion matrix of smote base KNN\n",
    "evaluation(y_test, y_pred)"
   ]
  },
  {
   "cell_type": "markdown",
   "metadata": {},
   "source": [
    "## Logistic Regression Baseline Model"
   ]
  },
  {
   "cell_type": "markdown",
   "metadata": {},
   "source": [
    "- Here are two Logistic regression Models comparing the effect of SMOTE on the metric scores.  SMOTE greatly improved the precision of the model, however Recall was greatly reduced.  While one of the aims for our project was to improve precision as best we can, too many false negatives are not ideal for the overal fetal mortality rate.  "
   ]
  },
  {
   "cell_type": "code",
   "execution_count": 13,
   "metadata": {
    "ExecuteTime": {
     "end_time": "2021-03-16T23:59:02.047586Z",
     "start_time": "2021-03-16T23:59:01.582400Z"
    }
   },
   "outputs": [],
   "source": [
    "#Fit Train set with Logistic Regression model\n",
    "lr = LogisticRegression()\n",
    "lr.fit(X_train,y_train)\n",
    "y_pred = lr.predict(X_test)"
   ]
  },
  {
   "cell_type": "code",
   "execution_count": 14,
   "metadata": {
    "ExecuteTime": {
     "end_time": "2021-03-16T23:59:03.188061Z",
     "start_time": "2021-03-16T23:59:03.168417Z"
    }
   },
   "outputs": [
    {
     "name": "stdout",
     "output_type": "stream",
     "text": [
      "Evaluation Metrics:\n",
      "Accuracy: 0.8778195488721805\n",
      "Precision: 0.9056603773584906\n",
      "Recall: 0.9388753056234719\n",
      "F1 Score: 0.921968787515006\n"
     ]
    }
   ],
   "source": [
    "#Regression model evaluation metrics and confusion matrix\n",
    "evaluation(y_test, y_pred)"
   ]
  },
  {
   "cell_type": "code",
   "execution_count": 15,
   "metadata": {
    "ExecuteTime": {
     "end_time": "2021-03-16T23:59:04.780077Z",
     "start_time": "2021-03-16T23:59:04.715151Z"
    }
   },
   "outputs": [],
   "source": [
    "smlr = LogisticRegression(solver='liblinear')\n",
    "smlr.fit(smX_train,smy_train)\n",
    "y_predsm = smlr.predict(X_test)"
   ]
  },
  {
   "cell_type": "code",
   "execution_count": 16,
   "metadata": {
    "ExecuteTime": {
     "end_time": "2021-03-16T23:59:05.511372Z",
     "start_time": "2021-03-16T23:59:05.497766Z"
    }
   },
   "outputs": [
    {
     "name": "stdout",
     "output_type": "stream",
     "text": [
      "Evaluation Metrics:\n",
      "Accuracy: 0.8853383458646616\n",
      "Precision: 0.967741935483871\n",
      "Recall: 0.8801955990220048\n",
      "F1 Score: 0.9218950064020486\n"
     ]
    }
   ],
   "source": [
    "evaluation(y_test, y_predsm)"
   ]
  },
  {
   "cell_type": "markdown",
   "metadata": {},
   "source": [
    "- Below is a table of feature coefficients for the Logistic Regression.  The greatest feature Coefficients are sqrt_total_change, quant_acc_1, quant_hist_mean(1 2 and 3) and tendancy_1.  All of these features are ones that we engineered.  Looking at what these features represent, for this model, the change in the rate of FHR and the average change in that rate seem to be the biggest factors for classifying fetal health.  We wanted to try and improve the Logistic regression by tuning the hyperparameters to improve both the recall and precision.  To attempt this we used a bagging classifer to train the logistic regression on multiple random samples and aggrigate the predictions to see how that effected the evaluation metrics.  "
   ]
  },
  {
   "cell_type": "code",
   "execution_count": 17,
   "metadata": {
    "ExecuteTime": {
     "end_time": "2021-03-16T23:59:06.868458Z",
     "start_time": "2021-03-16T23:59:06.819405Z"
    }
   },
   "outputs": [
    {
     "data": {
      "text/html": [
       "<div>\n",
       "<style scoped>\n",
       "    .dataframe tbody tr th:only-of-type {\n",
       "        vertical-align: middle;\n",
       "    }\n",
       "\n",
       "    .dataframe tbody tr th {\n",
       "        vertical-align: top;\n",
       "    }\n",
       "\n",
       "    .dataframe thead th {\n",
       "        text-align: right;\n",
       "    }\n",
       "</style>\n",
       "<table border=\"1\" class=\"dataframe\">\n",
       "  <thead>\n",
       "    <tr style=\"text-align: right;\">\n",
       "      <th></th>\n",
       "      <th>0</th>\n",
       "      <th>1</th>\n",
       "      <th>2</th>\n",
       "      <th>3</th>\n",
       "      <th>4</th>\n",
       "      <th>5</th>\n",
       "      <th>6</th>\n",
       "      <th>7</th>\n",
       "      <th>8</th>\n",
       "      <th>9</th>\n",
       "      <th>10</th>\n",
       "      <th>11</th>\n",
       "      <th>12</th>\n",
       "      <th>13</th>\n",
       "      <th>14</th>\n",
       "      <th>15</th>\n",
       "      <th>16</th>\n",
       "      <th>17</th>\n",
       "      <th>18</th>\n",
       "      <th>19</th>\n",
       "      <th>20</th>\n",
       "      <th>21</th>\n",
       "      <th>22</th>\n",
       "      <th>23</th>\n",
       "      <th>24</th>\n",
       "      <th>25</th>\n",
       "      <th>26</th>\n",
       "      <th>27</th>\n",
       "      <th>28</th>\n",
       "      <th>29</th>\n",
       "      <th>30</th>\n",
       "      <th>31</th>\n",
       "      <th>32</th>\n",
       "      <th>33</th>\n",
       "      <th>34</th>\n",
       "      <th>35</th>\n",
       "      <th>36</th>\n",
       "      <th>37</th>\n",
       "      <th>38</th>\n",
       "      <th>39</th>\n",
       "    </tr>\n",
       "  </thead>\n",
       "  <tbody>\n",
       "    <tr>\n",
       "      <th>features</th>\n",
       "      <td>baseline value</td>\n",
       "      <td>accelerations</td>\n",
       "      <td>fetal_movement</td>\n",
       "      <td>uterine_contractions</td>\n",
       "      <td>light_decelerations</td>\n",
       "      <td>prolongued_decelerations</td>\n",
       "      <td>abnormal_short_term_variability</td>\n",
       "      <td>mean_value_of_short_term_variability</td>\n",
       "      <td>percentage_of_time_with_abnormal_long_term_var...</td>\n",
       "      <td>mean_value_of_long_term_variability</td>\n",
       "      <td>histogram_width</td>\n",
       "      <td>histogram_min</td>\n",
       "      <td>histogram_max</td>\n",
       "      <td>histogram_number_of_peaks</td>\n",
       "      <td>histogram_mode</td>\n",
       "      <td>histogram_mean</td>\n",
       "      <td>histogram_median</td>\n",
       "      <td>histogram_variance</td>\n",
       "      <td>uterine_cont_per_min</td>\n",
       "      <td>total_change</td>\n",
       "      <td>sqrt_total_change</td>\n",
       "      <td>hist_zeros_1.0</td>\n",
       "      <td>hist_zeros_2.0</td>\n",
       "      <td>hist_zeros_3.0</td>\n",
       "      <td>hist_zeros_4.0</td>\n",
       "      <td>hist_zeros_5.0</td>\n",
       "      <td>hist_zeros_7.0</td>\n",
       "      <td>hist_zeros_8.0</td>\n",
       "      <td>hist_zeros_10.0</td>\n",
       "      <td>hist_tendancy_0.0</td>\n",
       "      <td>hist_tendancy_1.0</td>\n",
       "      <td>sev_decel_0.001</td>\n",
       "      <td>quant_acc_1</td>\n",
       "      <td>quant_light_dec_1</td>\n",
       "      <td>quant_hist_mean_1</td>\n",
       "      <td>quant_hist_mean_2</td>\n",
       "      <td>quant_hist_mean_3</td>\n",
       "      <td>quant_hist_mean_4</td>\n",
       "      <td>quant_hist_mean_5</td>\n",
       "      <td>quant_hist_mean_6</td>\n",
       "    </tr>\n",
       "    <tr>\n",
       "      <th>Coefs</th>\n",
       "      <td>0.117174</td>\n",
       "      <td>-0.0040917</td>\n",
       "      <td>0.0108432</td>\n",
       "      <td>-0.0053203</td>\n",
       "      <td>-0.00221984</td>\n",
       "      <td>0.000806171</td>\n",
       "      <td>0.0699097</td>\n",
       "      <td>-0.715013</td>\n",
       "      <td>0.0372611</td>\n",
       "      <td>0.0319318</td>\n",
       "      <td>-0.0144669</td>\n",
       "      <td>0.00639082</td>\n",
       "      <td>-0.00807605</td>\n",
       "      <td>0.251932</td>\n",
       "      <td>-0.0210527</td>\n",
       "      <td>0.0316949</td>\n",
       "      <td>-0.157476</td>\n",
       "      <td>0.032656</td>\n",
       "      <td>-0.319218</td>\n",
       "      <td>0.0406248</td>\n",
       "      <td>-0.0494468</td>\n",
       "      <td>0.0646365</td>\n",
       "      <td>0.0201561</td>\n",
       "      <td>-0.00272192</td>\n",
       "      <td>0.0176237</td>\n",
       "      <td>-0.00225233</td>\n",
       "      <td>0</td>\n",
       "      <td>0.0110208</td>\n",
       "      <td>-0.000777236</td>\n",
       "      <td>-0.0765569</td>\n",
       "      <td>0.0919297</td>\n",
       "      <td>-0.00379458</td>\n",
       "      <td>-0.235999</td>\n",
       "      <td>-0.34457</td>\n",
       "      <td>-0.467502</td>\n",
       "      <td>-0.255169</td>\n",
       "      <td>-0.356305</td>\n",
       "      <td>0.0562109</td>\n",
       "      <td>0.42863</td>\n",
       "      <td>0.598199</td>\n",
       "    </tr>\n",
       "    <tr>\n",
       "      <th>sm_Coefs</th>\n",
       "      <td>0.112113</td>\n",
       "      <td>-0.224252</td>\n",
       "      <td>0.313262</td>\n",
       "      <td>-0.055485</td>\n",
       "      <td>-0.0363894</td>\n",
       "      <td>0.0445865</td>\n",
       "      <td>0.08435</td>\n",
       "      <td>-0.626913</td>\n",
       "      <td>0.0396073</td>\n",
       "      <td>0.0459468</td>\n",
       "      <td>-0.00961589</td>\n",
       "      <td>-0.0010398</td>\n",
       "      <td>-0.0106557</td>\n",
       "      <td>0.200837</td>\n",
       "      <td>-0.00977889</td>\n",
       "      <td>-0.0597073</td>\n",
       "      <td>-0.0313393</td>\n",
       "      <td>0.0454627</td>\n",
       "      <td>-3.3291</td>\n",
       "      <td>0.0622807</td>\n",
       "      <td>-1.24574</td>\n",
       "      <td>-0.514483</td>\n",
       "      <td>-0.583633</td>\n",
       "      <td>-1.0854</td>\n",
       "      <td>0.384853</td>\n",
       "      <td>-0.626686</td>\n",
       "      <td>0</td>\n",
       "      <td>0.195844</td>\n",
       "      <td>-0.629847</td>\n",
       "      <td>-0.752577</td>\n",
       "      <td>-1.25432</td>\n",
       "      <td>-0.238835</td>\n",
       "      <td>-3.31225</td>\n",
       "      <td>-1.66982</td>\n",
       "      <td>-2.73523</td>\n",
       "      <td>-2.34835</td>\n",
       "      <td>-2.62443</td>\n",
       "      <td>-1.19418</td>\n",
       "      <td>-0.1252</td>\n",
       "      <td>0.816205</td>\n",
       "    </tr>\n",
       "  </tbody>\n",
       "</table>\n",
       "</div>"
      ],
      "text/plain": [
       "                       0              1               2                     3  \\\n",
       "features  baseline value  accelerations  fetal_movement  uterine_contractions   \n",
       "Coefs           0.117174     -0.0040917       0.0108432            -0.0053203   \n",
       "sm_Coefs        0.112113      -0.224252        0.313262             -0.055485   \n",
       "\n",
       "                            4                         5  \\\n",
       "features  light_decelerations  prolongued_decelerations   \n",
       "Coefs             -0.00221984               0.000806171   \n",
       "sm_Coefs           -0.0363894                 0.0445865   \n",
       "\n",
       "                                        6  \\\n",
       "features  abnormal_short_term_variability   \n",
       "Coefs                           0.0699097   \n",
       "sm_Coefs                          0.08435   \n",
       "\n",
       "                                             7  \\\n",
       "features  mean_value_of_short_term_variability   \n",
       "Coefs                                -0.715013   \n",
       "sm_Coefs                             -0.626913   \n",
       "\n",
       "                                                          8  \\\n",
       "features  percentage_of_time_with_abnormal_long_term_var...   \n",
       "Coefs                                             0.0372611   \n",
       "sm_Coefs                                          0.0396073   \n",
       "\n",
       "                                            9               10             11  \\\n",
       "features  mean_value_of_long_term_variability  histogram_width  histogram_min   \n",
       "Coefs                               0.0319318       -0.0144669     0.00639082   \n",
       "sm_Coefs                            0.0459468      -0.00961589     -0.0010398   \n",
       "\n",
       "                     12                         13              14  \\\n",
       "features  histogram_max  histogram_number_of_peaks  histogram_mode   \n",
       "Coefs       -0.00807605                   0.251932      -0.0210527   \n",
       "sm_Coefs     -0.0106557                   0.200837     -0.00977889   \n",
       "\n",
       "                      15                16                  17  \\\n",
       "features  histogram_mean  histogram_median  histogram_variance   \n",
       "Coefs          0.0316949         -0.157476            0.032656   \n",
       "sm_Coefs      -0.0597073        -0.0313393           0.0454627   \n",
       "\n",
       "                            18            19                 20  \\\n",
       "features  uterine_cont_per_min  total_change  sqrt_total_change   \n",
       "Coefs                -0.319218     0.0406248         -0.0494468   \n",
       "sm_Coefs               -3.3291     0.0622807           -1.24574   \n",
       "\n",
       "                      21              22              23              24  \\\n",
       "features  hist_zeros_1.0  hist_zeros_2.0  hist_zeros_3.0  hist_zeros_4.0   \n",
       "Coefs          0.0646365       0.0201561     -0.00272192       0.0176237   \n",
       "sm_Coefs       -0.514483       -0.583633         -1.0854        0.384853   \n",
       "\n",
       "                      25              26              27               28  \\\n",
       "features  hist_zeros_5.0  hist_zeros_7.0  hist_zeros_8.0  hist_zeros_10.0   \n",
       "Coefs        -0.00225233               0       0.0110208     -0.000777236   \n",
       "sm_Coefs       -0.626686               0        0.195844        -0.629847   \n",
       "\n",
       "                         29                 30               31           32  \\\n",
       "features  hist_tendancy_0.0  hist_tendancy_1.0  sev_decel_0.001  quant_acc_1   \n",
       "Coefs            -0.0765569          0.0919297      -0.00379458    -0.235999   \n",
       "sm_Coefs          -0.752577           -1.25432        -0.238835     -3.31225   \n",
       "\n",
       "                         33                 34                 35  \\\n",
       "features  quant_light_dec_1  quant_hist_mean_1  quant_hist_mean_2   \n",
       "Coefs              -0.34457          -0.467502          -0.255169   \n",
       "sm_Coefs           -1.66982           -2.73523           -2.34835   \n",
       "\n",
       "                         36                 37                 38  \\\n",
       "features  quant_hist_mean_3  quant_hist_mean_4  quant_hist_mean_5   \n",
       "Coefs             -0.356305          0.0562109            0.42863   \n",
       "sm_Coefs           -2.62443           -1.19418            -0.1252   \n",
       "\n",
       "                         39  \n",
       "features  quant_hist_mean_6  \n",
       "Coefs              0.598199  \n",
       "sm_Coefs           0.816205  "
      ]
     },
     "execution_count": 17,
     "metadata": {},
     "output_type": "execute_result"
    }
   ],
   "source": [
    "#Create a table of logistic regression coefficients and comparing the coefficients \n",
    "#of the SMOTE and inbalanced datasets\n",
    "coef_table = pd.DataFrame(list(X_train.columns)).copy()\n",
    "coef_table.insert(len(coef_table.columns),\"Coefs\",lr.coef_.transpose())\n",
    "\n",
    "coef_table_2 = pd.DataFrame(list(smX_train.columns)).copy()\n",
    "coef_table_2.insert(len(coef_table_2.columns),'sm_Coefs',smlr.coef_.transpose())\n",
    "\n",
    "smote_vs_coef = pd.concat([coef_table,coef_table_2],axis=1)\n",
    "smote_vs_coef.columns = ['features','Coefs','del','sm_Coefs']\n",
    "del smote_vs_coef['del']\n",
    "smote_vs_coef.transpose()"
   ]
  },
  {
   "cell_type": "code",
   "execution_count": 19,
   "metadata": {
    "ExecuteTime": {
     "end_time": "2021-03-16T23:59:22.206113Z",
     "start_time": "2021-03-16T23:59:22.199630Z"
    }
   },
   "outputs": [],
   "source": [
    "# Bagging classifier for legistic regression\n",
    "bag_log = BaggingClassifier(\n",
    "    base_estimator=LogisticRegression(\n",
    "        random_state=1),n_estimators=200,\n",
    "    max_samples=.85,\n",
    "    max_features=10,oob_score=True,\n",
    "    n_jobs=-1,verbose=1)"
   ]
  },
  {
   "cell_type": "code",
   "execution_count": 20,
   "metadata": {
    "ExecuteTime": {
     "end_time": "2021-03-16T23:59:26.483303Z",
     "start_time": "2021-03-16T23:59:22.572444Z"
    }
   },
   "outputs": [
    {
     "name": "stderr",
     "output_type": "stream",
     "text": [
      "[Parallel(n_jobs=8)]: Done   2 out of   8 | elapsed:    3.2s remaining:    9.7s\n",
      "[Parallel(n_jobs=8)]: Done   8 out of   8 | elapsed:    3.3s finished\n"
     ]
    },
    {
     "name": "stdout",
     "output_type": "stream",
     "text": [
      "Evaluation Metrics:\n",
      "Accuracy: 0.8740601503759399\n",
      "Precision: 0.9547872340425532\n",
      "Recall: 0.8777506112469438\n",
      "F1 Score: 0.9146496815286624\n"
     ]
    },
    {
     "name": "stderr",
     "output_type": "stream",
     "text": [
      "[Parallel(n_jobs=8)]: Done   2 out of   8 | elapsed:    0.0s remaining:    0.1s\n",
      "[Parallel(n_jobs=8)]: Done   8 out of   8 | elapsed:    0.0s finished\n"
     ]
    }
   ],
   "source": [
    "# Fit bagging classifier\n",
    "bag_log.fit(smX_train, smy_train)\n",
    "y_pred = bag_log.predict(X_test)\n",
    "\n",
    "# Evaluation Metrics\n",
    "evaluation(y_test,y_pred)"
   ]
  },
  {
   "cell_type": "markdown",
   "metadata": {},
   "source": [
    "- The Bagging classifer made only minute changes to the evaluation metrics.  We decided to look at some other models and compare the results."
   ]
  },
  {
   "cell_type": "markdown",
   "metadata": {},
   "source": [
    "## Decision Tree"
   ]
  },
  {
   "cell_type": "markdown",
   "metadata": {},
   "source": [
    "- The next model we tried was a decision tree.  Again we compared the imbalanced and SMOTE data sets on baseline models to observe the effect on the metrics.  With the SMOTE data set, decision tree produced very good metrics with all default hyperparamers.  The most important features where abnormal_short_term_variability, and mean_value_of_short_term_variability\t"
   ]
  },
  {
   "cell_type": "code",
   "execution_count": 21,
   "metadata": {
    "ExecuteTime": {
     "end_time": "2021-03-16T23:59:26.804648Z",
     "start_time": "2021-03-16T23:59:26.778582Z"
    }
   },
   "outputs": [],
   "source": [
    "#Train decision tree with train set and predict on the test set\n",
    "tree = DecisionTreeClassifier()\n",
    "tree = tree.fit(X_train,y_train)\n",
    "y_pred = tree.predict(X_test)"
   ]
  },
  {
   "cell_type": "code",
   "execution_count": 22,
   "metadata": {
    "ExecuteTime": {
     "end_time": "2021-03-16T23:59:27.702261Z",
     "start_time": "2021-03-16T23:59:27.687028Z"
    }
   },
   "outputs": [
    {
     "name": "stdout",
     "output_type": "stream",
     "text": [
      "Evaluation Metrics:\n",
      "Accuracy: 0.9172932330827067\n",
      "Precision: 0.9506172839506173\n",
      "Recall: 0.941320293398533\n",
      "F1 Score: 0.9459459459459458\n"
     ]
    }
   ],
   "source": [
    "#Evaluation metrics\n",
    "evaluation(y_test, y_pred)"
   ]
  },
  {
   "cell_type": "code",
   "execution_count": 23,
   "metadata": {
    "ExecuteTime": {
     "end_time": "2021-03-16T23:59:28.848117Z",
     "start_time": "2021-03-16T23:59:28.800337Z"
    }
   },
   "outputs": [],
   "source": [
    "#Decision tree with smote dataset\n",
    "smtree = DecisionTreeClassifier()\n",
    "smtree.fit(smX_train,smy_train)\n",
    "y_pred = smtree.predict(X_test)"
   ]
  },
  {
   "cell_type": "code",
   "execution_count": 24,
   "metadata": {
    "ExecuteTime": {
     "end_time": "2021-03-16T23:59:30.341821Z",
     "start_time": "2021-03-16T23:59:30.329632Z"
    }
   },
   "outputs": [
    {
     "name": "stdout",
     "output_type": "stream",
     "text": [
      "Evaluation Metrics:\n",
      "Accuracy: 0.9417293233082706\n",
      "Precision: 0.9609756097560975\n",
      "Recall: 0.9633251833740831\n",
      "F1 Score: 0.9621489621489621\n"
     ]
    }
   ],
   "source": [
    "#evaluation Metrics\n",
    "evaluation(y_test, y_pred)"
   ]
  },
  {
   "cell_type": "code",
   "execution_count": 71,
   "metadata": {
    "ExecuteTime": {
     "end_time": "2021-03-16T22:28:14.971219Z",
     "start_time": "2021-03-16T22:28:14.900977Z"
    }
   },
   "outputs": [
    {
     "data": {
      "text/html": [
       "<div>\n",
       "<style scoped>\n",
       "    .dataframe tbody tr th:only-of-type {\n",
       "        vertical-align: middle;\n",
       "    }\n",
       "\n",
       "    .dataframe tbody tr th {\n",
       "        vertical-align: top;\n",
       "    }\n",
       "\n",
       "    .dataframe thead th {\n",
       "        text-align: right;\n",
       "    }\n",
       "</style>\n",
       "<table border=\"1\" class=\"dataframe\">\n",
       "  <thead>\n",
       "    <tr style=\"text-align: right;\">\n",
       "      <th></th>\n",
       "      <th>0</th>\n",
       "      <th>1</th>\n",
       "      <th>2</th>\n",
       "      <th>3</th>\n",
       "      <th>4</th>\n",
       "      <th>5</th>\n",
       "      <th>6</th>\n",
       "      <th>7</th>\n",
       "      <th>8</th>\n",
       "      <th>9</th>\n",
       "      <th>10</th>\n",
       "      <th>11</th>\n",
       "      <th>12</th>\n",
       "      <th>13</th>\n",
       "      <th>14</th>\n",
       "      <th>15</th>\n",
       "      <th>16</th>\n",
       "      <th>17</th>\n",
       "      <th>18</th>\n",
       "      <th>19</th>\n",
       "      <th>20</th>\n",
       "      <th>21</th>\n",
       "      <th>22</th>\n",
       "      <th>23</th>\n",
       "      <th>24</th>\n",
       "      <th>25</th>\n",
       "      <th>26</th>\n",
       "      <th>27</th>\n",
       "      <th>28</th>\n",
       "      <th>29</th>\n",
       "      <th>30</th>\n",
       "      <th>31</th>\n",
       "      <th>32</th>\n",
       "      <th>33</th>\n",
       "      <th>34</th>\n",
       "      <th>35</th>\n",
       "      <th>36</th>\n",
       "      <th>37</th>\n",
       "      <th>38</th>\n",
       "      <th>39</th>\n",
       "    </tr>\n",
       "  </thead>\n",
       "  <tbody>\n",
       "    <tr>\n",
       "      <th>features</th>\n",
       "      <td>baseline value</td>\n",
       "      <td>accelerations</td>\n",
       "      <td>fetal_movement</td>\n",
       "      <td>uterine_contractions</td>\n",
       "      <td>light_decelerations</td>\n",
       "      <td>prolongued_decelerations</td>\n",
       "      <td>abnormal_short_term_variability</td>\n",
       "      <td>mean_value_of_short_term_variability</td>\n",
       "      <td>percentage_of_time_with_abnormal_long_term_var...</td>\n",
       "      <td>mean_value_of_long_term_variability</td>\n",
       "      <td>histogram_width</td>\n",
       "      <td>histogram_min</td>\n",
       "      <td>histogram_max</td>\n",
       "      <td>histogram_number_of_peaks</td>\n",
       "      <td>histogram_mode</td>\n",
       "      <td>histogram_mean</td>\n",
       "      <td>histogram_median</td>\n",
       "      <td>histogram_variance</td>\n",
       "      <td>uterine_cont_per_min</td>\n",
       "      <td>total_change</td>\n",
       "      <td>sqrt_total_change</td>\n",
       "      <td>hist_zeros_1.0</td>\n",
       "      <td>hist_zeros_2.0</td>\n",
       "      <td>hist_zeros_3.0</td>\n",
       "      <td>hist_zeros_4.0</td>\n",
       "      <td>hist_zeros_5.0</td>\n",
       "      <td>hist_zeros_7.0</td>\n",
       "      <td>hist_zeros_8.0</td>\n",
       "      <td>hist_zeros_10.0</td>\n",
       "      <td>hist_tendancy_0.0</td>\n",
       "      <td>hist_tendancy_1.0</td>\n",
       "      <td>sev_decel_0.001</td>\n",
       "      <td>quant_acc_1</td>\n",
       "      <td>quant_light_dec_1</td>\n",
       "      <td>quant_hist_mean_1</td>\n",
       "      <td>quant_hist_mean_2</td>\n",
       "      <td>quant_hist_mean_3</td>\n",
       "      <td>quant_hist_mean_4</td>\n",
       "      <td>quant_hist_mean_5</td>\n",
       "      <td>quant_hist_mean_6</td>\n",
       "    </tr>\n",
       "    <tr>\n",
       "      <th>importance</th>\n",
       "      <td>0.04</td>\n",
       "      <td>0.02</td>\n",
       "      <td>0.01</td>\n",
       "      <td>0.00</td>\n",
       "      <td>0.00</td>\n",
       "      <td>0.03</td>\n",
       "      <td>0.35</td>\n",
       "      <td>0.11</td>\n",
       "      <td>0.04</td>\n",
       "      <td>0.01</td>\n",
       "      <td>0.02</td>\n",
       "      <td>0.03</td>\n",
       "      <td>0.04</td>\n",
       "      <td>0.02</td>\n",
       "      <td>0.00</td>\n",
       "      <td>0.17</td>\n",
       "      <td>0.02</td>\n",
       "      <td>0.01</td>\n",
       "      <td>0.01</td>\n",
       "      <td>0.05</td>\n",
       "      <td>0.00</td>\n",
       "      <td>0.00</td>\n",
       "      <td>0.00</td>\n",
       "      <td>0.00</td>\n",
       "      <td>0.00</td>\n",
       "      <td>0.00</td>\n",
       "      <td>0.00</td>\n",
       "      <td>0.00</td>\n",
       "      <td>0.00</td>\n",
       "      <td>0.00</td>\n",
       "      <td>0.00</td>\n",
       "      <td>0.00</td>\n",
       "      <td>0.00</td>\n",
       "      <td>0.00</td>\n",
       "      <td>0.00</td>\n",
       "      <td>0.00</td>\n",
       "      <td>0.00</td>\n",
       "      <td>0.00</td>\n",
       "      <td>0.00</td>\n",
       "      <td>0.00</td>\n",
       "    </tr>\n",
       "    <tr>\n",
       "      <th>sm_importance</th>\n",
       "      <td>0.04</td>\n",
       "      <td>0.02</td>\n",
       "      <td>0.01</td>\n",
       "      <td>0.00</td>\n",
       "      <td>0.00</td>\n",
       "      <td>0.03</td>\n",
       "      <td>0.35</td>\n",
       "      <td>0.11</td>\n",
       "      <td>0.04</td>\n",
       "      <td>0.01</td>\n",
       "      <td>0.02</td>\n",
       "      <td>0.03</td>\n",
       "      <td>0.04</td>\n",
       "      <td>0.02</td>\n",
       "      <td>0.00</td>\n",
       "      <td>0.17</td>\n",
       "      <td>0.02</td>\n",
       "      <td>0.01</td>\n",
       "      <td>0.01</td>\n",
       "      <td>0.05</td>\n",
       "      <td>0.00</td>\n",
       "      <td>0.00</td>\n",
       "      <td>0.00</td>\n",
       "      <td>0.00</td>\n",
       "      <td>0.00</td>\n",
       "      <td>0.00</td>\n",
       "      <td>0.00</td>\n",
       "      <td>0.00</td>\n",
       "      <td>0.00</td>\n",
       "      <td>0.00</td>\n",
       "      <td>0.00</td>\n",
       "      <td>0.00</td>\n",
       "      <td>0.00</td>\n",
       "      <td>0.00</td>\n",
       "      <td>0.00</td>\n",
       "      <td>0.00</td>\n",
       "      <td>0.00</td>\n",
       "      <td>0.00</td>\n",
       "      <td>0.00</td>\n",
       "      <td>0.00</td>\n",
       "    </tr>\n",
       "  </tbody>\n",
       "</table>\n",
       "</div>"
      ],
      "text/plain": [
       "                            0              1               2  \\\n",
       "features       baseline value  accelerations  fetal_movement   \n",
       "importance               0.04           0.02            0.01   \n",
       "sm_importance            0.04           0.02            0.01   \n",
       "\n",
       "                                  3                    4  \\\n",
       "features       uterine_contractions  light_decelerations   \n",
       "importance                     0.00                 0.00   \n",
       "sm_importance                  0.00                 0.00   \n",
       "\n",
       "                                      5                                6  \\\n",
       "features       prolongued_decelerations  abnormal_short_term_variability   \n",
       "importance                         0.03                             0.35   \n",
       "sm_importance                      0.03                             0.35   \n",
       "\n",
       "                                                  7  \\\n",
       "features       mean_value_of_short_term_variability   \n",
       "importance                                     0.11   \n",
       "sm_importance                                  0.11   \n",
       "\n",
       "                                                               8  \\\n",
       "features       percentage_of_time_with_abnormal_long_term_var...   \n",
       "importance                                                  0.04   \n",
       "sm_importance                                               0.04   \n",
       "\n",
       "                                                 9               10  \\\n",
       "features       mean_value_of_long_term_variability  histogram_width   \n",
       "importance                                    0.01             0.02   \n",
       "sm_importance                                 0.01             0.02   \n",
       "\n",
       "                          11             12                         13  \\\n",
       "features       histogram_min  histogram_max  histogram_number_of_peaks   \n",
       "importance              0.03           0.04                       0.02   \n",
       "sm_importance           0.03           0.04                       0.02   \n",
       "\n",
       "                           14              15                16  \\\n",
       "features       histogram_mode  histogram_mean  histogram_median   \n",
       "importance               0.00            0.17              0.02   \n",
       "sm_importance            0.00            0.17              0.02   \n",
       "\n",
       "                               17                    18            19  \\\n",
       "features       histogram_variance  uterine_cont_per_min  total_change   \n",
       "importance                   0.01                  0.01          0.05   \n",
       "sm_importance                0.01                  0.01          0.05   \n",
       "\n",
       "                              20              21              22  \\\n",
       "features       sqrt_total_change  hist_zeros_1.0  hist_zeros_2.0   \n",
       "importance                  0.00            0.00            0.00   \n",
       "sm_importance               0.00            0.00            0.00   \n",
       "\n",
       "                           23              24              25              26  \\\n",
       "features       hist_zeros_3.0  hist_zeros_4.0  hist_zeros_5.0  hist_zeros_7.0   \n",
       "importance               0.00            0.00            0.00            0.00   \n",
       "sm_importance            0.00            0.00            0.00            0.00   \n",
       "\n",
       "                           27               28                 29  \\\n",
       "features       hist_zeros_8.0  hist_zeros_10.0  hist_tendancy_0.0   \n",
       "importance               0.00             0.00               0.00   \n",
       "sm_importance            0.00             0.00               0.00   \n",
       "\n",
       "                              30               31           32  \\\n",
       "features       hist_tendancy_1.0  sev_decel_0.001  quant_acc_1   \n",
       "importance                  0.00             0.00         0.00   \n",
       "sm_importance               0.00             0.00         0.00   \n",
       "\n",
       "                              33                 34                 35  \\\n",
       "features       quant_light_dec_1  quant_hist_mean_1  quant_hist_mean_2   \n",
       "importance                  0.00               0.00               0.00   \n",
       "sm_importance               0.00               0.00               0.00   \n",
       "\n",
       "                              36                 37                 38  \\\n",
       "features       quant_hist_mean_3  quant_hist_mean_4  quant_hist_mean_5   \n",
       "importance                  0.00               0.00               0.00   \n",
       "sm_importance               0.00               0.00               0.00   \n",
       "\n",
       "                              39  \n",
       "features       quant_hist_mean_6  \n",
       "importance                  0.00  \n",
       "sm_importance               0.00  "
      ]
     },
     "execution_count": 71,
     "metadata": {},
     "output_type": "execute_result"
    }
   ],
   "source": [
    "#Table for decision tree feature coefficients\n",
    "coef_table = pd.DataFrame(list(X_train.columns)).copy()\n",
    "coef_table.insert(len(coef_table.columns),\"Coefs\",tree.feature_importances_.transpose())\n",
    "\n",
    "coef_table_2 = pd.DataFrame(list(smX_train.columns)).copy()\n",
    "coef_table_2.insert(len(coef_table_2.columns),'sm_Coefs',tree.feature_importances_.transpose())\n",
    "\n",
    "smote_vs_coef = pd.concat([coef_table,coef_table_2],axis=1)\n",
    "smote_vs_coef.columns = ['features','importance','del','sm_importance']\n",
    "del smote_vs_coef['del']\n",
    "smote_vs_coef.transpose()"
   ]
  },
  {
   "cell_type": "markdown",
   "metadata": {},
   "source": [
    "## Random Forest"
   ]
  },
  {
   "cell_type": "markdown",
   "metadata": {},
   "source": [
    "- As we did above we used the SMOTE and imbalanced data and this time trained a random forest classifer.  \n"
   ]
  },
  {
   "cell_type": "code",
   "execution_count": 72,
   "metadata": {
    "ExecuteTime": {
     "end_time": "2021-03-16T22:28:18.418705Z",
     "start_time": "2021-03-16T22:28:18.170638Z"
    }
   },
   "outputs": [
    {
     "name": "stderr",
     "output_type": "stream",
     "text": [
      "[Parallel(n_jobs=-1)]: Done  34 tasks      | elapsed:    0.1s\n",
      "[Parallel(n_jobs=-1)]: Done  50 out of  50 | elapsed:    0.1s finished\n",
      "[Parallel(n_jobs=8)]: Done  34 tasks      | elapsed:    0.0s\n",
      "[Parallel(n_jobs=8)]: Done  50 out of  50 | elapsed:    0.0s finished\n"
     ]
    }
   ],
   "source": [
    "#Random Forest classifier using 50 estimators and a max depth of 3\n",
    "rfc = RandomForestClassifier(random_state =1, n_estimators= 50, max_depth = 3, n_jobs =-1,verbose=1)\n",
    "rfc.fit(X_train,y_train)\n",
    "y_pred = rfc.predict(X_test)"
   ]
  },
  {
   "cell_type": "code",
   "execution_count": 73,
   "metadata": {
    "ExecuteTime": {
     "end_time": "2021-03-16T22:28:18.804622Z",
     "start_time": "2021-03-16T22:28:18.784045Z"
    },
    "scrolled": true
   },
   "outputs": [
    {
     "name": "stdout",
     "output_type": "stream",
     "text": [
      "Evaluation Metrics:\n",
      "Accuracy: 0.900375939849624\n",
      "Recall: 0.9828850855745721\n",
      "F1 Score: 0.9381563593932323\n",
      "Precision: 0.8973214285714286\n",
      "\n",
      "Confusion Matrix:\n",
      " TN,  FP, FN, TP\n",
      "[402   7  46  77]\n"
     ]
    }
   ],
   "source": [
    "#Evaluation metrics for random forest\n",
    "evaluation(y_test, y_pred)"
   ]
  },
  {
   "cell_type": "code",
   "execution_count": 74,
   "metadata": {
    "ExecuteTime": {
     "end_time": "2021-03-16T22:28:19.977184Z",
     "start_time": "2021-03-16T22:28:19.609669Z"
    }
   },
   "outputs": [
    {
     "name": "stderr",
     "output_type": "stream",
     "text": [
      "[Parallel(n_jobs=-1)]: Done  34 tasks      | elapsed:    0.1s\n",
      "[Parallel(n_jobs=-1)]: Done  50 out of  50 | elapsed:    0.1s finished\n",
      "[Parallel(n_jobs=8)]: Done  34 tasks      | elapsed:    0.0s\n",
      "[Parallel(n_jobs=8)]: Done  50 out of  50 | elapsed:    0.0s finished\n"
     ]
    },
    {
     "name": "stdout",
     "output_type": "stream",
     "text": [
      "Evaluation Metrics:\n",
      "Accuracy: 0.9116541353383458\n",
      "Recall: 0.9290953545232273\n",
      "F1 Score: 0.9417596034696406\n",
      "Precision: 0.9547738693467337\n",
      "\n",
      "Confusion Matrix:\n",
      " TN,  FP, FN, TP\n",
      "[380  29  18 105]\n"
     ]
    }
   ],
   "source": [
    "#Random Forest classifier using 50 estimators and a max depth of 3 using SMOTE dataset\n",
    "smrfc = RandomForestClassifier(random_state =1, n_estimators= 50, max_depth = 3, n_jobs =-1,verbose=1)\n",
    "smrfc.fit(smX_train,smy_train)\n",
    "y_pred = smrfc.predict(X_test)\n",
    "\n",
    "evaluation(y_test, y_pred)"
   ]
  },
  {
   "cell_type": "code",
   "execution_count": 76,
   "metadata": {
    "ExecuteTime": {
     "end_time": "2021-03-16T22:28:29.768145Z",
     "start_time": "2021-03-16T22:28:29.516931Z"
    }
   },
   "outputs": [
    {
     "data": {
      "text/html": [
       "<div>\n",
       "<style scoped>\n",
       "    .dataframe tbody tr th:only-of-type {\n",
       "        vertical-align: middle;\n",
       "    }\n",
       "\n",
       "    .dataframe tbody tr th {\n",
       "        vertical-align: top;\n",
       "    }\n",
       "\n",
       "    .dataframe thead th {\n",
       "        text-align: right;\n",
       "    }\n",
       "</style>\n",
       "<table border=\"1\" class=\"dataframe\">\n",
       "  <thead>\n",
       "    <tr style=\"text-align: right;\">\n",
       "      <th></th>\n",
       "      <th>0</th>\n",
       "      <th>1</th>\n",
       "      <th>2</th>\n",
       "      <th>3</th>\n",
       "      <th>4</th>\n",
       "      <th>5</th>\n",
       "      <th>6</th>\n",
       "      <th>7</th>\n",
       "      <th>8</th>\n",
       "      <th>9</th>\n",
       "      <th>10</th>\n",
       "      <th>11</th>\n",
       "      <th>12</th>\n",
       "      <th>13</th>\n",
       "      <th>14</th>\n",
       "      <th>15</th>\n",
       "      <th>16</th>\n",
       "      <th>17</th>\n",
       "      <th>18</th>\n",
       "      <th>19</th>\n",
       "      <th>20</th>\n",
       "      <th>21</th>\n",
       "      <th>22</th>\n",
       "      <th>23</th>\n",
       "      <th>24</th>\n",
       "      <th>25</th>\n",
       "      <th>26</th>\n",
       "      <th>27</th>\n",
       "      <th>28</th>\n",
       "      <th>29</th>\n",
       "      <th>30</th>\n",
       "      <th>31</th>\n",
       "      <th>32</th>\n",
       "      <th>33</th>\n",
       "      <th>34</th>\n",
       "      <th>35</th>\n",
       "      <th>36</th>\n",
       "      <th>37</th>\n",
       "      <th>38</th>\n",
       "      <th>39</th>\n",
       "    </tr>\n",
       "  </thead>\n",
       "  <tbody>\n",
       "    <tr>\n",
       "      <th>features</th>\n",
       "      <td>baseline value</td>\n",
       "      <td>accelerations</td>\n",
       "      <td>fetal_movement</td>\n",
       "      <td>uterine_contractions</td>\n",
       "      <td>light_decelerations</td>\n",
       "      <td>prolongued_decelerations</td>\n",
       "      <td>abnormal_short_term_variability</td>\n",
       "      <td>mean_value_of_short_term_variability</td>\n",
       "      <td>percentage_of_time_with_abnormal_long_term_var...</td>\n",
       "      <td>mean_value_of_long_term_variability</td>\n",
       "      <td>histogram_width</td>\n",
       "      <td>histogram_min</td>\n",
       "      <td>histogram_max</td>\n",
       "      <td>histogram_number_of_peaks</td>\n",
       "      <td>histogram_mode</td>\n",
       "      <td>histogram_mean</td>\n",
       "      <td>histogram_median</td>\n",
       "      <td>histogram_variance</td>\n",
       "      <td>uterine_cont_per_min</td>\n",
       "      <td>total_change</td>\n",
       "      <td>sqrt_total_change</td>\n",
       "      <td>hist_zeros_1.0</td>\n",
       "      <td>hist_zeros_2.0</td>\n",
       "      <td>hist_zeros_3.0</td>\n",
       "      <td>hist_zeros_4.0</td>\n",
       "      <td>hist_zeros_5.0</td>\n",
       "      <td>hist_zeros_7.0</td>\n",
       "      <td>hist_zeros_8.0</td>\n",
       "      <td>hist_zeros_10.0</td>\n",
       "      <td>hist_tendancy_0.0</td>\n",
       "      <td>hist_tendancy_1.0</td>\n",
       "      <td>sev_decel_0.001</td>\n",
       "      <td>quant_acc_1</td>\n",
       "      <td>quant_light_dec_1</td>\n",
       "      <td>quant_hist_mean_1</td>\n",
       "      <td>quant_hist_mean_2</td>\n",
       "      <td>quant_hist_mean_3</td>\n",
       "      <td>quant_hist_mean_4</td>\n",
       "      <td>quant_hist_mean_5</td>\n",
       "      <td>quant_hist_mean_6</td>\n",
       "    </tr>\n",
       "    <tr>\n",
       "      <th>importance_baseline</th>\n",
       "      <td>0.01</td>\n",
       "      <td>0.10</td>\n",
       "      <td>0.00</td>\n",
       "      <td>0.01</td>\n",
       "      <td>0.00</td>\n",
       "      <td>0.09</td>\n",
       "      <td>0.16</td>\n",
       "      <td>0.15</td>\n",
       "      <td>0.09</td>\n",
       "      <td>0.01</td>\n",
       "      <td>0.02</td>\n",
       "      <td>0.03</td>\n",
       "      <td>0.00</td>\n",
       "      <td>0.00</td>\n",
       "      <td>0.03</td>\n",
       "      <td>0.10</td>\n",
       "      <td>0.05</td>\n",
       "      <td>0.04</td>\n",
       "      <td>0.03</td>\n",
       "      <td>0.03</td>\n",
       "      <td>0.02</td>\n",
       "      <td>0.00</td>\n",
       "      <td>0.00</td>\n",
       "      <td>0.00</td>\n",
       "      <td>0.00</td>\n",
       "      <td>0.00</td>\n",
       "      <td>0.00</td>\n",
       "      <td>0.00</td>\n",
       "      <td>0.00</td>\n",
       "      <td>0.00</td>\n",
       "      <td>0.00</td>\n",
       "      <td>0.00</td>\n",
       "      <td>0.01</td>\n",
       "      <td>0.00</td>\n",
       "      <td>0.00</td>\n",
       "      <td>0.00</td>\n",
       "      <td>0.00</td>\n",
       "      <td>0.00</td>\n",
       "      <td>0.00</td>\n",
       "      <td>0.00</td>\n",
       "    </tr>\n",
       "    <tr>\n",
       "      <th>sm_importance_baseline</th>\n",
       "      <td>0.02</td>\n",
       "      <td>0.20</td>\n",
       "      <td>0.00</td>\n",
       "      <td>0.02</td>\n",
       "      <td>0.00</td>\n",
       "      <td>0.09</td>\n",
       "      <td>0.17</td>\n",
       "      <td>0.10</td>\n",
       "      <td>0.08</td>\n",
       "      <td>0.01</td>\n",
       "      <td>0.01</td>\n",
       "      <td>0.05</td>\n",
       "      <td>0.01</td>\n",
       "      <td>0.00</td>\n",
       "      <td>0.01</td>\n",
       "      <td>0.06</td>\n",
       "      <td>0.02</td>\n",
       "      <td>0.04</td>\n",
       "      <td>0.04</td>\n",
       "      <td>0.02</td>\n",
       "      <td>0.01</td>\n",
       "      <td>0.00</td>\n",
       "      <td>0.00</td>\n",
       "      <td>0.00</td>\n",
       "      <td>0.00</td>\n",
       "      <td>0.00</td>\n",
       "      <td>0.00</td>\n",
       "      <td>0.00</td>\n",
       "      <td>0.00</td>\n",
       "      <td>0.00</td>\n",
       "      <td>0.00</td>\n",
       "      <td>0.00</td>\n",
       "      <td>0.02</td>\n",
       "      <td>0.00</td>\n",
       "      <td>0.00</td>\n",
       "      <td>0.00</td>\n",
       "      <td>0.00</td>\n",
       "      <td>0.00</td>\n",
       "      <td>0.00</td>\n",
       "      <td>0.00</td>\n",
       "    </tr>\n",
       "  </tbody>\n",
       "</table>\n",
       "</div>"
      ],
      "text/plain": [
       "                                     0              1               2  \\\n",
       "features                baseline value  accelerations  fetal_movement   \n",
       "importance_baseline               0.01           0.10            0.00   \n",
       "sm_importance_baseline            0.02           0.20            0.00   \n",
       "\n",
       "                                           3                    4  \\\n",
       "features                uterine_contractions  light_decelerations   \n",
       "importance_baseline                     0.01                 0.00   \n",
       "sm_importance_baseline                  0.02                 0.00   \n",
       "\n",
       "                                               5  \\\n",
       "features                prolongued_decelerations   \n",
       "importance_baseline                         0.09   \n",
       "sm_importance_baseline                      0.09   \n",
       "\n",
       "                                                      6  \\\n",
       "features                abnormal_short_term_variability   \n",
       "importance_baseline                                0.16   \n",
       "sm_importance_baseline                             0.17   \n",
       "\n",
       "                                                           7  \\\n",
       "features                mean_value_of_short_term_variability   \n",
       "importance_baseline                                     0.15   \n",
       "sm_importance_baseline                                  0.10   \n",
       "\n",
       "                                                                        8  \\\n",
       "features                percentage_of_time_with_abnormal_long_term_var...   \n",
       "importance_baseline                                                  0.09   \n",
       "sm_importance_baseline                                               0.08   \n",
       "\n",
       "                                                          9               10  \\\n",
       "features                mean_value_of_long_term_variability  histogram_width   \n",
       "importance_baseline                                    0.01             0.02   \n",
       "sm_importance_baseline                                 0.01             0.01   \n",
       "\n",
       "                                   11             12  \\\n",
       "features                histogram_min  histogram_max   \n",
       "importance_baseline              0.03           0.00   \n",
       "sm_importance_baseline           0.05           0.01   \n",
       "\n",
       "                                               13              14  \\\n",
       "features                histogram_number_of_peaks  histogram_mode   \n",
       "importance_baseline                          0.00            0.03   \n",
       "sm_importance_baseline                       0.00            0.01   \n",
       "\n",
       "                                    15                16                  17  \\\n",
       "features                histogram_mean  histogram_median  histogram_variance   \n",
       "importance_baseline               0.10              0.05                0.04   \n",
       "sm_importance_baseline            0.06              0.02                0.04   \n",
       "\n",
       "                                          18            19                 20  \\\n",
       "features                uterine_cont_per_min  total_change  sqrt_total_change   \n",
       "importance_baseline                     0.03          0.03               0.02   \n",
       "sm_importance_baseline                  0.04          0.02               0.01   \n",
       "\n",
       "                                    21              22              23  \\\n",
       "features                hist_zeros_1.0  hist_zeros_2.0  hist_zeros_3.0   \n",
       "importance_baseline               0.00            0.00            0.00   \n",
       "sm_importance_baseline            0.00            0.00            0.00   \n",
       "\n",
       "                                    24              25              26  \\\n",
       "features                hist_zeros_4.0  hist_zeros_5.0  hist_zeros_7.0   \n",
       "importance_baseline               0.00            0.00            0.00   \n",
       "sm_importance_baseline            0.00            0.00            0.00   \n",
       "\n",
       "                                    27               28                 29  \\\n",
       "features                hist_zeros_8.0  hist_zeros_10.0  hist_tendancy_0.0   \n",
       "importance_baseline               0.00             0.00               0.00   \n",
       "sm_importance_baseline            0.00             0.00               0.00   \n",
       "\n",
       "                                       30               31           32  \\\n",
       "features                hist_tendancy_1.0  sev_decel_0.001  quant_acc_1   \n",
       "importance_baseline                  0.00             0.00         0.01   \n",
       "sm_importance_baseline               0.00             0.00         0.02   \n",
       "\n",
       "                                       33                 34  \\\n",
       "features                quant_light_dec_1  quant_hist_mean_1   \n",
       "importance_baseline                  0.00               0.00   \n",
       "sm_importance_baseline               0.00               0.00   \n",
       "\n",
       "                                       35                 36  \\\n",
       "features                quant_hist_mean_2  quant_hist_mean_3   \n",
       "importance_baseline                  0.00               0.00   \n",
       "sm_importance_baseline               0.00               0.00   \n",
       "\n",
       "                                       37                 38  \\\n",
       "features                quant_hist_mean_4  quant_hist_mean_5   \n",
       "importance_baseline                  0.00               0.00   \n",
       "sm_importance_baseline               0.00               0.00   \n",
       "\n",
       "                                       39  \n",
       "features                quant_hist_mean_6  \n",
       "importance_baseline                  0.00  \n",
       "sm_importance_baseline               0.00  "
      ]
     },
     "execution_count": 76,
     "metadata": {},
     "output_type": "execute_result"
    }
   ],
   "source": [
    "#Create table of feature coefficients\n",
    "coef_table = pd.DataFrame(list(X_train.columns)).copy()\n",
    "coef_table.insert(len(coef_table.columns),\"Coefs\",rfc.feature_importances_.transpose())\n",
    "\n",
    "coef_table_2 = pd.DataFrame(list(smX_train.columns)).copy()\n",
    "coef_table_2.insert(len(coef_table_2.columns),'sm_Coefs',smrfc.feature_importances_.transpose())\n",
    "\n",
    "smote_vs_coef = pd.concat([coef_table,coef_table_2],axis=1)\n",
    "smote_vs_coef.columns = ['features','importance_baseline','del','sm_importance_baseline']\n",
    "del smote_vs_coef['del']\n",
    "smote_vs_coef.transpose()"
   ]
  },
  {
   "cell_type": "markdown",
   "metadata": {},
   "source": [
    "## Grid Search Random Forest\n",
    "- We ran a gridsearch on the random forest to identify what the best hyperparamters where for the model.  We checked several estimator sizes, max depth and min weight fraction leaf to find the ideal parameters.  "
   ]
  },
  {
   "cell_type": "code",
   "execution_count": 77,
   "metadata": {
    "ExecuteTime": {
     "end_time": "2021-03-16T22:28:36.924820Z",
     "start_time": "2021-03-16T22:28:36.920675Z"
    }
   },
   "outputs": [],
   "source": [
    "#parameter grid for grid search with lists of estimators, both criterion, a list of max depths sqrt max features \n",
    "#and a list of min weight fraction leaf\n",
    "parameters = {\n",
    "    'n_estimators': [25,50,100,300,500],\n",
    "    'criterion' : ['gini','entropy'],\n",
    "    'max_depth' : [8,9,10,11,12],\n",
    "    'max_features' : ['sqrt'],\n",
    "    'min_weight_fraction_leaf' : [0,0.1,0.3,0.5],\n",
    "}"
   ]
  },
  {
   "cell_type": "code",
   "execution_count": 78,
   "metadata": {
    "ExecuteTime": {
     "end_time": "2021-03-16T22:28:38.188090Z",
     "start_time": "2021-03-16T22:28:38.184978Z"
    }
   },
   "outputs": [],
   "source": [
    "#Gridsearch with random forest\n",
    "grid_tree=GridSearchCV(RandomForestClassifier(), parameters, cv=15, scoring='f1', verbose=1, n_jobs=-1)"
   ]
  },
  {
   "cell_type": "code",
   "execution_count": 79,
   "metadata": {
    "ExecuteTime": {
     "end_time": "2021-03-16T22:36:18.477616Z",
     "start_time": "2021-03-16T22:28:47.460321Z"
    }
   },
   "outputs": [
    {
     "name": "stdout",
     "output_type": "stream",
     "text": [
      "Fitting 15 folds for each of 200 candidates, totalling 3000 fits\n"
     ]
    },
    {
     "name": "stderr",
     "output_type": "stream",
     "text": [
      "[Parallel(n_jobs=-1)]: Done  34 tasks      | elapsed:    2.4s\n",
      "[Parallel(n_jobs=-1)]: Done 184 tasks      | elapsed:   26.3s\n",
      "[Parallel(n_jobs=-1)]: Done 434 tasks      | elapsed:  1.1min\n",
      "[Parallel(n_jobs=-1)]: Done 784 tasks      | elapsed:  1.9min\n",
      "[Parallel(n_jobs=-1)]: Done 1234 tasks      | elapsed:  2.9min\n",
      "[Parallel(n_jobs=-1)]: Done 1784 tasks      | elapsed:  4.1min\n",
      "[Parallel(n_jobs=-1)]: Done 2434 tasks      | elapsed:  5.7min\n",
      "[Parallel(n_jobs=-1)]: Done 3000 out of 3000 | elapsed:  7.5min finished\n"
     ]
    },
    {
     "data": {
      "text/plain": [
       "GridSearchCV(cv=15, error_score=nan,\n",
       "             estimator=RandomForestClassifier(bootstrap=True, ccp_alpha=0.0,\n",
       "                                              class_weight=None,\n",
       "                                              criterion='gini', max_depth=None,\n",
       "                                              max_features='auto',\n",
       "                                              max_leaf_nodes=None,\n",
       "                                              max_samples=None,\n",
       "                                              min_impurity_decrease=0.0,\n",
       "                                              min_impurity_split=None,\n",
       "                                              min_samples_leaf=1,\n",
       "                                              min_samples_split=2,\n",
       "                                              min_weight_fraction_leaf=0.0,\n",
       "                                              n_estimators=100, n_jobs=None,\n",
       "                                              oob_score=False,\n",
       "                                              random_state=None, verbose=0,\n",
       "                                              warm_start=False),\n",
       "             iid='deprecated', n_jobs=-1,\n",
       "             param_grid={'criterion': ['gini', 'entropy'],\n",
       "                         'max_depth': [8, 9, 10, 11, 12],\n",
       "                         'max_features': ['sqrt'],\n",
       "                         'min_weight_fraction_leaf': [0, 0.1, 0.3, 0.5],\n",
       "                         'n_estimators': [25, 50, 100, 300, 500]},\n",
       "             pre_dispatch='2*n_jobs', refit=True, return_train_score=False,\n",
       "             scoring='f1', verbose=1)"
      ]
     },
     "execution_count": 79,
     "metadata": {},
     "output_type": "execute_result"
    }
   ],
   "source": [
    "# Fit random forest grid serch to SMOTE train set\n",
    "grid_tree.fit(smX_train, smy_train)"
   ]
  },
  {
   "cell_type": "code",
   "execution_count": 81,
   "metadata": {
    "ExecuteTime": {
     "end_time": "2021-03-16T22:36:18.507581Z",
     "start_time": "2021-03-16T22:36:18.489218Z"
    }
   },
   "outputs": [
    {
     "name": "stdout",
     "output_type": "stream",
     "text": [
      "0.9758427988566839\n",
      "\n",
      "{'criterion': 'gini', 'max_depth': 11, 'max_features': 'sqrt', 'min_weight_fraction_leaf': 0, 'n_estimators': 500}\n",
      "\n",
      "RandomForestClassifier(bootstrap=True, ccp_alpha=0.0, class_weight=None,\n",
      "                       criterion='gini', max_depth=11, max_features='sqrt',\n",
      "                       max_leaf_nodes=None, max_samples=None,\n",
      "                       min_impurity_decrease=0.0, min_impurity_split=None,\n",
      "                       min_samples_leaf=1, min_samples_split=2,\n",
      "                       min_weight_fraction_leaf=0, n_estimators=500,\n",
      "                       n_jobs=None, oob_score=False, random_state=None,\n",
      "                       verbose=0, warm_start=False)\n"
     ]
    }
   ],
   "source": [
    "# Find the best score, best parameters and best estimator for grid search\n",
    "print(grid_tree.best_score_)\n",
    "print()\n",
    "print(grid_tree.best_params_)\n",
    "print()\n",
    "print(grid_tree.best_estimator_)"
   ]
  },
  {
   "cell_type": "code",
   "execution_count": 82,
   "metadata": {
    "ExecuteTime": {
     "end_time": "2021-03-16T22:36:18.628194Z",
     "start_time": "2021-03-16T22:36:18.509834Z"
    }
   },
   "outputs": [
    {
     "name": "stdout",
     "output_type": "stream",
     "text": [
      "Evaluation Metrics:\n",
      "Accuracy: 0.9473684210526315\n",
      "Recall: 0.9755501222493888\n",
      "F1 Score: 0.9661016949152542\n",
      "Precision: 0.9568345323741008\n",
      "\n",
      "Confusion Matrix:\n",
      " TN,  FP, FN, TP\n",
      "[399  10  18 105]\n"
     ]
    }
   ],
   "source": [
    "# Evaluation metrics for random forest gridsearch best parameters\n",
    "y_pred = grid_tree.best_estimator_.predict(X_test)\n",
    "evaluation(y_test,y_pred)"
   ]
  },
  {
   "cell_type": "markdown",
   "metadata": {},
   "source": [
    "**Findings:** \n",
    "- The best parameters for the random forest was a max depth of 11, min weight fraction leave of 0, and 500 estimators.  The Evaluation metrics where our highest score with the experimental set so far.  Below we compared feature importance for the three random forest models we ran and then graphed the top ten important features to visualize there importance for fetal health classification."
   ]
  },
  {
   "cell_type": "code",
   "execution_count": 83,
   "metadata": {
    "ExecuteTime": {
     "end_time": "2021-03-16T22:36:18.730185Z",
     "start_time": "2021-03-16T22:36:18.632236Z"
    }
   },
   "outputs": [
    {
     "data": {
      "text/html": [
       "<div>\n",
       "<style scoped>\n",
       "    .dataframe tbody tr th:only-of-type {\n",
       "        vertical-align: middle;\n",
       "    }\n",
       "\n",
       "    .dataframe tbody tr th {\n",
       "        vertical-align: top;\n",
       "    }\n",
       "\n",
       "    .dataframe thead th {\n",
       "        text-align: right;\n",
       "    }\n",
       "</style>\n",
       "<table border=\"1\" class=\"dataframe\">\n",
       "  <thead>\n",
       "    <tr style=\"text-align: right;\">\n",
       "      <th></th>\n",
       "      <th>0</th>\n",
       "      <th>1</th>\n",
       "      <th>2</th>\n",
       "      <th>3</th>\n",
       "      <th>4</th>\n",
       "      <th>5</th>\n",
       "      <th>6</th>\n",
       "      <th>7</th>\n",
       "      <th>8</th>\n",
       "      <th>9</th>\n",
       "      <th>10</th>\n",
       "      <th>11</th>\n",
       "      <th>12</th>\n",
       "      <th>13</th>\n",
       "      <th>14</th>\n",
       "      <th>15</th>\n",
       "      <th>16</th>\n",
       "      <th>17</th>\n",
       "      <th>18</th>\n",
       "      <th>19</th>\n",
       "      <th>20</th>\n",
       "      <th>21</th>\n",
       "      <th>22</th>\n",
       "      <th>23</th>\n",
       "      <th>24</th>\n",
       "      <th>25</th>\n",
       "      <th>26</th>\n",
       "      <th>27</th>\n",
       "      <th>28</th>\n",
       "      <th>29</th>\n",
       "      <th>30</th>\n",
       "      <th>31</th>\n",
       "      <th>32</th>\n",
       "      <th>33</th>\n",
       "      <th>34</th>\n",
       "      <th>35</th>\n",
       "      <th>36</th>\n",
       "      <th>37</th>\n",
       "      <th>38</th>\n",
       "      <th>39</th>\n",
       "    </tr>\n",
       "  </thead>\n",
       "  <tbody>\n",
       "    <tr>\n",
       "      <th>0</th>\n",
       "      <td>baseline value</td>\n",
       "      <td>accelerations</td>\n",
       "      <td>fetal_movement</td>\n",
       "      <td>uterine_contractions</td>\n",
       "      <td>light_decelerations</td>\n",
       "      <td>prolongued_decelerations</td>\n",
       "      <td>abnormal_short_term_variability</td>\n",
       "      <td>mean_value_of_short_term_variability</td>\n",
       "      <td>percentage_of_time_with_abnormal_long_term_var...</td>\n",
       "      <td>mean_value_of_long_term_variability</td>\n",
       "      <td>histogram_width</td>\n",
       "      <td>histogram_min</td>\n",
       "      <td>histogram_max</td>\n",
       "      <td>histogram_number_of_peaks</td>\n",
       "      <td>histogram_mode</td>\n",
       "      <td>histogram_mean</td>\n",
       "      <td>histogram_median</td>\n",
       "      <td>histogram_variance</td>\n",
       "      <td>uterine_cont_per_min</td>\n",
       "      <td>total_change</td>\n",
       "      <td>sqrt_total_change</td>\n",
       "      <td>hist_zeros_1.0</td>\n",
       "      <td>hist_zeros_2.0</td>\n",
       "      <td>hist_zeros_3.0</td>\n",
       "      <td>hist_zeros_4.0</td>\n",
       "      <td>hist_zeros_5.0</td>\n",
       "      <td>hist_zeros_7.0</td>\n",
       "      <td>hist_zeros_8.0</td>\n",
       "      <td>hist_zeros_10.0</td>\n",
       "      <td>hist_tendancy_0.0</td>\n",
       "      <td>hist_tendancy_1.0</td>\n",
       "      <td>sev_decel_0.001</td>\n",
       "      <td>quant_acc_1</td>\n",
       "      <td>quant_light_dec_1</td>\n",
       "      <td>quant_hist_mean_1</td>\n",
       "      <td>quant_hist_mean_2</td>\n",
       "      <td>quant_hist_mean_3</td>\n",
       "      <td>quant_hist_mean_4</td>\n",
       "      <td>quant_hist_mean_5</td>\n",
       "      <td>quant_hist_mean_6</td>\n",
       "    </tr>\n",
       "    <tr>\n",
       "      <th>Coefs</th>\n",
       "      <td>0.03</td>\n",
       "      <td>0.11</td>\n",
       "      <td>0.01</td>\n",
       "      <td>0.03</td>\n",
       "      <td>0.01</td>\n",
       "      <td>0.07</td>\n",
       "      <td>0.16</td>\n",
       "      <td>0.11</td>\n",
       "      <td>0.07</td>\n",
       "      <td>0.02</td>\n",
       "      <td>0.03</td>\n",
       "      <td>0.03</td>\n",
       "      <td>0.02</td>\n",
       "      <td>0.01</td>\n",
       "      <td>0.05</td>\n",
       "      <td>0.07</td>\n",
       "      <td>0.04</td>\n",
       "      <td>0.04</td>\n",
       "      <td>0.03</td>\n",
       "      <td>0.02</td>\n",
       "      <td>0.02</td>\n",
       "      <td>0.00</td>\n",
       "      <td>0.00</td>\n",
       "      <td>0.00</td>\n",
       "      <td>0.00</td>\n",
       "      <td>0.00</td>\n",
       "      <td>0.00</td>\n",
       "      <td>0.00</td>\n",
       "      <td>0.00</td>\n",
       "      <td>0.00</td>\n",
       "      <td>0.00</td>\n",
       "      <td>0.00</td>\n",
       "      <td>0.02</td>\n",
       "      <td>0.00</td>\n",
       "      <td>0.00</td>\n",
       "      <td>0.00</td>\n",
       "      <td>0.00</td>\n",
       "      <td>0.00</td>\n",
       "      <td>0.00</td>\n",
       "      <td>0.00</td>\n",
       "    </tr>\n",
       "  </tbody>\n",
       "</table>\n",
       "</div>"
      ],
      "text/plain": [
       "                    0              1               2                     3  \\\n",
       "0      baseline value  accelerations  fetal_movement  uterine_contractions   \n",
       "Coefs            0.03           0.11            0.01                  0.03   \n",
       "\n",
       "                         4                         5  \\\n",
       "0      light_decelerations  prolongued_decelerations   \n",
       "Coefs                 0.01                      0.07   \n",
       "\n",
       "                                     6                                     7  \\\n",
       "0      abnormal_short_term_variability  mean_value_of_short_term_variability   \n",
       "Coefs                             0.16                                  0.11   \n",
       "\n",
       "                                                       8  \\\n",
       "0      percentage_of_time_with_abnormal_long_term_var...   \n",
       "Coefs                                               0.07   \n",
       "\n",
       "                                         9               10             11  \\\n",
       "0      mean_value_of_long_term_variability  histogram_width  histogram_min   \n",
       "Coefs                                 0.02             0.03           0.03   \n",
       "\n",
       "                  12                         13              14  \\\n",
       "0      histogram_max  histogram_number_of_peaks  histogram_mode   \n",
       "Coefs           0.02                       0.01            0.05   \n",
       "\n",
       "                   15                16                  17  \\\n",
       "0      histogram_mean  histogram_median  histogram_variance   \n",
       "Coefs            0.07              0.04                0.04   \n",
       "\n",
       "                         18            19                 20              21  \\\n",
       "0      uterine_cont_per_min  total_change  sqrt_total_change  hist_zeros_1.0   \n",
       "Coefs                  0.03          0.02               0.02            0.00   \n",
       "\n",
       "                   22              23              24              25  \\\n",
       "0      hist_zeros_2.0  hist_zeros_3.0  hist_zeros_4.0  hist_zeros_5.0   \n",
       "Coefs            0.00            0.00            0.00            0.00   \n",
       "\n",
       "                   26              27               28                 29  \\\n",
       "0      hist_zeros_7.0  hist_zeros_8.0  hist_zeros_10.0  hist_tendancy_0.0   \n",
       "Coefs            0.00            0.00             0.00               0.00   \n",
       "\n",
       "                      30               31           32                 33  \\\n",
       "0      hist_tendancy_1.0  sev_decel_0.001  quant_acc_1  quant_light_dec_1   \n",
       "Coefs               0.00             0.00         0.02               0.00   \n",
       "\n",
       "                      34                 35                 36  \\\n",
       "0      quant_hist_mean_1  quant_hist_mean_2  quant_hist_mean_3   \n",
       "Coefs               0.00               0.00               0.00   \n",
       "\n",
       "                      37                 38                 39  \n",
       "0      quant_hist_mean_4  quant_hist_mean_5  quant_hist_mean_6  \n",
       "Coefs               0.00               0.00               0.00  "
      ]
     },
     "execution_count": 83,
     "metadata": {},
     "output_type": "execute_result"
    }
   ],
   "source": [
    "# Best feature table for random forest gridsearch best parameters\n",
    "coef_table = pd.DataFrame(list(X_train.columns)).copy()\n",
    "coef_table.insert(len(coef_table.columns),\"Coefs\",grid_tree.best_estimator_.feature_importances_.transpose())\n",
    "coef_table.transpose()"
   ]
  },
  {
   "cell_type": "code",
   "execution_count": 56,
   "metadata": {
    "ExecuteTime": {
     "end_time": "2021-02-22T02:15:06.035565Z",
     "start_time": "2021-02-22T02:15:06.026654Z"
    }
   },
   "outputs": [],
   "source": [
    "# Table comparing random forest best features between imbalanced data set, smote and smote with gridsearch best features\n",
    "coef_table.columns = ['features','grid_search_importance']\n",
    "del coef_table['features']\n",
    "best_features_rfc = pd.concat([smote_vs_coef,coef_table],axis=1)"
   ]
  },
  {
   "cell_type": "code",
   "execution_count": 57,
   "metadata": {
    "ExecuteTime": {
     "end_time": "2021-02-22T02:15:06.265179Z",
     "start_time": "2021-02-22T02:15:06.251870Z"
    }
   },
   "outputs": [
    {
     "data": {
      "text/html": [
       "<div>\n",
       "<style scoped>\n",
       "    .dataframe tbody tr th:only-of-type {\n",
       "        vertical-align: middle;\n",
       "    }\n",
       "\n",
       "    .dataframe tbody tr th {\n",
       "        vertical-align: top;\n",
       "    }\n",
       "\n",
       "    .dataframe thead th {\n",
       "        text-align: right;\n",
       "    }\n",
       "</style>\n",
       "<table border=\"1\" class=\"dataframe\">\n",
       "  <thead>\n",
       "    <tr style=\"text-align: right;\">\n",
       "      <th></th>\n",
       "      <th>features</th>\n",
       "      <th>importance_baseline</th>\n",
       "      <th>sm_importance_baseline</th>\n",
       "      <th>grid_search_importance</th>\n",
       "    </tr>\n",
       "  </thead>\n",
       "  <tbody>\n",
       "    <tr>\n",
       "      <th>0</th>\n",
       "      <td>baseline value</td>\n",
       "      <td>9.926765e-03</td>\n",
       "      <td>0.017274</td>\n",
       "      <td>0.026578</td>\n",
       "    </tr>\n",
       "    <tr>\n",
       "      <th>1</th>\n",
       "      <td>accelerations</td>\n",
       "      <td>1.035325e-01</td>\n",
       "      <td>0.201070</td>\n",
       "      <td>0.102592</td>\n",
       "    </tr>\n",
       "    <tr>\n",
       "      <th>2</th>\n",
       "      <td>fetal_movement</td>\n",
       "      <td>4.708818e-03</td>\n",
       "      <td>0.002493</td>\n",
       "      <td>0.012909</td>\n",
       "    </tr>\n",
       "    <tr>\n",
       "      <th>3</th>\n",
       "      <td>uterine_contractions</td>\n",
       "      <td>1.058922e-02</td>\n",
       "      <td>0.020314</td>\n",
       "      <td>0.027448</td>\n",
       "    </tr>\n",
       "    <tr>\n",
       "      <th>4</th>\n",
       "      <td>light_decelerations</td>\n",
       "      <td>6.170803e-04</td>\n",
       "      <td>0.001409</td>\n",
       "      <td>0.007697</td>\n",
       "    </tr>\n",
       "    <tr>\n",
       "      <th>5</th>\n",
       "      <td>prolongued_decelerations</td>\n",
       "      <td>8.764041e-02</td>\n",
       "      <td>0.085824</td>\n",
       "      <td>0.060121</td>\n",
       "    </tr>\n",
       "    <tr>\n",
       "      <th>6</th>\n",
       "      <td>abnormal_short_term_variability</td>\n",
       "      <td>1.576849e-01</td>\n",
       "      <td>0.173725</td>\n",
       "      <td>0.147330</td>\n",
       "    </tr>\n",
       "    <tr>\n",
       "      <th>7</th>\n",
       "      <td>mean_value_of_short_term_variability</td>\n",
       "      <td>1.492258e-01</td>\n",
       "      <td>0.104371</td>\n",
       "      <td>0.105557</td>\n",
       "    </tr>\n",
       "    <tr>\n",
       "      <th>8</th>\n",
       "      <td>percentage_of_time_with_abnormal_long_term_var...</td>\n",
       "      <td>8.983866e-02</td>\n",
       "      <td>0.080703</td>\n",
       "      <td>0.069176</td>\n",
       "    </tr>\n",
       "    <tr>\n",
       "      <th>9</th>\n",
       "      <td>mean_value_of_long_term_variability</td>\n",
       "      <td>1.227784e-02</td>\n",
       "      <td>0.009671</td>\n",
       "      <td>0.022708</td>\n",
       "    </tr>\n",
       "    <tr>\n",
       "      <th>10</th>\n",
       "      <td>histogram_width</td>\n",
       "      <td>2.413741e-02</td>\n",
       "      <td>0.013937</td>\n",
       "      <td>0.027531</td>\n",
       "    </tr>\n",
       "    <tr>\n",
       "      <th>11</th>\n",
       "      <td>histogram_min</td>\n",
       "      <td>3.454206e-02</td>\n",
       "      <td>0.045037</td>\n",
       "      <td>0.034732</td>\n",
       "    </tr>\n",
       "    <tr>\n",
       "      <th>12</th>\n",
       "      <td>histogram_max</td>\n",
       "      <td>3.475578e-03</td>\n",
       "      <td>0.007946</td>\n",
       "      <td>0.022623</td>\n",
       "    </tr>\n",
       "    <tr>\n",
       "      <th>13</th>\n",
       "      <td>histogram_number_of_peaks</td>\n",
       "      <td>1.292067e-03</td>\n",
       "      <td>0.000498</td>\n",
       "      <td>0.014060</td>\n",
       "    </tr>\n",
       "    <tr>\n",
       "      <th>14</th>\n",
       "      <td>histogram_mode</td>\n",
       "      <td>2.993087e-02</td>\n",
       "      <td>0.013993</td>\n",
       "      <td>0.042653</td>\n",
       "    </tr>\n",
       "    <tr>\n",
       "      <th>15</th>\n",
       "      <td>histogram_mean</td>\n",
       "      <td>1.002393e-01</td>\n",
       "      <td>0.062982</td>\n",
       "      <td>0.073806</td>\n",
       "    </tr>\n",
       "    <tr>\n",
       "      <th>16</th>\n",
       "      <td>histogram_median</td>\n",
       "      <td>5.230935e-02</td>\n",
       "      <td>0.022024</td>\n",
       "      <td>0.046187</td>\n",
       "    </tr>\n",
       "    <tr>\n",
       "      <th>17</th>\n",
       "      <td>histogram_variance</td>\n",
       "      <td>4.127107e-02</td>\n",
       "      <td>0.039004</td>\n",
       "      <td>0.040932</td>\n",
       "    </tr>\n",
       "    <tr>\n",
       "      <th>18</th>\n",
       "      <td>uterine_cont_per_min</td>\n",
       "      <td>3.162570e-02</td>\n",
       "      <td>0.041517</td>\n",
       "      <td>0.029806</td>\n",
       "    </tr>\n",
       "    <tr>\n",
       "      <th>19</th>\n",
       "      <td>total_change</td>\n",
       "      <td>2.676057e-02</td>\n",
       "      <td>0.015820</td>\n",
       "      <td>0.020121</td>\n",
       "    </tr>\n",
       "    <tr>\n",
       "      <th>20</th>\n",
       "      <td>sqrt_total_change</td>\n",
       "      <td>1.688455e-02</td>\n",
       "      <td>0.008602</td>\n",
       "      <td>0.020639</td>\n",
       "    </tr>\n",
       "    <tr>\n",
       "      <th>21</th>\n",
       "      <td>hist_zeros_1.0</td>\n",
       "      <td>4.751671e-04</td>\n",
       "      <td>0.000000</td>\n",
       "      <td>0.001408</td>\n",
       "    </tr>\n",
       "    <tr>\n",
       "      <th>22</th>\n",
       "      <td>hist_zeros_2.0</td>\n",
       "      <td>0.000000e+00</td>\n",
       "      <td>0.000000</td>\n",
       "      <td>0.000449</td>\n",
       "    </tr>\n",
       "    <tr>\n",
       "      <th>23</th>\n",
       "      <td>hist_zeros_3.0</td>\n",
       "      <td>0.000000e+00</td>\n",
       "      <td>0.000000</td>\n",
       "      <td>0.000435</td>\n",
       "    </tr>\n",
       "    <tr>\n",
       "      <th>24</th>\n",
       "      <td>hist_zeros_4.0</td>\n",
       "      <td>0.000000e+00</td>\n",
       "      <td>0.000000</td>\n",
       "      <td>0.000244</td>\n",
       "    </tr>\n",
       "    <tr>\n",
       "      <th>25</th>\n",
       "      <td>hist_zeros_5.0</td>\n",
       "      <td>0.000000e+00</td>\n",
       "      <td>0.000000</td>\n",
       "      <td>0.000019</td>\n",
       "    </tr>\n",
       "    <tr>\n",
       "      <th>26</th>\n",
       "      <td>hist_zeros_7.0</td>\n",
       "      <td>0.000000e+00</td>\n",
       "      <td>0.000000</td>\n",
       "      <td>0.000000</td>\n",
       "    </tr>\n",
       "    <tr>\n",
       "      <th>27</th>\n",
       "      <td>hist_zeros_8.0</td>\n",
       "      <td>0.000000e+00</td>\n",
       "      <td>0.000000</td>\n",
       "      <td>0.000018</td>\n",
       "    </tr>\n",
       "    <tr>\n",
       "      <th>28</th>\n",
       "      <td>hist_zeros_10.0</td>\n",
       "      <td>0.000000e+00</td>\n",
       "      <td>0.000000</td>\n",
       "      <td>0.000002</td>\n",
       "    </tr>\n",
       "    <tr>\n",
       "      <th>29</th>\n",
       "      <td>hist_tendancy_0.0</td>\n",
       "      <td>0.000000e+00</td>\n",
       "      <td>0.000000</td>\n",
       "      <td>0.002623</td>\n",
       "    </tr>\n",
       "    <tr>\n",
       "      <th>30</th>\n",
       "      <td>hist_tendancy_1.0</td>\n",
       "      <td>4.129194e-04</td>\n",
       "      <td>0.000000</td>\n",
       "      <td>0.002833</td>\n",
       "    </tr>\n",
       "    <tr>\n",
       "      <th>31</th>\n",
       "      <td>sev_decel_0.001</td>\n",
       "      <td>0.000000e+00</td>\n",
       "      <td>0.000000</td>\n",
       "      <td>0.000287</td>\n",
       "    </tr>\n",
       "    <tr>\n",
       "      <th>32</th>\n",
       "      <td>quant_acc_1</td>\n",
       "      <td>5.073501e-03</td>\n",
       "      <td>0.024165</td>\n",
       "      <td>0.019705</td>\n",
       "    </tr>\n",
       "    <tr>\n",
       "      <th>33</th>\n",
       "      <td>quant_light_dec_1</td>\n",
       "      <td>2.024508e-03</td>\n",
       "      <td>0.000977</td>\n",
       "      <td>0.002901</td>\n",
       "    </tr>\n",
       "    <tr>\n",
       "      <th>34</th>\n",
       "      <td>quant_hist_mean_1</td>\n",
       "      <td>6.361066e-07</td>\n",
       "      <td>0.000289</td>\n",
       "      <td>0.003125</td>\n",
       "    </tr>\n",
       "    <tr>\n",
       "      <th>35</th>\n",
       "      <td>quant_hist_mean_2</td>\n",
       "      <td>0.000000e+00</td>\n",
       "      <td>0.000687</td>\n",
       "      <td>0.002022</td>\n",
       "    </tr>\n",
       "    <tr>\n",
       "      <th>36</th>\n",
       "      <td>quant_hist_mean_3</td>\n",
       "      <td>2.716066e-04</td>\n",
       "      <td>0.004286</td>\n",
       "      <td>0.002398</td>\n",
       "    </tr>\n",
       "    <tr>\n",
       "      <th>37</th>\n",
       "      <td>quant_hist_mean_4</td>\n",
       "      <td>1.834956e-04</td>\n",
       "      <td>0.000000</td>\n",
       "      <td>0.001532</td>\n",
       "    </tr>\n",
       "    <tr>\n",
       "      <th>38</th>\n",
       "      <td>quant_hist_mean_5</td>\n",
       "      <td>9.625095e-04</td>\n",
       "      <td>0.000334</td>\n",
       "      <td>0.001604</td>\n",
       "    </tr>\n",
       "    <tr>\n",
       "      <th>39</th>\n",
       "      <td>quant_hist_mean_6</td>\n",
       "      <td>2.085230e-03</td>\n",
       "      <td>0.001047</td>\n",
       "      <td>0.003189</td>\n",
       "    </tr>\n",
       "  </tbody>\n",
       "</table>\n",
       "</div>"
      ],
      "text/plain": [
       "                                             features  importance_baseline  \\\n",
       "0                                      baseline value         9.926765e-03   \n",
       "1                                       accelerations         1.035325e-01   \n",
       "2                                      fetal_movement         4.708818e-03   \n",
       "3                                uterine_contractions         1.058922e-02   \n",
       "4                                 light_decelerations         6.170803e-04   \n",
       "5                            prolongued_decelerations         8.764041e-02   \n",
       "6                     abnormal_short_term_variability         1.576849e-01   \n",
       "7                mean_value_of_short_term_variability         1.492258e-01   \n",
       "8   percentage_of_time_with_abnormal_long_term_var...         8.983866e-02   \n",
       "9                 mean_value_of_long_term_variability         1.227784e-02   \n",
       "10                                    histogram_width         2.413741e-02   \n",
       "11                                      histogram_min         3.454206e-02   \n",
       "12                                      histogram_max         3.475578e-03   \n",
       "13                          histogram_number_of_peaks         1.292067e-03   \n",
       "14                                     histogram_mode         2.993087e-02   \n",
       "15                                     histogram_mean         1.002393e-01   \n",
       "16                                   histogram_median         5.230935e-02   \n",
       "17                                 histogram_variance         4.127107e-02   \n",
       "18                               uterine_cont_per_min         3.162570e-02   \n",
       "19                                       total_change         2.676057e-02   \n",
       "20                                  sqrt_total_change         1.688455e-02   \n",
       "21                                     hist_zeros_1.0         4.751671e-04   \n",
       "22                                     hist_zeros_2.0         0.000000e+00   \n",
       "23                                     hist_zeros_3.0         0.000000e+00   \n",
       "24                                     hist_zeros_4.0         0.000000e+00   \n",
       "25                                     hist_zeros_5.0         0.000000e+00   \n",
       "26                                     hist_zeros_7.0         0.000000e+00   \n",
       "27                                     hist_zeros_8.0         0.000000e+00   \n",
       "28                                    hist_zeros_10.0         0.000000e+00   \n",
       "29                                  hist_tendancy_0.0         0.000000e+00   \n",
       "30                                  hist_tendancy_1.0         4.129194e-04   \n",
       "31                                    sev_decel_0.001         0.000000e+00   \n",
       "32                                        quant_acc_1         5.073501e-03   \n",
       "33                                  quant_light_dec_1         2.024508e-03   \n",
       "34                                  quant_hist_mean_1         6.361066e-07   \n",
       "35                                  quant_hist_mean_2         0.000000e+00   \n",
       "36                                  quant_hist_mean_3         2.716066e-04   \n",
       "37                                  quant_hist_mean_4         1.834956e-04   \n",
       "38                                  quant_hist_mean_5         9.625095e-04   \n",
       "39                                  quant_hist_mean_6         2.085230e-03   \n",
       "\n",
       "    sm_importance_baseline  grid_search_importance  \n",
       "0                 0.017274                0.026578  \n",
       "1                 0.201070                0.102592  \n",
       "2                 0.002493                0.012909  \n",
       "3                 0.020314                0.027448  \n",
       "4                 0.001409                0.007697  \n",
       "5                 0.085824                0.060121  \n",
       "6                 0.173725                0.147330  \n",
       "7                 0.104371                0.105557  \n",
       "8                 0.080703                0.069176  \n",
       "9                 0.009671                0.022708  \n",
       "10                0.013937                0.027531  \n",
       "11                0.045037                0.034732  \n",
       "12                0.007946                0.022623  \n",
       "13                0.000498                0.014060  \n",
       "14                0.013993                0.042653  \n",
       "15                0.062982                0.073806  \n",
       "16                0.022024                0.046187  \n",
       "17                0.039004                0.040932  \n",
       "18                0.041517                0.029806  \n",
       "19                0.015820                0.020121  \n",
       "20                0.008602                0.020639  \n",
       "21                0.000000                0.001408  \n",
       "22                0.000000                0.000449  \n",
       "23                0.000000                0.000435  \n",
       "24                0.000000                0.000244  \n",
       "25                0.000000                0.000019  \n",
       "26                0.000000                0.000000  \n",
       "27                0.000000                0.000018  \n",
       "28                0.000000                0.000002  \n",
       "29                0.000000                0.002623  \n",
       "30                0.000000                0.002833  \n",
       "31                0.000000                0.000287  \n",
       "32                0.024165                0.019705  \n",
       "33                0.000977                0.002901  \n",
       "34                0.000289                0.003125  \n",
       "35                0.000687                0.002022  \n",
       "36                0.004286                0.002398  \n",
       "37                0.000000                0.001532  \n",
       "38                0.000334                0.001604  \n",
       "39                0.001047                0.003189  "
      ]
     },
     "execution_count": 57,
     "metadata": {},
     "output_type": "execute_result"
    }
   ],
   "source": [
    "best_features_rfc.transposa()"
   ]
  },
  {
   "cell_type": "code",
   "execution_count": 64,
   "metadata": {
    "ExecuteTime": {
     "end_time": "2021-02-22T02:16:36.093431Z",
     "start_time": "2021-02-22T02:16:35.799230Z"
    }
   },
   "outputs": [
    {
     "data": {
      "image/png": "[encoded data removed]",
      "text/plain": [
       "<Figure size 576x396 with 1 Axes>"
      ]
     },
     "metadata": {},
     "output_type": "display_data"
    }
   ],
   "source": [
    "pd.Series(grid_tree.best_estimator_.feature_importances_, index=X.columns).nlargest(10).plot(kind='barh')\n",
    "plt.title('Feature Importance', fontsize=20)\n",
    "plt.yticks(fontsize=16)\n",
    "plt.xticks(fontsize=16)\n",
    "plt.show()"
   ]
  },
  {
   "cell_type": "markdown",
   "metadata": {},
   "source": [
    "**findings**\n",
    "- In the Above graphe you can see the top ten importanct features for our grid search random foret model.  Abnormal_short_term_variatability, acceleration and mean_value_of_short_term_varitability seem to be key factors in health classification.  We can infer from this that extended rapid extreme changes in fetal heart rate are detrimental to fetal health."
   ]
  },
  {
   "cell_type": "markdown",
   "metadata": {},
   "source": [
    "## XGboost"
   ]
  },
  {
   "cell_type": "markdown",
   "metadata": {},
   "source": [
    "- We wanted to try an XGboost classifer to attempt a better model than the gridsearch random forest.  XGboost uses gradiant descent and boosting principles to regression trees.  We first tried an XGboost model with some parametrs we thought would be ideal for the model.  Next we ran a grid search on the XGboost parameters to produce our best possible model.  "
   ]
  },
  {
   "cell_type": "code",
   "execution_count": null,
   "metadata": {
    "ExecuteTime": {
     "end_time": "2021-02-22T00:36:33.385512Z",
     "start_time": "2021-02-22T00:36:28.334Z"
    }
   },
   "outputs": [],
   "source": [
    "xgb.XGBClassifier()"
   ]
  },
  {
   "cell_type": "code",
   "execution_count": null,
   "metadata": {
    "ExecuteTime": {
     "end_time": "2021-02-22T00:36:33.388078Z",
     "start_time": "2021-02-22T00:36:28.337Z"
    }
   },
   "outputs": [],
   "source": [
    "xg_clf = xgb.XGBClassifier(objective ='binary:logistic', \n",
    "                           colsample_bytree = 0.75, \n",
    "                           subsample = 0.85,\n",
    "                           learning_rate = 0.1,\n",
    "                           max_depth = 11, \n",
    "                           alpha = 1, \n",
    "                           n_estimators = 1000,\n",
    "                          verbose=1, n_jobs=-1)"
   ]
  },
  {
   "cell_type": "code",
   "execution_count": null,
   "metadata": {
    "ExecuteTime": {
     "end_time": "2021-02-22T00:36:33.390317Z",
     "start_time": "2021-02-22T00:36:28.340Z"
    }
   },
   "outputs": [],
   "source": [
    "xg_clf.fit(smX_train,smy_train)"
   ]
  },
  {
   "cell_type": "code",
   "execution_count": null,
   "metadata": {
    "ExecuteTime": {
     "end_time": "2021-02-22T00:36:33.392864Z",
     "start_time": "2021-02-22T00:36:28.343Z"
    }
   },
   "outputs": [],
   "source": [
    "y_pred = xg_clf.predict(X_test)"
   ]
  },
  {
   "cell_type": "code",
   "execution_count": null,
   "metadata": {
    "ExecuteTime": {
     "end_time": "2021-02-22T00:36:33.395299Z",
     "start_time": "2021-02-22T00:36:28.345Z"
    }
   },
   "outputs": [],
   "source": [
    "evaluation(y_test,y_pred)"
   ]
  },
  {
   "cell_type": "code",
   "execution_count": null,
   "metadata": {
    "ExecuteTime": {
     "end_time": "2021-02-22T00:36:33.397595Z",
     "start_time": "2021-02-22T00:36:28.348Z"
    }
   },
   "outputs": [],
   "source": [
    "coef_table = pd.DataFrame(list(X_train.columns)).copy()\n",
    "coef_table.insert(len(coef_table.columns),\"Coefs\",xg_clf.feature_importances_.transpose())"
   ]
  },
  {
   "cell_type": "code",
   "execution_count": null,
   "metadata": {
    "ExecuteTime": {
     "end_time": "2021-02-22T00:36:33.400722Z",
     "start_time": "2021-02-22T00:36:28.352Z"
    }
   },
   "outputs": [],
   "source": [
    "coef_table"
   ]
  },
  {
   "cell_type": "code",
   "execution_count": null,
   "metadata": {
    "ExecuteTime": {
     "end_time": "2021-02-22T00:36:33.403961Z",
     "start_time": "2021-02-22T00:36:28.354Z"
    }
   },
   "outputs": [],
   "source": [
    "clf_xgb = xgb.XGBClassifier(objective = 'binary:logistic')\n",
    "param_dist = {'n_estimators': [500,1000,1500],\n",
    "              'learning_rate': [0.1,0.07,0.05,0.03,0.01],\n",
    "              'max_depth': [9,10,11,12,13],\n",
    "              'colsample_bytree': [0.5,0.45,0.4],\n",
    "              'min_child_weight': [1, 2, 3]\n",
    "             }"
   ]
  },
  {
   "cell_type": "code",
   "execution_count": null,
   "metadata": {
    "ExecuteTime": {
     "end_time": "2021-02-22T00:36:33.407537Z",
     "start_time": "2021-02-22T00:36:28.357Z"
    }
   },
   "outputs": [],
   "source": [
    "grid_xg = GridSearchCV(estimator=clf_xgb,\n",
    "                      param_grid= param_dist,\n",
    "                      scoring='f1',\n",
    "                      n_jobs=-1,\n",
    "                      verbose=1,\n",
    "                      iid=False,\n",
    "                      cv=10)"
   ]
  },
  {
   "cell_type": "code",
   "execution_count": null,
   "metadata": {
    "ExecuteTime": {
     "end_time": "2021-02-22T00:36:33.411370Z",
     "start_time": "2021-02-22T00:36:28.360Z"
    }
   },
   "outputs": [],
   "source": [
    "grid_xg.fit(smX_train,smy_train)"
   ]
  },
  {
   "cell_type": "code",
   "execution_count": null,
   "metadata": {
    "ExecuteTime": {
     "end_time": "2021-02-22T00:36:33.414616Z",
     "start_time": "2021-02-22T00:36:28.363Z"
    }
   },
   "outputs": [],
   "source": [
    "grid_xg.best_params_"
   ]
  },
  {
   "cell_type": "code",
   "execution_count": null,
   "metadata": {
    "ExecuteTime": {
     "end_time": "2021-02-22T00:36:33.417318Z",
     "start_time": "2021-02-22T00:36:28.366Z"
    }
   },
   "outputs": [],
   "source": [
    "y_pred = grid_xg.best_estimator_.predict(X_test)"
   ]
  },
  {
   "cell_type": "code",
   "execution_count": null,
   "metadata": {
    "ExecuteTime": {
     "end_time": "2021-02-22T00:36:33.419458Z",
     "start_time": "2021-02-22T00:36:28.368Z"
    }
   },
   "outputs": [],
   "source": [
    "evaluation(y_test,y_pred)"
   ]
  },
  {
   "cell_type": "code",
   "execution_count": null,
   "metadata": {
    "ExecuteTime": {
     "end_time": "2021-02-22T00:36:33.421319Z",
     "start_time": "2021-02-22T00:36:28.371Z"
    }
   },
   "outputs": [],
   "source": [
    "from xgboost import plot_importance\n",
    "plot_importance(grid_xg.best_estimator_)"
   ]
  },
  {
   "cell_type": "code",
   "execution_count": null,
   "metadata": {
    "ExecuteTime": {
     "end_time": "2021-02-22T00:36:33.423789Z",
     "start_time": "2021-02-22T00:36:28.374Z"
    }
   },
   "outputs": [],
   "source": [
    "plot_importance(grid_xg.best_estimator_,max_num_features=10)"
   ]
  },
  {
   "cell_type": "markdown",
   "metadata": {},
   "source": [
    "**findings**\n",
    "- The grid search xgboost produced our overall best model.  We where extremely pleased with the highest recall and accuracy score.  The precision, which was our target metric was also very high.  When graphing the featrue importance, the most important features where abnormal_short_term_variatability and the histogram mean, min, width  and mode.  Our engineered features where not as important as some of the unchanged features.  Our best preforming engineered feature was sqrt_total_change, but no engineered feature was in the top ten.  Just like our random forest model short term varitability of the FHR is a key feature in classifying fetal health."
   ]
  }
 ],
 "metadata": {
  "kernelspec": {
   "display_name": "Python 3",
   "language": "python",
   "name": "python3"
  },
  "language_info": {
   "codemirror_mode": {
    "name": "ipython",
    "version": 3
   },
   "file_extension": ".py",
   "mimetype": "text/x-python",
   "name": "python",
   "nbconvert_exporter": "python",
   "pygments_lexer": "ipython3",
   "version": "3.6.9"
  },
  "toc": {
   "base_numbering": 1,
   "nav_menu": {},
   "number_sections": true,
   "sideBar": true,
   "skip_h1_title": false,
   "title_cell": "Table of Contents",
   "title_sidebar": "Contents",
   "toc_cell": false,
   "toc_position": {},
   "toc_section_display": true,
   "toc_window_display": false
  }
 },
 "nbformat": 4,
 "nbformat_minor": 4
}
