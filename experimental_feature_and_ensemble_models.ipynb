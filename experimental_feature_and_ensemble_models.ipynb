{
 "cells": [
  {
   "cell_type": "markdown",
   "metadata": {},
   "source": [
    "# Modeling Process With Experimental Feature Database"
   ]
  },
  {
   "cell_type": "markdown",
   "metadata": {},
   "source": [
    "In this notebook we use our experimental database to identify key features and tune the hyperparameters of several high preforming models. For model selection, we where looking for models where we could best improve the precision(reduce false positives) while not drastically reducing recall (false negatives).  To evaluate the models we used sklearn metrics and also viewed the confusion matrix to see how the models predictions on the test set preformed."
   ]
  },
  {
   "cell_type": "code",
   "execution_count": 1,
   "metadata": {
    "ExecuteTime": {
     "end_time": "2021-03-17T02:57:13.515882Z",
     "start_time": "2021-03-17T02:57:11.716434Z"
    }
   },
   "outputs": [],
   "source": [
    "# Import Packages\n",
    "import pandas as pd\n",
    "import seaborn as sns\n",
    "import numpy as np\n",
    "import matplotlib.pyplot as plt\n",
    "\n",
    "\n",
    "# Sklearn Packages\n",
    "from sklearn.model_selection import train_test_split, GridSearchCV, cross_val_score\n",
    "\n",
    "from sklearn.ensemble import RandomForestClassifier, AdaBoostClassifier, BaggingClassifier\n",
    "\n",
    "\n",
    "from sklearn import set_config\n",
    "from sklearn import metrics\n",
    "from sklearn.metrics import mean_squared_error, precision_score, confusion_matrix, accuracy_score\n",
    "from sklearn.dummy import DummyClassifier\n",
    "from sklearn.preprocessing import StandardScaler\n",
    "from sklearn.neighbors import KNeighborsClassifier\n",
    "from sklearn.linear_model import LogisticRegression\n",
    "from sklearn.tree import DecisionTreeClassifier\n",
    "from sklearn.exceptions import ConvergenceWarning\n",
    "from imblearn.over_sampling import SMOTE\n",
    "from xgboost import XGBClassifier\n",
    "from xgboost import plot_importance\n",
    "\n",
    "set_config(print_changed_only=False)\n",
    "\n",
    "import warnings\n",
    "warnings.filterwarnings(\"ignore\")\n",
    "\n",
    "pd.set_option('display.max_columns', 300)\n",
    "% matplotlib inline\n",
    "\n",
    "plt.style.use('seaborn')"
   ]
  },
  {
   "cell_type": "code",
   "execution_count": 2,
   "metadata": {
    "ExecuteTime": {
     "end_time": "2021-03-17T02:57:13.931529Z",
     "start_time": "2021-03-17T02:57:13.522425Z"
    }
   },
   "outputs": [],
   "source": [
    "# Importing all functions used in this notebook\n",
    "from functions import *"
   ]
  },
  {
   "cell_type": "code",
   "execution_count": 3,
   "metadata": {
    "ExecuteTime": {
     "end_time": "2021-03-17T02:57:13.989004Z",
     "start_time": "2021-03-17T02:57:13.933670Z"
    }
   },
   "outputs": [
    {
     "data": {
      "text/html": [
       "<div>\n",
       "<style scoped>\n",
       "    .dataframe tbody tr th:only-of-type {\n",
       "        vertical-align: middle;\n",
       "    }\n",
       "\n",
       "    .dataframe tbody tr th {\n",
       "        vertical-align: top;\n",
       "    }\n",
       "\n",
       "    .dataframe thead th {\n",
       "        text-align: right;\n",
       "    }\n",
       "</style>\n",
       "<table border=\"1\" class=\"dataframe\">\n",
       "  <thead>\n",
       "    <tr style=\"text-align: right;\">\n",
       "      <th></th>\n",
       "      <th>baseline value</th>\n",
       "      <th>accelerations</th>\n",
       "      <th>fetal_movement</th>\n",
       "      <th>uterine_contractions</th>\n",
       "      <th>light_decelerations</th>\n",
       "      <th>prolongued_decelerations</th>\n",
       "      <th>abnormal_short_term_variability</th>\n",
       "      <th>mean_value_of_short_term_variability</th>\n",
       "      <th>percentage_of_time_with_abnormal_long_term_variability</th>\n",
       "      <th>mean_value_of_long_term_variability</th>\n",
       "      <th>histogram_width</th>\n",
       "      <th>histogram_min</th>\n",
       "      <th>histogram_max</th>\n",
       "      <th>histogram_number_of_peaks</th>\n",
       "      <th>histogram_mode</th>\n",
       "      <th>histogram_mean</th>\n",
       "      <th>histogram_median</th>\n",
       "      <th>histogram_variance</th>\n",
       "      <th>fetal_health</th>\n",
       "      <th>uterine_cont_per_min</th>\n",
       "      <th>total_change</th>\n",
       "      <th>sqrt_total_change</th>\n",
       "      <th>hist_zeros_1.0</th>\n",
       "      <th>hist_zeros_2.0</th>\n",
       "      <th>hist_zeros_3.0</th>\n",
       "      <th>hist_zeros_4.0</th>\n",
       "      <th>hist_zeros_5.0</th>\n",
       "      <th>hist_zeros_7.0</th>\n",
       "      <th>hist_zeros_8.0</th>\n",
       "      <th>hist_zeros_10.0</th>\n",
       "      <th>hist_tendancy_0.0</th>\n",
       "      <th>hist_tendancy_1.0</th>\n",
       "      <th>sev_decel_0.001</th>\n",
       "      <th>quant_acc_1</th>\n",
       "      <th>quant_light_dec_1</th>\n",
       "      <th>quant_hist_mean_1</th>\n",
       "      <th>quant_hist_mean_2</th>\n",
       "      <th>quant_hist_mean_3</th>\n",
       "      <th>quant_hist_mean_4</th>\n",
       "      <th>quant_hist_mean_5</th>\n",
       "      <th>quant_hist_mean_6</th>\n",
       "    </tr>\n",
       "  </thead>\n",
       "  <tbody>\n",
       "    <tr>\n",
       "      <th>0</th>\n",
       "      <td>120.0</td>\n",
       "      <td>0.000</td>\n",
       "      <td>0.0</td>\n",
       "      <td>0.000</td>\n",
       "      <td>0.000</td>\n",
       "      <td>0.0</td>\n",
       "      <td>73.0</td>\n",
       "      <td>0.5</td>\n",
       "      <td>43.0</td>\n",
       "      <td>2.4</td>\n",
       "      <td>64.0</td>\n",
       "      <td>62.0</td>\n",
       "      <td>126.0</td>\n",
       "      <td>2.0</td>\n",
       "      <td>120.0</td>\n",
       "      <td>137.0</td>\n",
       "      <td>121.0</td>\n",
       "      <td>73.0</td>\n",
       "      <td>2.0</td>\n",
       "      <td>0.00</td>\n",
       "      <td>0.000</td>\n",
       "      <td>0.000000</td>\n",
       "      <td>0</td>\n",
       "      <td>0</td>\n",
       "      <td>0</td>\n",
       "      <td>0</td>\n",
       "      <td>0</td>\n",
       "      <td>0</td>\n",
       "      <td>0</td>\n",
       "      <td>0</td>\n",
       "      <td>0</td>\n",
       "      <td>1</td>\n",
       "      <td>0</td>\n",
       "      <td>0</td>\n",
       "      <td>0</td>\n",
       "      <td>0</td>\n",
       "      <td>0</td>\n",
       "      <td>1</td>\n",
       "      <td>0</td>\n",
       "      <td>0</td>\n",
       "      <td>0</td>\n",
       "    </tr>\n",
       "    <tr>\n",
       "      <th>1</th>\n",
       "      <td>132.0</td>\n",
       "      <td>0.006</td>\n",
       "      <td>0.0</td>\n",
       "      <td>0.006</td>\n",
       "      <td>0.003</td>\n",
       "      <td>0.0</td>\n",
       "      <td>17.0</td>\n",
       "      <td>2.1</td>\n",
       "      <td>0.0</td>\n",
       "      <td>10.4</td>\n",
       "      <td>130.0</td>\n",
       "      <td>68.0</td>\n",
       "      <td>198.0</td>\n",
       "      <td>6.0</td>\n",
       "      <td>141.0</td>\n",
       "      <td>136.0</td>\n",
       "      <td>140.0</td>\n",
       "      <td>12.0</td>\n",
       "      <td>1.0</td>\n",
       "      <td>0.36</td>\n",
       "      <td>1.980</td>\n",
       "      <td>0.122474</td>\n",
       "      <td>1</td>\n",
       "      <td>0</td>\n",
       "      <td>0</td>\n",
       "      <td>0</td>\n",
       "      <td>0</td>\n",
       "      <td>0</td>\n",
       "      <td>0</td>\n",
       "      <td>0</td>\n",
       "      <td>1</td>\n",
       "      <td>0</td>\n",
       "      <td>0</td>\n",
       "      <td>0</td>\n",
       "      <td>0</td>\n",
       "      <td>0</td>\n",
       "      <td>0</td>\n",
       "      <td>1</td>\n",
       "      <td>0</td>\n",
       "      <td>0</td>\n",
       "      <td>0</td>\n",
       "    </tr>\n",
       "    <tr>\n",
       "      <th>2</th>\n",
       "      <td>133.0</td>\n",
       "      <td>0.003</td>\n",
       "      <td>0.0</td>\n",
       "      <td>0.008</td>\n",
       "      <td>0.003</td>\n",
       "      <td>0.0</td>\n",
       "      <td>16.0</td>\n",
       "      <td>2.1</td>\n",
       "      <td>0.0</td>\n",
       "      <td>13.4</td>\n",
       "      <td>130.0</td>\n",
       "      <td>68.0</td>\n",
       "      <td>198.0</td>\n",
       "      <td>5.0</td>\n",
       "      <td>141.0</td>\n",
       "      <td>135.0</td>\n",
       "      <td>138.0</td>\n",
       "      <td>13.0</td>\n",
       "      <td>1.0</td>\n",
       "      <td>0.48</td>\n",
       "      <td>1.862</td>\n",
       "      <td>0.118322</td>\n",
       "      <td>1</td>\n",
       "      <td>0</td>\n",
       "      <td>0</td>\n",
       "      <td>0</td>\n",
       "      <td>0</td>\n",
       "      <td>0</td>\n",
       "      <td>0</td>\n",
       "      <td>0</td>\n",
       "      <td>1</td>\n",
       "      <td>0</td>\n",
       "      <td>0</td>\n",
       "      <td>0</td>\n",
       "      <td>0</td>\n",
       "      <td>0</td>\n",
       "      <td>0</td>\n",
       "      <td>1</td>\n",
       "      <td>0</td>\n",
       "      <td>0</td>\n",
       "      <td>0</td>\n",
       "    </tr>\n",
       "    <tr>\n",
       "      <th>3</th>\n",
       "      <td>134.0</td>\n",
       "      <td>0.003</td>\n",
       "      <td>0.0</td>\n",
       "      <td>0.008</td>\n",
       "      <td>0.003</td>\n",
       "      <td>0.0</td>\n",
       "      <td>16.0</td>\n",
       "      <td>2.4</td>\n",
       "      <td>0.0</td>\n",
       "      <td>23.0</td>\n",
       "      <td>117.0</td>\n",
       "      <td>53.0</td>\n",
       "      <td>170.0</td>\n",
       "      <td>11.0</td>\n",
       "      <td>137.0</td>\n",
       "      <td>134.0</td>\n",
       "      <td>137.0</td>\n",
       "      <td>13.0</td>\n",
       "      <td>1.0</td>\n",
       "      <td>0.48</td>\n",
       "      <td>1.876</td>\n",
       "      <td>0.118322</td>\n",
       "      <td>0</td>\n",
       "      <td>0</td>\n",
       "      <td>0</td>\n",
       "      <td>0</td>\n",
       "      <td>0</td>\n",
       "      <td>0</td>\n",
       "      <td>0</td>\n",
       "      <td>0</td>\n",
       "      <td>0</td>\n",
       "      <td>1</td>\n",
       "      <td>0</td>\n",
       "      <td>0</td>\n",
       "      <td>0</td>\n",
       "      <td>0</td>\n",
       "      <td>0</td>\n",
       "      <td>1</td>\n",
       "      <td>0</td>\n",
       "      <td>0</td>\n",
       "      <td>0</td>\n",
       "    </tr>\n",
       "    <tr>\n",
       "      <th>4</th>\n",
       "      <td>132.0</td>\n",
       "      <td>0.007</td>\n",
       "      <td>0.0</td>\n",
       "      <td>0.008</td>\n",
       "      <td>0.000</td>\n",
       "      <td>0.0</td>\n",
       "      <td>16.0</td>\n",
       "      <td>2.4</td>\n",
       "      <td>0.0</td>\n",
       "      <td>19.9</td>\n",
       "      <td>117.0</td>\n",
       "      <td>53.0</td>\n",
       "      <td>170.0</td>\n",
       "      <td>9.0</td>\n",
       "      <td>137.0</td>\n",
       "      <td>136.0</td>\n",
       "      <td>138.0</td>\n",
       "      <td>11.0</td>\n",
       "      <td>1.0</td>\n",
       "      <td>0.48</td>\n",
       "      <td>1.980</td>\n",
       "      <td>0.122474</td>\n",
       "      <td>0</td>\n",
       "      <td>0</td>\n",
       "      <td>0</td>\n",
       "      <td>0</td>\n",
       "      <td>0</td>\n",
       "      <td>0</td>\n",
       "      <td>0</td>\n",
       "      <td>0</td>\n",
       "      <td>0</td>\n",
       "      <td>1</td>\n",
       "      <td>0</td>\n",
       "      <td>1</td>\n",
       "      <td>0</td>\n",
       "      <td>0</td>\n",
       "      <td>0</td>\n",
       "      <td>1</td>\n",
       "      <td>0</td>\n",
       "      <td>0</td>\n",
       "      <td>0</td>\n",
       "    </tr>\n",
       "  </tbody>\n",
       "</table>\n",
       "</div>"
      ],
      "text/plain": [
       "   baseline value  accelerations  fetal_movement  uterine_contractions  \\\n",
       "0           120.0          0.000             0.0                 0.000   \n",
       "1           132.0          0.006             0.0                 0.006   \n",
       "2           133.0          0.003             0.0                 0.008   \n",
       "3           134.0          0.003             0.0                 0.008   \n",
       "4           132.0          0.007             0.0                 0.008   \n",
       "\n",
       "   light_decelerations  prolongued_decelerations  \\\n",
       "0                0.000                       0.0   \n",
       "1                0.003                       0.0   \n",
       "2                0.003                       0.0   \n",
       "3                0.003                       0.0   \n",
       "4                0.000                       0.0   \n",
       "\n",
       "   abnormal_short_term_variability  mean_value_of_short_term_variability  \\\n",
       "0                             73.0                                   0.5   \n",
       "1                             17.0                                   2.1   \n",
       "2                             16.0                                   2.1   \n",
       "3                             16.0                                   2.4   \n",
       "4                             16.0                                   2.4   \n",
       "\n",
       "   percentage_of_time_with_abnormal_long_term_variability  \\\n",
       "0                                               43.0        \n",
       "1                                                0.0        \n",
       "2                                                0.0        \n",
       "3                                                0.0        \n",
       "4                                                0.0        \n",
       "\n",
       "   mean_value_of_long_term_variability  histogram_width  histogram_min  \\\n",
       "0                                  2.4             64.0           62.0   \n",
       "1                                 10.4            130.0           68.0   \n",
       "2                                 13.4            130.0           68.0   \n",
       "3                                 23.0            117.0           53.0   \n",
       "4                                 19.9            117.0           53.0   \n",
       "\n",
       "   histogram_max  histogram_number_of_peaks  histogram_mode  histogram_mean  \\\n",
       "0          126.0                        2.0           120.0           137.0   \n",
       "1          198.0                        6.0           141.0           136.0   \n",
       "2          198.0                        5.0           141.0           135.0   \n",
       "3          170.0                       11.0           137.0           134.0   \n",
       "4          170.0                        9.0           137.0           136.0   \n",
       "\n",
       "   histogram_median  histogram_variance  fetal_health  uterine_cont_per_min  \\\n",
       "0             121.0                73.0           2.0                  0.00   \n",
       "1             140.0                12.0           1.0                  0.36   \n",
       "2             138.0                13.0           1.0                  0.48   \n",
       "3             137.0                13.0           1.0                  0.48   \n",
       "4             138.0                11.0           1.0                  0.48   \n",
       "\n",
       "   total_change  sqrt_total_change  hist_zeros_1.0  hist_zeros_2.0  \\\n",
       "0         0.000           0.000000               0               0   \n",
       "1         1.980           0.122474               1               0   \n",
       "2         1.862           0.118322               1               0   \n",
       "3         1.876           0.118322               0               0   \n",
       "4         1.980           0.122474               0               0   \n",
       "\n",
       "   hist_zeros_3.0  hist_zeros_4.0  hist_zeros_5.0  hist_zeros_7.0  \\\n",
       "0               0               0               0               0   \n",
       "1               0               0               0               0   \n",
       "2               0               0               0               0   \n",
       "3               0               0               0               0   \n",
       "4               0               0               0               0   \n",
       "\n",
       "   hist_zeros_8.0  hist_zeros_10.0  hist_tendancy_0.0  hist_tendancy_1.0  \\\n",
       "0               0                0                  0                  1   \n",
       "1               0                0                  1                  0   \n",
       "2               0                0                  1                  0   \n",
       "3               0                0                  0                  1   \n",
       "4               0                0                  0                  1   \n",
       "\n",
       "   sev_decel_0.001  quant_acc_1  quant_light_dec_1  quant_hist_mean_1  \\\n",
       "0                0            0                  0                  0   \n",
       "1                0            0                  0                  0   \n",
       "2                0            0                  0                  0   \n",
       "3                0            0                  0                  0   \n",
       "4                0            1                  0                  0   \n",
       "\n",
       "   quant_hist_mean_2  quant_hist_mean_3  quant_hist_mean_4  quant_hist_mean_5  \\\n",
       "0                  0                  1                  0                  0   \n",
       "1                  0                  1                  0                  0   \n",
       "2                  0                  1                  0                  0   \n",
       "3                  0                  1                  0                  0   \n",
       "4                  0                  1                  0                  0   \n",
       "\n",
       "   quant_hist_mean_6  \n",
       "0                  0  \n",
       "1                  0  \n",
       "2                  0  \n",
       "3                  0  \n",
       "4                  0  "
      ]
     },
     "execution_count": 3,
     "metadata": {},
     "output_type": "execute_result"
    }
   ],
   "source": [
    "#Read in dataframe\n",
    "df = pd.read_csv('experiment_features.csv',index_col=0)\n",
    "df.head()"
   ]
  },
  {
   "cell_type": "code",
   "execution_count": 4,
   "metadata": {
    "ExecuteTime": {
     "end_time": "2021-03-17T02:57:13.995178Z",
     "start_time": "2021-03-17T02:57:13.991131Z"
    }
   },
   "outputs": [],
   "source": [
    "# # Function Prints best parameters for GridSearchCV\n",
    "# def print_results(results):\n",
    "#     print('Best Parameters: {}\\n'.format(results.best_params_))   "
   ]
  },
  {
   "cell_type": "code",
   "execution_count": 14,
   "metadata": {
    "ExecuteTime": {
     "end_time": "2021-03-17T02:59:22.870182Z",
     "start_time": "2021-03-17T02:59:22.861873Z"
    }
   },
   "outputs": [],
   "source": [
    "#train test split of data\n",
    "X = df.drop('fetal_health', axis =1)\n",
    "y = df.fetal_health\n",
    "\n",
    "X_train, X_test, y_train, y_test = train_test_split(X, y, test_size= 0.25, random_state=1)"
   ]
  },
  {
   "cell_type": "code",
   "execution_count": 15,
   "metadata": {
    "ExecuteTime": {
     "end_time": "2021-03-17T02:59:23.128757Z",
     "start_time": "2021-03-17T02:59:23.117657Z"
    }
   },
   "outputs": [
    {
     "data": {
      "text/plain": [
       "StandardScaler(copy=True, with_mean=True, with_std=True)"
      ]
     },
     "execution_count": 15,
     "metadata": {},
     "output_type": "execute_result"
    }
   ],
   "source": [
    "#standared scaler for predicting features\n",
    "scaler = StandardScaler()  \n",
    "scaler.fit(X_train)"
   ]
  },
  {
   "cell_type": "markdown",
   "metadata": {},
   "source": [
    "## Class imbalance"
   ]
  },
  {
   "cell_type": "markdown",
   "metadata": {},
   "source": [
    "- To handle class imbalance we oversampled the minority class using SMOTE(Synthetic Minority Oversampling Technique), this balanced the minority class by sampling the nearest neighboors and adding points between the neighbors.  We used both a SMOTE sampled database and unbalanced database to compare the effect of the metrics for each experimental baseline model.  The Smote Database preformed better on every baseline model, we chose to use the SMOTE database for our final models.  "
   ]
  },
  {
   "cell_type": "code",
   "execution_count": 16,
   "metadata": {
    "ExecuteTime": {
     "end_time": "2021-03-17T02:59:24.944931Z",
     "start_time": "2021-03-17T02:59:24.919328Z"
    }
   },
   "outputs": [],
   "source": [
    "#Used smote to oversample minority class\n",
    "smote = SMOTE(random_state=25)\n",
    "X_train_smote, y_train_smote = smote.fit_sample(X_train, y_train)"
   ]
  },
  {
   "cell_type": "markdown",
   "metadata": {},
   "source": [
    "## KNN "
   ]
  },
  {
   "cell_type": "markdown",
   "metadata": {},
   "source": [
    "- Here we ran a basline model of knn on the experimental database and compared the metrics results to the database treated with smote.  \n"
   ]
  },
  {
   "cell_type": "markdown",
   "metadata": {},
   "source": [
    "### Baseline KNN"
   ]
  },
  {
   "cell_type": "code",
   "execution_count": 27,
   "metadata": {
    "ExecuteTime": {
     "end_time": "2021-03-17T03:01:15.536713Z",
     "start_time": "2021-03-17T03:01:15.486928Z"
    }
   },
   "outputs": [],
   "source": [
    "#baseline KNN with class imbalance\n",
    "knn = KNeighborsClassifier()\n",
    "knn.fit(X_train, y_train)\n",
    "y_pred = knn.predict(X_test)"
   ]
  },
  {
   "cell_type": "code",
   "execution_count": 28,
   "metadata": {
    "ExecuteTime": {
     "end_time": "2021-03-17T03:01:16.365593Z",
     "start_time": "2021-03-17T03:01:16.350534Z"
    }
   },
   "outputs": [
    {
     "name": "stdout",
     "output_type": "stream",
     "text": [
      "Evaluation Metrics:\n",
      "Accuracy: 0.9191729323308271\n",
      "Precision: 0.9236111111111112\n",
      "Recall: 0.9755501222493888\n",
      "F1 Score: 0.9488703923900119\n",
      "\n",
      "Confusion Matrix:\n",
      " TN,  FP, FN, TP\n",
      "[399  10  33  90]\n"
     ]
    }
   ],
   "source": [
    "#prediction metrics and confusion matrix of base KNN with class imbalance\n",
    "evaluation(y_test, y_pred)"
   ]
  },
  {
   "cell_type": "code",
   "execution_count": 31,
   "metadata": {
    "ExecuteTime": {
     "end_time": "2021-03-17T03:01:43.351650Z",
     "start_time": "2021-03-17T03:01:43.299615Z"
    }
   },
   "outputs": [],
   "source": [
    "#Base KNN model with Smote oversampled class\n",
    "sm_knn = KNeighborsClassifier()\n",
    "sm_knn.fit(X_train_smote, y_train_smote)\n",
    "y_pred_smote_knn = sm_knn.predict(X_test)"
   ]
  },
  {
   "cell_type": "code",
   "execution_count": 32,
   "metadata": {
    "ExecuteTime": {
     "end_time": "2021-03-17T03:01:44.059581Z",
     "start_time": "2021-03-17T03:01:44.045551Z"
    },
    "scrolled": true
   },
   "outputs": [
    {
     "name": "stdout",
     "output_type": "stream",
     "text": [
      "Evaluation Metrics:\n",
      "Accuracy: 0.9078947368421053\n",
      "Precision: 0.9477611940298507\n",
      "Recall: 0.9315403422982885\n",
      "F1 Score: 0.9395807644882861\n",
      "\n",
      "Confusion Matrix:\n",
      " TN,  FP, FN, TP\n",
      "[381  28  21 102]\n"
     ]
    }
   ],
   "source": [
    "#Prediction metrics and confusion matrix of smote base KNN\n",
    "evaluation(y_test, y_pred_smote_knn)"
   ]
  },
  {
   "cell_type": "markdown",
   "metadata": {},
   "source": [
    "SMOTE didn't improve the model."
   ]
  },
  {
   "cell_type": "markdown",
   "metadata": {},
   "source": [
    "## Logistic Regression Baseline Model"
   ]
  },
  {
   "cell_type": "markdown",
   "metadata": {},
   "source": [
    "- Here are two Logistic regression Models comparing the effect of SMOTE on the metric scores.  SMOTE greatly improved the precision of the model, however Recall was greatly reduced.  While one of the aims for our project was to improve precision as best we can, too many false negatives are not ideal for the overal fetal mortality rate.  "
   ]
  },
  {
   "cell_type": "code",
   "execution_count": 33,
   "metadata": {
    "ExecuteTime": {
     "end_time": "2021-03-17T03:02:24.441601Z",
     "start_time": "2021-03-17T03:02:23.950560Z"
    }
   },
   "outputs": [],
   "source": [
    "#Fit Train set with Logistic Regression model\n",
    "lr = LogisticRegression()\n",
    "lr.fit(X_train,y_train)\n",
    "y_pred = lr.predict(X_test)"
   ]
  },
  {
   "cell_type": "code",
   "execution_count": 34,
   "metadata": {
    "ExecuteTime": {
     "end_time": "2021-03-17T03:02:24.605835Z",
     "start_time": "2021-03-17T03:02:24.590843Z"
    }
   },
   "outputs": [
    {
     "name": "stdout",
     "output_type": "stream",
     "text": [
      "Evaluation Metrics:\n",
      "Accuracy: 0.8778195488721805\n",
      "Precision: 0.9056603773584906\n",
      "Recall: 0.9388753056234719\n",
      "F1 Score: 0.921968787515006\n",
      "\n",
      "Confusion Matrix:\n",
      " TN,  FP, FN, TP\n",
      "[384  25  40  83]\n"
     ]
    }
   ],
   "source": [
    "#Regression model evaluation metrics and confusion matrix\n",
    "evaluation(y_test, y_pred)"
   ]
  },
  {
   "cell_type": "code",
   "execution_count": 36,
   "metadata": {
    "ExecuteTime": {
     "end_time": "2021-03-17T03:02:38.669074Z",
     "start_time": "2021-03-17T03:02:38.613441Z"
    }
   },
   "outputs": [],
   "source": [
    "smlr = LogisticRegression(solver='liblinear')\n",
    "smlr.fit(X_train_smote,y_train_smote)\n",
    "y_predsm = smlr.predict(X_test)"
   ]
  },
  {
   "cell_type": "code",
   "execution_count": 37,
   "metadata": {
    "ExecuteTime": {
     "end_time": "2021-03-17T03:02:39.794128Z",
     "start_time": "2021-03-17T03:02:39.774538Z"
    }
   },
   "outputs": [
    {
     "name": "stdout",
     "output_type": "stream",
     "text": [
      "Evaluation Metrics:\n",
      "Accuracy: 0.8853383458646616\n",
      "Precision: 0.967741935483871\n",
      "Recall: 0.8801955990220048\n",
      "F1 Score: 0.9218950064020486\n",
      "\n",
      "Confusion Matrix:\n",
      " TN,  FP, FN, TP\n",
      "[360  49  12 111]\n"
     ]
    }
   ],
   "source": [
    "evaluation(y_test, y_predsm)"
   ]
  },
  {
   "cell_type": "markdown",
   "metadata": {},
   "source": [
    "- Below is a table of feature coefficients for the Logistic Regression.  The greatest feature Coefficients are sqrt_total_change, quant_acc_1, quant_hist_mean(1 2 and 3) and tendancy_1.  All of these features are ones that we engineered.  Looking at what these features represent, for this model, the change in the rate of FHR and the average change in that rate seem to be the biggest factors for classifying fetal health.  We wanted to try and improve the Logistic regression by tuning the hyperparameters to improve both the recall and precision.  To attempt this we used a bagging classifer to train the logistic regression on multiple random samples and aggrigate the predictions to see how that effected the evaluation metrics.  "
   ]
  },
  {
   "cell_type": "code",
   "execution_count": 39,
   "metadata": {
    "ExecuteTime": {
     "end_time": "2021-03-17T03:03:03.721573Z",
     "start_time": "2021-03-17T03:03:03.681229Z"
    }
   },
   "outputs": [
    {
     "data": {
      "text/html": [
       "<div>\n",
       "<style scoped>\n",
       "    .dataframe tbody tr th:only-of-type {\n",
       "        vertical-align: middle;\n",
       "    }\n",
       "\n",
       "    .dataframe tbody tr th {\n",
       "        vertical-align: top;\n",
       "    }\n",
       "\n",
       "    .dataframe thead th {\n",
       "        text-align: right;\n",
       "    }\n",
       "</style>\n",
       "<table border=\"1\" class=\"dataframe\">\n",
       "  <thead>\n",
       "    <tr style=\"text-align: right;\">\n",
       "      <th></th>\n",
       "      <th>0</th>\n",
       "      <th>1</th>\n",
       "      <th>2</th>\n",
       "      <th>3</th>\n",
       "      <th>4</th>\n",
       "      <th>5</th>\n",
       "      <th>6</th>\n",
       "      <th>7</th>\n",
       "      <th>8</th>\n",
       "      <th>9</th>\n",
       "      <th>10</th>\n",
       "      <th>11</th>\n",
       "      <th>12</th>\n",
       "      <th>13</th>\n",
       "      <th>14</th>\n",
       "      <th>15</th>\n",
       "      <th>16</th>\n",
       "      <th>17</th>\n",
       "      <th>18</th>\n",
       "      <th>19</th>\n",
       "      <th>20</th>\n",
       "      <th>21</th>\n",
       "      <th>22</th>\n",
       "      <th>23</th>\n",
       "      <th>24</th>\n",
       "      <th>25</th>\n",
       "      <th>26</th>\n",
       "      <th>27</th>\n",
       "      <th>28</th>\n",
       "      <th>29</th>\n",
       "      <th>30</th>\n",
       "      <th>31</th>\n",
       "      <th>32</th>\n",
       "      <th>33</th>\n",
       "      <th>34</th>\n",
       "      <th>35</th>\n",
       "      <th>36</th>\n",
       "      <th>37</th>\n",
       "      <th>38</th>\n",
       "      <th>39</th>\n",
       "    </tr>\n",
       "  </thead>\n",
       "  <tbody>\n",
       "    <tr>\n",
       "      <th>features</th>\n",
       "      <td>baseline value</td>\n",
       "      <td>accelerations</td>\n",
       "      <td>fetal_movement</td>\n",
       "      <td>uterine_contractions</td>\n",
       "      <td>light_decelerations</td>\n",
       "      <td>prolongued_decelerations</td>\n",
       "      <td>abnormal_short_term_variability</td>\n",
       "      <td>mean_value_of_short_term_variability</td>\n",
       "      <td>percentage_of_time_with_abnormal_long_term_var...</td>\n",
       "      <td>mean_value_of_long_term_variability</td>\n",
       "      <td>histogram_width</td>\n",
       "      <td>histogram_min</td>\n",
       "      <td>histogram_max</td>\n",
       "      <td>histogram_number_of_peaks</td>\n",
       "      <td>histogram_mode</td>\n",
       "      <td>histogram_mean</td>\n",
       "      <td>histogram_median</td>\n",
       "      <td>histogram_variance</td>\n",
       "      <td>uterine_cont_per_min</td>\n",
       "      <td>total_change</td>\n",
       "      <td>sqrt_total_change</td>\n",
       "      <td>hist_zeros_1.0</td>\n",
       "      <td>hist_zeros_2.0</td>\n",
       "      <td>hist_zeros_3.0</td>\n",
       "      <td>hist_zeros_4.0</td>\n",
       "      <td>hist_zeros_5.0</td>\n",
       "      <td>hist_zeros_7.0</td>\n",
       "      <td>hist_zeros_8.0</td>\n",
       "      <td>hist_zeros_10.0</td>\n",
       "      <td>hist_tendancy_0.0</td>\n",
       "      <td>hist_tendancy_1.0</td>\n",
       "      <td>sev_decel_0.001</td>\n",
       "      <td>quant_acc_1</td>\n",
       "      <td>quant_light_dec_1</td>\n",
       "      <td>quant_hist_mean_1</td>\n",
       "      <td>quant_hist_mean_2</td>\n",
       "      <td>quant_hist_mean_3</td>\n",
       "      <td>quant_hist_mean_4</td>\n",
       "      <td>quant_hist_mean_5</td>\n",
       "      <td>quant_hist_mean_6</td>\n",
       "    </tr>\n",
       "    <tr>\n",
       "      <th>Coefs</th>\n",
       "      <td>0.117174</td>\n",
       "      <td>-0.0040917</td>\n",
       "      <td>0.0108432</td>\n",
       "      <td>-0.0053203</td>\n",
       "      <td>-0.00221984</td>\n",
       "      <td>0.000806171</td>\n",
       "      <td>0.0699097</td>\n",
       "      <td>-0.715013</td>\n",
       "      <td>0.0372611</td>\n",
       "      <td>0.0319318</td>\n",
       "      <td>-0.0144669</td>\n",
       "      <td>0.00639082</td>\n",
       "      <td>-0.00807605</td>\n",
       "      <td>0.251932</td>\n",
       "      <td>-0.0210527</td>\n",
       "      <td>0.0316949</td>\n",
       "      <td>-0.157476</td>\n",
       "      <td>0.032656</td>\n",
       "      <td>-0.319218</td>\n",
       "      <td>0.0406248</td>\n",
       "      <td>-0.0494468</td>\n",
       "      <td>0.0646365</td>\n",
       "      <td>0.0201561</td>\n",
       "      <td>-0.00272192</td>\n",
       "      <td>0.0176237</td>\n",
       "      <td>-0.00225233</td>\n",
       "      <td>0</td>\n",
       "      <td>0.0110208</td>\n",
       "      <td>-0.000777236</td>\n",
       "      <td>-0.0765569</td>\n",
       "      <td>0.0919297</td>\n",
       "      <td>-0.00379458</td>\n",
       "      <td>-0.235999</td>\n",
       "      <td>-0.34457</td>\n",
       "      <td>-0.467502</td>\n",
       "      <td>-0.255169</td>\n",
       "      <td>-0.356305</td>\n",
       "      <td>0.0562109</td>\n",
       "      <td>0.42863</td>\n",
       "      <td>0.598199</td>\n",
       "    </tr>\n",
       "    <tr>\n",
       "      <th>sm_Coefs</th>\n",
       "      <td>0.112113</td>\n",
       "      <td>-0.224252</td>\n",
       "      <td>0.313262</td>\n",
       "      <td>-0.055485</td>\n",
       "      <td>-0.0363894</td>\n",
       "      <td>0.0445865</td>\n",
       "      <td>0.08435</td>\n",
       "      <td>-0.626913</td>\n",
       "      <td>0.0396073</td>\n",
       "      <td>0.0459468</td>\n",
       "      <td>-0.00961589</td>\n",
       "      <td>-0.0010398</td>\n",
       "      <td>-0.0106557</td>\n",
       "      <td>0.200837</td>\n",
       "      <td>-0.00977889</td>\n",
       "      <td>-0.0597073</td>\n",
       "      <td>-0.0313393</td>\n",
       "      <td>0.0454627</td>\n",
       "      <td>-3.3291</td>\n",
       "      <td>0.0622807</td>\n",
       "      <td>-1.24574</td>\n",
       "      <td>-0.514483</td>\n",
       "      <td>-0.583633</td>\n",
       "      <td>-1.0854</td>\n",
       "      <td>0.384853</td>\n",
       "      <td>-0.626686</td>\n",
       "      <td>0</td>\n",
       "      <td>0.195844</td>\n",
       "      <td>-0.629847</td>\n",
       "      <td>-0.752577</td>\n",
       "      <td>-1.25432</td>\n",
       "      <td>-0.238835</td>\n",
       "      <td>-3.31225</td>\n",
       "      <td>-1.66982</td>\n",
       "      <td>-2.73523</td>\n",
       "      <td>-2.34835</td>\n",
       "      <td>-2.62443</td>\n",
       "      <td>-1.19418</td>\n",
       "      <td>-0.1252</td>\n",
       "      <td>0.816205</td>\n",
       "    </tr>\n",
       "  </tbody>\n",
       "</table>\n",
       "</div>"
      ],
      "text/plain": [
       "                       0              1               2                     3  \\\n",
       "features  baseline value  accelerations  fetal_movement  uterine_contractions   \n",
       "Coefs           0.117174     -0.0040917       0.0108432            -0.0053203   \n",
       "sm_Coefs        0.112113      -0.224252        0.313262             -0.055485   \n",
       "\n",
       "                            4                         5  \\\n",
       "features  light_decelerations  prolongued_decelerations   \n",
       "Coefs             -0.00221984               0.000806171   \n",
       "sm_Coefs           -0.0363894                 0.0445865   \n",
       "\n",
       "                                        6  \\\n",
       "features  abnormal_short_term_variability   \n",
       "Coefs                           0.0699097   \n",
       "sm_Coefs                          0.08435   \n",
       "\n",
       "                                             7  \\\n",
       "features  mean_value_of_short_term_variability   \n",
       "Coefs                                -0.715013   \n",
       "sm_Coefs                             -0.626913   \n",
       "\n",
       "                                                          8  \\\n",
       "features  percentage_of_time_with_abnormal_long_term_var...   \n",
       "Coefs                                             0.0372611   \n",
       "sm_Coefs                                          0.0396073   \n",
       "\n",
       "                                            9               10             11  \\\n",
       "features  mean_value_of_long_term_variability  histogram_width  histogram_min   \n",
       "Coefs                               0.0319318       -0.0144669     0.00639082   \n",
       "sm_Coefs                            0.0459468      -0.00961589     -0.0010398   \n",
       "\n",
       "                     12                         13              14  \\\n",
       "features  histogram_max  histogram_number_of_peaks  histogram_mode   \n",
       "Coefs       -0.00807605                   0.251932      -0.0210527   \n",
       "sm_Coefs     -0.0106557                   0.200837     -0.00977889   \n",
       "\n",
       "                      15                16                  17  \\\n",
       "features  histogram_mean  histogram_median  histogram_variance   \n",
       "Coefs          0.0316949         -0.157476            0.032656   \n",
       "sm_Coefs      -0.0597073        -0.0313393           0.0454627   \n",
       "\n",
       "                            18            19                 20  \\\n",
       "features  uterine_cont_per_min  total_change  sqrt_total_change   \n",
       "Coefs                -0.319218     0.0406248         -0.0494468   \n",
       "sm_Coefs               -3.3291     0.0622807           -1.24574   \n",
       "\n",
       "                      21              22              23              24  \\\n",
       "features  hist_zeros_1.0  hist_zeros_2.0  hist_zeros_3.0  hist_zeros_4.0   \n",
       "Coefs          0.0646365       0.0201561     -0.00272192       0.0176237   \n",
       "sm_Coefs       -0.514483       -0.583633         -1.0854        0.384853   \n",
       "\n",
       "                      25              26              27               28  \\\n",
       "features  hist_zeros_5.0  hist_zeros_7.0  hist_zeros_8.0  hist_zeros_10.0   \n",
       "Coefs        -0.00225233               0       0.0110208     -0.000777236   \n",
       "sm_Coefs       -0.626686               0        0.195844        -0.629847   \n",
       "\n",
       "                         29                 30               31           32  \\\n",
       "features  hist_tendancy_0.0  hist_tendancy_1.0  sev_decel_0.001  quant_acc_1   \n",
       "Coefs            -0.0765569          0.0919297      -0.00379458    -0.235999   \n",
       "sm_Coefs          -0.752577           -1.25432        -0.238835     -3.31225   \n",
       "\n",
       "                         33                 34                 35  \\\n",
       "features  quant_light_dec_1  quant_hist_mean_1  quant_hist_mean_2   \n",
       "Coefs              -0.34457          -0.467502          -0.255169   \n",
       "sm_Coefs           -1.66982           -2.73523           -2.34835   \n",
       "\n",
       "                         36                 37                 38  \\\n",
       "features  quant_hist_mean_3  quant_hist_mean_4  quant_hist_mean_5   \n",
       "Coefs             -0.356305          0.0562109            0.42863   \n",
       "sm_Coefs           -2.62443           -1.19418            -0.1252   \n",
       "\n",
       "                         39  \n",
       "features  quant_hist_mean_6  \n",
       "Coefs              0.598199  \n",
       "sm_Coefs           0.816205  "
      ]
     },
     "execution_count": 39,
     "metadata": {},
     "output_type": "execute_result"
    }
   ],
   "source": [
    "#Create a table of logistic regression coefficients and comparing the coefficients \n",
    "#of the SMOTE and inbalanced datasets\n",
    "coef_table = pd.DataFrame(list(X_train.columns)).copy()\n",
    "coef_table.insert(len(coef_table.columns),\"Coefs\",lr.coef_.transpose())\n",
    "\n",
    "coef_table_2 = pd.DataFrame(list(X_train_smote.columns)).copy()\n",
    "coef_table_2.insert(len(coef_table_2.columns),'sm_Coefs',smlr.coef_.transpose())\n",
    "\n",
    "smote_vs_coef = pd.concat([coef_table,coef_table_2],axis=1)\n",
    "smote_vs_coef.columns = ['features','Coefs','del','sm_Coefs']\n",
    "del smote_vs_coef['del']\n",
    "smote_vs_coef.transpose()"
   ]
  },
  {
   "cell_type": "code",
   "execution_count": 40,
   "metadata": {
    "ExecuteTime": {
     "end_time": "2021-03-17T03:03:11.235250Z",
     "start_time": "2021-03-17T03:03:11.231204Z"
    }
   },
   "outputs": [],
   "source": [
    "# Bagging classifier for legistic regression\n",
    "bag_log = BaggingClassifier(\n",
    "    base_estimator=LogisticRegression(\n",
    "        random_state=1),n_estimators=200,\n",
    "    max_samples=.85,\n",
    "    max_features=10,oob_score=True,\n",
    "    n_jobs=-1,verbose=1)"
   ]
  },
  {
   "cell_type": "code",
   "execution_count": 42,
   "metadata": {
    "ExecuteTime": {
     "end_time": "2021-03-17T03:03:25.863885Z",
     "start_time": "2021-03-17T03:03:21.040168Z"
    }
   },
   "outputs": [
    {
     "name": "stderr",
     "output_type": "stream",
     "text": [
      "[Parallel(n_jobs=8)]: Done   2 out of   8 | elapsed:    4.2s remaining:   12.6s\n",
      "[Parallel(n_jobs=8)]: Done   8 out of   8 | elapsed:    4.2s finished\n"
     ]
    },
    {
     "name": "stdout",
     "output_type": "stream",
     "text": [
      "Evaluation Metrics:\n",
      "Accuracy: 0.8759398496240601\n",
      "Precision: 0.9549071618037135\n",
      "Recall: 0.8801955990220048\n",
      "F1 Score: 0.9160305343511449\n",
      "\n",
      "Confusion Matrix:\n",
      " TN,  FP, FN, TP\n",
      "[360  49  17 106]\n"
     ]
    },
    {
     "name": "stderr",
     "output_type": "stream",
     "text": [
      "[Parallel(n_jobs=8)]: Done   2 out of   8 | elapsed:    0.0s remaining:    0.1s\n",
      "[Parallel(n_jobs=8)]: Done   8 out of   8 | elapsed:    0.0s finished\n"
     ]
    }
   ],
   "source": [
    "# Fit bagging classifier\n",
    "bag_log.fit(X_train_smote, y_train_smote)\n",
    "y_pred = bag_log.predict(X_test)\n",
    "\n",
    "# Evaluation Metrics\n",
    "evaluation(y_test,y_pred)"
   ]
  },
  {
   "cell_type": "markdown",
   "metadata": {},
   "source": [
    "- The Bagging classifer made only minute changes to the evaluation metrics.  We decided to look at some other models and compare the results."
   ]
  },
  {
   "cell_type": "markdown",
   "metadata": {},
   "source": [
    "## Decision Tree"
   ]
  },
  {
   "cell_type": "markdown",
   "metadata": {},
   "source": [
    "- The next model we tried was a decision tree.  Again we compared the imbalanced and SMOTE data sets on baseline models to observe the effect on the metrics.  With the SMOTE data set, decision tree produced very good metrics with all default hyperparamers.  The most important features where abnormal_short_term_variability, and mean_value_of_short_term_variability\t"
   ]
  },
  {
   "cell_type": "code",
   "execution_count": 43,
   "metadata": {
    "ExecuteTime": {
     "end_time": "2021-03-17T03:03:31.318304Z",
     "start_time": "2021-03-17T03:03:31.295289Z"
    }
   },
   "outputs": [],
   "source": [
    "#Train decision tree with train set and predict on the test set\n",
    "tree = DecisionTreeClassifier()\n",
    "tree = tree.fit(X_train,y_train)\n",
    "y_pred = tree.predict(X_test)"
   ]
  },
  {
   "cell_type": "code",
   "execution_count": 44,
   "metadata": {
    "ExecuteTime": {
     "end_time": "2021-03-17T03:03:38.705240Z",
     "start_time": "2021-03-17T03:03:38.689538Z"
    }
   },
   "outputs": [
    {
     "name": "stdout",
     "output_type": "stream",
     "text": [
      "Evaluation Metrics:\n",
      "Accuracy: 0.9229323308270677\n",
      "Precision: 0.9577114427860697\n",
      "Recall: 0.941320293398533\n",
      "F1 Score: 0.9494451294697904\n",
      "\n",
      "Confusion Matrix:\n",
      " TN,  FP, FN, TP\n",
      "[385  24  17 106]\n"
     ]
    }
   ],
   "source": [
    "#Evaluation metrics\n",
    "evaluation(y_test, y_pred)"
   ]
  },
  {
   "cell_type": "code",
   "execution_count": 46,
   "metadata": {
    "ExecuteTime": {
     "end_time": "2021-03-17T03:03:48.702826Z",
     "start_time": "2021-03-17T03:03:48.665307Z"
    }
   },
   "outputs": [],
   "source": [
    "#Decision tree with smote dataset\n",
    "smtree = DecisionTreeClassifier()\n",
    "smtree.fit(X_train_smote,y_train_smote)\n",
    "y_pred = smtree.predict(X_test)"
   ]
  },
  {
   "cell_type": "code",
   "execution_count": 47,
   "metadata": {
    "ExecuteTime": {
     "end_time": "2021-03-17T03:03:50.833264Z",
     "start_time": "2021-03-17T03:03:50.805511Z"
    }
   },
   "outputs": [
    {
     "name": "stdout",
     "output_type": "stream",
     "text": [
      "Evaluation Metrics:\n",
      "Accuracy: 0.9342105263157895\n",
      "Precision: 0.9583333333333334\n",
      "Recall: 0.9559902200488998\n",
      "F1 Score: 0.9571603427172583\n",
      "\n",
      "Confusion Matrix:\n",
      " TN,  FP, FN, TP\n",
      "[391  18  17 106]\n"
     ]
    }
   ],
   "source": [
    "#evaluation Metrics\n",
    "evaluation(y_test, y_pred)"
   ]
  },
  {
   "cell_type": "code",
   "execution_count": 49,
   "metadata": {
    "ExecuteTime": {
     "end_time": "2021-03-17T03:04:02.054486Z",
     "start_time": "2021-03-17T03:04:02.011941Z"
    }
   },
   "outputs": [
    {
     "data": {
      "text/html": [
       "<div>\n",
       "<style scoped>\n",
       "    .dataframe tbody tr th:only-of-type {\n",
       "        vertical-align: middle;\n",
       "    }\n",
       "\n",
       "    .dataframe tbody tr th {\n",
       "        vertical-align: top;\n",
       "    }\n",
       "\n",
       "    .dataframe thead th {\n",
       "        text-align: right;\n",
       "    }\n",
       "</style>\n",
       "<table border=\"1\" class=\"dataframe\">\n",
       "  <thead>\n",
       "    <tr style=\"text-align: right;\">\n",
       "      <th></th>\n",
       "      <th>0</th>\n",
       "      <th>1</th>\n",
       "      <th>2</th>\n",
       "      <th>3</th>\n",
       "      <th>4</th>\n",
       "      <th>5</th>\n",
       "      <th>6</th>\n",
       "      <th>7</th>\n",
       "      <th>8</th>\n",
       "      <th>9</th>\n",
       "      <th>10</th>\n",
       "      <th>11</th>\n",
       "      <th>12</th>\n",
       "      <th>13</th>\n",
       "      <th>14</th>\n",
       "      <th>15</th>\n",
       "      <th>16</th>\n",
       "      <th>17</th>\n",
       "      <th>18</th>\n",
       "      <th>19</th>\n",
       "      <th>20</th>\n",
       "      <th>21</th>\n",
       "      <th>22</th>\n",
       "      <th>23</th>\n",
       "      <th>24</th>\n",
       "      <th>25</th>\n",
       "      <th>26</th>\n",
       "      <th>27</th>\n",
       "      <th>28</th>\n",
       "      <th>29</th>\n",
       "      <th>30</th>\n",
       "      <th>31</th>\n",
       "      <th>32</th>\n",
       "      <th>33</th>\n",
       "      <th>34</th>\n",
       "      <th>35</th>\n",
       "      <th>36</th>\n",
       "      <th>37</th>\n",
       "      <th>38</th>\n",
       "      <th>39</th>\n",
       "    </tr>\n",
       "  </thead>\n",
       "  <tbody>\n",
       "    <tr>\n",
       "      <th>features</th>\n",
       "      <td>baseline value</td>\n",
       "      <td>accelerations</td>\n",
       "      <td>fetal_movement</td>\n",
       "      <td>uterine_contractions</td>\n",
       "      <td>light_decelerations</td>\n",
       "      <td>prolongued_decelerations</td>\n",
       "      <td>abnormal_short_term_variability</td>\n",
       "      <td>mean_value_of_short_term_variability</td>\n",
       "      <td>percentage_of_time_with_abnormal_long_term_var...</td>\n",
       "      <td>mean_value_of_long_term_variability</td>\n",
       "      <td>histogram_width</td>\n",
       "      <td>histogram_min</td>\n",
       "      <td>histogram_max</td>\n",
       "      <td>histogram_number_of_peaks</td>\n",
       "      <td>histogram_mode</td>\n",
       "      <td>histogram_mean</td>\n",
       "      <td>histogram_median</td>\n",
       "      <td>histogram_variance</td>\n",
       "      <td>uterine_cont_per_min</td>\n",
       "      <td>total_change</td>\n",
       "      <td>sqrt_total_change</td>\n",
       "      <td>hist_zeros_1.0</td>\n",
       "      <td>hist_zeros_2.0</td>\n",
       "      <td>hist_zeros_3.0</td>\n",
       "      <td>hist_zeros_4.0</td>\n",
       "      <td>hist_zeros_5.0</td>\n",
       "      <td>hist_zeros_7.0</td>\n",
       "      <td>hist_zeros_8.0</td>\n",
       "      <td>hist_zeros_10.0</td>\n",
       "      <td>hist_tendancy_0.0</td>\n",
       "      <td>hist_tendancy_1.0</td>\n",
       "      <td>sev_decel_0.001</td>\n",
       "      <td>quant_acc_1</td>\n",
       "      <td>quant_light_dec_1</td>\n",
       "      <td>quant_hist_mean_1</td>\n",
       "      <td>quant_hist_mean_2</td>\n",
       "      <td>quant_hist_mean_3</td>\n",
       "      <td>quant_hist_mean_4</td>\n",
       "      <td>quant_hist_mean_5</td>\n",
       "      <td>quant_hist_mean_6</td>\n",
       "    </tr>\n",
       "    <tr>\n",
       "      <th>importance</th>\n",
       "      <td>0.0417007</td>\n",
       "      <td>0.0196927</td>\n",
       "      <td>0.0129526</td>\n",
       "      <td>0.00915159</td>\n",
       "      <td>0</td>\n",
       "      <td>0.0285847</td>\n",
       "      <td>0.342457</td>\n",
       "      <td>0.117288</td>\n",
       "      <td>0.0467433</td>\n",
       "      <td>0.0120976</td>\n",
       "      <td>0.0193758</td>\n",
       "      <td>0.0326662</td>\n",
       "      <td>0.0351468</td>\n",
       "      <td>0.0132994</td>\n",
       "      <td>0.0228727</td>\n",
       "      <td>0.168744</td>\n",
       "      <td>0.00889406</td>\n",
       "      <td>0.00628032</td>\n",
       "      <td>0.00526129</td>\n",
       "      <td>0.0384527</td>\n",
       "      <td>0.0126355</td>\n",
       "      <td>0.000779075</td>\n",
       "      <td>0</td>\n",
       "      <td>0</td>\n",
       "      <td>0.00361421</td>\n",
       "      <td>0</td>\n",
       "      <td>0</td>\n",
       "      <td>0</td>\n",
       "      <td>0</td>\n",
       "      <td>0</td>\n",
       "      <td>0.00130948</td>\n",
       "      <td>0</td>\n",
       "      <td>0</td>\n",
       "      <td>0</td>\n",
       "      <td>0</td>\n",
       "      <td>0</td>\n",
       "      <td>0</td>\n",
       "      <td>0</td>\n",
       "      <td>0</td>\n",
       "      <td>0</td>\n",
       "    </tr>\n",
       "    <tr>\n",
       "      <th>sm_importance</th>\n",
       "      <td>0.0417007</td>\n",
       "      <td>0.0196927</td>\n",
       "      <td>0.0129526</td>\n",
       "      <td>0.00915159</td>\n",
       "      <td>0</td>\n",
       "      <td>0.0285847</td>\n",
       "      <td>0.342457</td>\n",
       "      <td>0.117288</td>\n",
       "      <td>0.0467433</td>\n",
       "      <td>0.0120976</td>\n",
       "      <td>0.0193758</td>\n",
       "      <td>0.0326662</td>\n",
       "      <td>0.0351468</td>\n",
       "      <td>0.0132994</td>\n",
       "      <td>0.0228727</td>\n",
       "      <td>0.168744</td>\n",
       "      <td>0.00889406</td>\n",
       "      <td>0.00628032</td>\n",
       "      <td>0.00526129</td>\n",
       "      <td>0.0384527</td>\n",
       "      <td>0.0126355</td>\n",
       "      <td>0.000779075</td>\n",
       "      <td>0</td>\n",
       "      <td>0</td>\n",
       "      <td>0.00361421</td>\n",
       "      <td>0</td>\n",
       "      <td>0</td>\n",
       "      <td>0</td>\n",
       "      <td>0</td>\n",
       "      <td>0</td>\n",
       "      <td>0.00130948</td>\n",
       "      <td>0</td>\n",
       "      <td>0</td>\n",
       "      <td>0</td>\n",
       "      <td>0</td>\n",
       "      <td>0</td>\n",
       "      <td>0</td>\n",
       "      <td>0</td>\n",
       "      <td>0</td>\n",
       "      <td>0</td>\n",
       "    </tr>\n",
       "  </tbody>\n",
       "</table>\n",
       "</div>"
      ],
      "text/plain": [
       "                            0              1               2  \\\n",
       "features       baseline value  accelerations  fetal_movement   \n",
       "importance          0.0417007      0.0196927       0.0129526   \n",
       "sm_importance       0.0417007      0.0196927       0.0129526   \n",
       "\n",
       "                                  3                    4  \\\n",
       "features       uterine_contractions  light_decelerations   \n",
       "importance               0.00915159                    0   \n",
       "sm_importance            0.00915159                    0   \n",
       "\n",
       "                                      5                                6  \\\n",
       "features       prolongued_decelerations  abnormal_short_term_variability   \n",
       "importance                    0.0285847                         0.342457   \n",
       "sm_importance                 0.0285847                         0.342457   \n",
       "\n",
       "                                                  7  \\\n",
       "features       mean_value_of_short_term_variability   \n",
       "importance                                 0.117288   \n",
       "sm_importance                              0.117288   \n",
       "\n",
       "                                                               8  \\\n",
       "features       percentage_of_time_with_abnormal_long_term_var...   \n",
       "importance                                             0.0467433   \n",
       "sm_importance                                          0.0467433   \n",
       "\n",
       "                                                 9               10  \\\n",
       "features       mean_value_of_long_term_variability  histogram_width   \n",
       "importance                               0.0120976        0.0193758   \n",
       "sm_importance                            0.0120976        0.0193758   \n",
       "\n",
       "                          11             12                         13  \\\n",
       "features       histogram_min  histogram_max  histogram_number_of_peaks   \n",
       "importance         0.0326662      0.0351468                  0.0132994   \n",
       "sm_importance      0.0326662      0.0351468                  0.0132994   \n",
       "\n",
       "                           14              15                16  \\\n",
       "features       histogram_mode  histogram_mean  histogram_median   \n",
       "importance          0.0228727        0.168744        0.00889406   \n",
       "sm_importance       0.0228727        0.168744        0.00889406   \n",
       "\n",
       "                               17                    18            19  \\\n",
       "features       histogram_variance  uterine_cont_per_min  total_change   \n",
       "importance             0.00628032            0.00526129     0.0384527   \n",
       "sm_importance          0.00628032            0.00526129     0.0384527   \n",
       "\n",
       "                              20              21              22  \\\n",
       "features       sqrt_total_change  hist_zeros_1.0  hist_zeros_2.0   \n",
       "importance             0.0126355     0.000779075               0   \n",
       "sm_importance          0.0126355     0.000779075               0   \n",
       "\n",
       "                           23              24              25              26  \\\n",
       "features       hist_zeros_3.0  hist_zeros_4.0  hist_zeros_5.0  hist_zeros_7.0   \n",
       "importance                  0      0.00361421               0               0   \n",
       "sm_importance               0      0.00361421               0               0   \n",
       "\n",
       "                           27               28                 29  \\\n",
       "features       hist_zeros_8.0  hist_zeros_10.0  hist_tendancy_0.0   \n",
       "importance                  0                0                  0   \n",
       "sm_importance               0                0                  0   \n",
       "\n",
       "                              30               31           32  \\\n",
       "features       hist_tendancy_1.0  sev_decel_0.001  quant_acc_1   \n",
       "importance            0.00130948                0            0   \n",
       "sm_importance         0.00130948                0            0   \n",
       "\n",
       "                              33                 34                 35  \\\n",
       "features       quant_light_dec_1  quant_hist_mean_1  quant_hist_mean_2   \n",
       "importance                     0                  0                  0   \n",
       "sm_importance                  0                  0                  0   \n",
       "\n",
       "                              36                 37                 38  \\\n",
       "features       quant_hist_mean_3  quant_hist_mean_4  quant_hist_mean_5   \n",
       "importance                     0                  0                  0   \n",
       "sm_importance                  0                  0                  0   \n",
       "\n",
       "                              39  \n",
       "features       quant_hist_mean_6  \n",
       "importance                     0  \n",
       "sm_importance                  0  "
      ]
     },
     "execution_count": 49,
     "metadata": {},
     "output_type": "execute_result"
    }
   ],
   "source": [
    "#Table for decision tree feature coefficients\n",
    "coef_table = pd.DataFrame(list(X_train.columns)).copy()\n",
    "coef_table.insert(len(coef_table.columns),\"Coefs\",tree.feature_importances_.transpose())\n",
    "\n",
    "coef_table_2 = pd.DataFrame(list(X_train_smote.columns)).copy()\n",
    "coef_table_2.insert(len(coef_table_2.columns),'sm_Coefs',tree.feature_importances_.transpose())\n",
    "\n",
    "smote_vs_coef = pd.concat([coef_table,coef_table_2],axis=1)\n",
    "smote_vs_coef.columns = ['features','importance','del','sm_importance']\n",
    "del smote_vs_coef['del']\n",
    "smote_vs_coef.transpose()"
   ]
  },
  {
   "cell_type": "markdown",
   "metadata": {},
   "source": [
    "## Random Forest"
   ]
  },
  {
   "cell_type": "markdown",
   "metadata": {},
   "source": [
    "- As we did above we used the SMOTE and imbalanced data and this time trained a random forest classifer.  \n"
   ]
  },
  {
   "cell_type": "code",
   "execution_count": 50,
   "metadata": {
    "ExecuteTime": {
     "end_time": "2021-03-17T03:04:05.905695Z",
     "start_time": "2021-03-17T03:04:05.658981Z"
    }
   },
   "outputs": [
    {
     "name": "stderr",
     "output_type": "stream",
     "text": [
      "[Parallel(n_jobs=-1)]: Done  34 tasks      | elapsed:    0.1s\n",
      "[Parallel(n_jobs=-1)]: Done  50 out of  50 | elapsed:    0.1s finished\n",
      "[Parallel(n_jobs=8)]: Done  34 tasks      | elapsed:    0.0s\n",
      "[Parallel(n_jobs=8)]: Done  50 out of  50 | elapsed:    0.0s finished\n"
     ]
    }
   ],
   "source": [
    "#Random Forest classifier using 50 estimators and a max depth of 3\n",
    "rfc = RandomForestClassifier(random_state =1, n_estimators= 50, max_depth = 3, n_jobs =-1,verbose=1)\n",
    "rfc.fit(X_train,y_train)\n",
    "y_pred = rfc.predict(X_test)"
   ]
  },
  {
   "cell_type": "code",
   "execution_count": 51,
   "metadata": {
    "ExecuteTime": {
     "end_time": "2021-03-17T03:04:07.540373Z",
     "start_time": "2021-03-17T03:04:07.525165Z"
    },
    "scrolled": true
   },
   "outputs": [
    {
     "name": "stdout",
     "output_type": "stream",
     "text": [
      "Evaluation Metrics:\n",
      "Accuracy: 0.900375939849624\n",
      "Precision: 0.8973214285714286\n",
      "Recall: 0.9828850855745721\n",
      "F1 Score: 0.9381563593932323\n",
      "\n",
      "Confusion Matrix:\n",
      " TN,  FP, FN, TP\n",
      "[402   7  46  77]\n"
     ]
    }
   ],
   "source": [
    "#Evaluation metrics for random forest\n",
    "evaluation(y_test, y_pred)"
   ]
  },
  {
   "cell_type": "code",
   "execution_count": 54,
   "metadata": {
    "ExecuteTime": {
     "end_time": "2021-03-17T03:04:33.575024Z",
     "start_time": "2021-03-17T03:04:33.311748Z"
    }
   },
   "outputs": [
    {
     "name": "stdout",
     "output_type": "stream",
     "text": [
      "Evaluation Metrics:\n",
      "Accuracy: 0.9116541353383458\n",
      "Precision: 0.9547738693467337\n",
      "Recall: 0.9290953545232273\n",
      "F1 Score: 0.9417596034696406\n",
      "\n",
      "Confusion Matrix:\n",
      " TN,  FP, FN, TP\n",
      "[380  29  18 105]\n"
     ]
    },
    {
     "name": "stderr",
     "output_type": "stream",
     "text": [
      "[Parallel(n_jobs=-1)]: Done  34 tasks      | elapsed:    0.1s\n",
      "[Parallel(n_jobs=-1)]: Done  50 out of  50 | elapsed:    0.1s finished\n",
      "[Parallel(n_jobs=8)]: Done  34 tasks      | elapsed:    0.0s\n",
      "[Parallel(n_jobs=8)]: Done  50 out of  50 | elapsed:    0.0s finished\n"
     ]
    }
   ],
   "source": [
    "#Random Forest classifier using 50 estimators and a max depth of 3 using SMOTE dataset\n",
    "smrfc = RandomForestClassifier(random_state =1, n_estimators= 50, max_depth = 3, n_jobs =-1,verbose=1)\n",
    "smrfc.fit(X_train_smote,y_train_smote)\n",
    "y_pred = smrfc.predict(X_test)\n",
    "\n",
    "evaluation(y_test, y_pred)"
   ]
  },
  {
   "cell_type": "code",
   "execution_count": 56,
   "metadata": {
    "ExecuteTime": {
     "end_time": "2021-03-17T03:04:45.920185Z",
     "start_time": "2021-03-17T03:04:45.665380Z"
    }
   },
   "outputs": [
    {
     "data": {
      "text/html": [
       "<div>\n",
       "<style scoped>\n",
       "    .dataframe tbody tr th:only-of-type {\n",
       "        vertical-align: middle;\n",
       "    }\n",
       "\n",
       "    .dataframe tbody tr th {\n",
       "        vertical-align: top;\n",
       "    }\n",
       "\n",
       "    .dataframe thead th {\n",
       "        text-align: right;\n",
       "    }\n",
       "</style>\n",
       "<table border=\"1\" class=\"dataframe\">\n",
       "  <thead>\n",
       "    <tr style=\"text-align: right;\">\n",
       "      <th></th>\n",
       "      <th>0</th>\n",
       "      <th>1</th>\n",
       "      <th>2</th>\n",
       "      <th>3</th>\n",
       "      <th>4</th>\n",
       "      <th>5</th>\n",
       "      <th>6</th>\n",
       "      <th>7</th>\n",
       "      <th>8</th>\n",
       "      <th>9</th>\n",
       "      <th>10</th>\n",
       "      <th>11</th>\n",
       "      <th>12</th>\n",
       "      <th>13</th>\n",
       "      <th>14</th>\n",
       "      <th>15</th>\n",
       "      <th>16</th>\n",
       "      <th>17</th>\n",
       "      <th>18</th>\n",
       "      <th>19</th>\n",
       "      <th>20</th>\n",
       "      <th>21</th>\n",
       "      <th>22</th>\n",
       "      <th>23</th>\n",
       "      <th>24</th>\n",
       "      <th>25</th>\n",
       "      <th>26</th>\n",
       "      <th>27</th>\n",
       "      <th>28</th>\n",
       "      <th>29</th>\n",
       "      <th>30</th>\n",
       "      <th>31</th>\n",
       "      <th>32</th>\n",
       "      <th>33</th>\n",
       "      <th>34</th>\n",
       "      <th>35</th>\n",
       "      <th>36</th>\n",
       "      <th>37</th>\n",
       "      <th>38</th>\n",
       "      <th>39</th>\n",
       "    </tr>\n",
       "  </thead>\n",
       "  <tbody>\n",
       "    <tr>\n",
       "      <th>features</th>\n",
       "      <td>baseline value</td>\n",
       "      <td>accelerations</td>\n",
       "      <td>fetal_movement</td>\n",
       "      <td>uterine_contractions</td>\n",
       "      <td>light_decelerations</td>\n",
       "      <td>prolongued_decelerations</td>\n",
       "      <td>abnormal_short_term_variability</td>\n",
       "      <td>mean_value_of_short_term_variability</td>\n",
       "      <td>percentage_of_time_with_abnormal_long_term_var...</td>\n",
       "      <td>mean_value_of_long_term_variability</td>\n",
       "      <td>histogram_width</td>\n",
       "      <td>histogram_min</td>\n",
       "      <td>histogram_max</td>\n",
       "      <td>histogram_number_of_peaks</td>\n",
       "      <td>histogram_mode</td>\n",
       "      <td>histogram_mean</td>\n",
       "      <td>histogram_median</td>\n",
       "      <td>histogram_variance</td>\n",
       "      <td>uterine_cont_per_min</td>\n",
       "      <td>total_change</td>\n",
       "      <td>sqrt_total_change</td>\n",
       "      <td>hist_zeros_1.0</td>\n",
       "      <td>hist_zeros_2.0</td>\n",
       "      <td>hist_zeros_3.0</td>\n",
       "      <td>hist_zeros_4.0</td>\n",
       "      <td>hist_zeros_5.0</td>\n",
       "      <td>hist_zeros_7.0</td>\n",
       "      <td>hist_zeros_8.0</td>\n",
       "      <td>hist_zeros_10.0</td>\n",
       "      <td>hist_tendancy_0.0</td>\n",
       "      <td>hist_tendancy_1.0</td>\n",
       "      <td>sev_decel_0.001</td>\n",
       "      <td>quant_acc_1</td>\n",
       "      <td>quant_light_dec_1</td>\n",
       "      <td>quant_hist_mean_1</td>\n",
       "      <td>quant_hist_mean_2</td>\n",
       "      <td>quant_hist_mean_3</td>\n",
       "      <td>quant_hist_mean_4</td>\n",
       "      <td>quant_hist_mean_5</td>\n",
       "      <td>quant_hist_mean_6</td>\n",
       "    </tr>\n",
       "    <tr>\n",
       "      <th>importance_baseline</th>\n",
       "      <td>0.00992676</td>\n",
       "      <td>0.103532</td>\n",
       "      <td>0.00470882</td>\n",
       "      <td>0.0105892</td>\n",
       "      <td>0.00061708</td>\n",
       "      <td>0.0876404</td>\n",
       "      <td>0.157685</td>\n",
       "      <td>0.149226</td>\n",
       "      <td>0.0898387</td>\n",
       "      <td>0.0122778</td>\n",
       "      <td>0.0241374</td>\n",
       "      <td>0.0345421</td>\n",
       "      <td>0.00347558</td>\n",
       "      <td>0.00129207</td>\n",
       "      <td>0.0299309</td>\n",
       "      <td>0.100239</td>\n",
       "      <td>0.0523094</td>\n",
       "      <td>0.0412711</td>\n",
       "      <td>0.0316257</td>\n",
       "      <td>0.0267606</td>\n",
       "      <td>0.0168846</td>\n",
       "      <td>0.000475167</td>\n",
       "      <td>0</td>\n",
       "      <td>0</td>\n",
       "      <td>0</td>\n",
       "      <td>0</td>\n",
       "      <td>0</td>\n",
       "      <td>0</td>\n",
       "      <td>0</td>\n",
       "      <td>0</td>\n",
       "      <td>0.000412919</td>\n",
       "      <td>0</td>\n",
       "      <td>0.0050735</td>\n",
       "      <td>0.00202451</td>\n",
       "      <td>6.36107e-07</td>\n",
       "      <td>0</td>\n",
       "      <td>0.000271607</td>\n",
       "      <td>0.000183496</td>\n",
       "      <td>0.000962509</td>\n",
       "      <td>0.00208523</td>\n",
       "    </tr>\n",
       "    <tr>\n",
       "      <th>sm_importance_baseline</th>\n",
       "      <td>0.0172741</td>\n",
       "      <td>0.20107</td>\n",
       "      <td>0.00249253</td>\n",
       "      <td>0.0203137</td>\n",
       "      <td>0.00140923</td>\n",
       "      <td>0.0858243</td>\n",
       "      <td>0.173725</td>\n",
       "      <td>0.104371</td>\n",
       "      <td>0.0807028</td>\n",
       "      <td>0.00967133</td>\n",
       "      <td>0.0139368</td>\n",
       "      <td>0.0450373</td>\n",
       "      <td>0.007946</td>\n",
       "      <td>0.000497999</td>\n",
       "      <td>0.0139928</td>\n",
       "      <td>0.0629823</td>\n",
       "      <td>0.0220239</td>\n",
       "      <td>0.0390045</td>\n",
       "      <td>0.0415174</td>\n",
       "      <td>0.0158197</td>\n",
       "      <td>0.00860188</td>\n",
       "      <td>0</td>\n",
       "      <td>0</td>\n",
       "      <td>0</td>\n",
       "      <td>0</td>\n",
       "      <td>0</td>\n",
       "      <td>0</td>\n",
       "      <td>0</td>\n",
       "      <td>0</td>\n",
       "      <td>0</td>\n",
       "      <td>0</td>\n",
       "      <td>0</td>\n",
       "      <td>0.0241652</td>\n",
       "      <td>0.000976957</td>\n",
       "      <td>0.000289048</td>\n",
       "      <td>0.000687007</td>\n",
       "      <td>0.00428605</td>\n",
       "      <td>0</td>\n",
       "      <td>0.000333931</td>\n",
       "      <td>0.00104688</td>\n",
       "    </tr>\n",
       "  </tbody>\n",
       "</table>\n",
       "</div>"
      ],
      "text/plain": [
       "                                     0              1               2  \\\n",
       "features                baseline value  accelerations  fetal_movement   \n",
       "importance_baseline         0.00992676       0.103532      0.00470882   \n",
       "sm_importance_baseline       0.0172741        0.20107      0.00249253   \n",
       "\n",
       "                                           3                    4  \\\n",
       "features                uterine_contractions  light_decelerations   \n",
       "importance_baseline                0.0105892           0.00061708   \n",
       "sm_importance_baseline             0.0203137           0.00140923   \n",
       "\n",
       "                                               5  \\\n",
       "features                prolongued_decelerations   \n",
       "importance_baseline                    0.0876404   \n",
       "sm_importance_baseline                 0.0858243   \n",
       "\n",
       "                                                      6  \\\n",
       "features                abnormal_short_term_variability   \n",
       "importance_baseline                            0.157685   \n",
       "sm_importance_baseline                         0.173725   \n",
       "\n",
       "                                                           7  \\\n",
       "features                mean_value_of_short_term_variability   \n",
       "importance_baseline                                 0.149226   \n",
       "sm_importance_baseline                              0.104371   \n",
       "\n",
       "                                                                        8  \\\n",
       "features                percentage_of_time_with_abnormal_long_term_var...   \n",
       "importance_baseline                                             0.0898387   \n",
       "sm_importance_baseline                                          0.0807028   \n",
       "\n",
       "                                                          9               10  \\\n",
       "features                mean_value_of_long_term_variability  histogram_width   \n",
       "importance_baseline                               0.0122778        0.0241374   \n",
       "sm_importance_baseline                           0.00967133        0.0139368   \n",
       "\n",
       "                                   11             12  \\\n",
       "features                histogram_min  histogram_max   \n",
       "importance_baseline         0.0345421     0.00347558   \n",
       "sm_importance_baseline      0.0450373       0.007946   \n",
       "\n",
       "                                               13              14  \\\n",
       "features                histogram_number_of_peaks  histogram_mode   \n",
       "importance_baseline                    0.00129207       0.0299309   \n",
       "sm_importance_baseline                0.000497999       0.0139928   \n",
       "\n",
       "                                    15                16                  17  \\\n",
       "features                histogram_mean  histogram_median  histogram_variance   \n",
       "importance_baseline           0.100239         0.0523094           0.0412711   \n",
       "sm_importance_baseline       0.0629823         0.0220239           0.0390045   \n",
       "\n",
       "                                          18            19                 20  \\\n",
       "features                uterine_cont_per_min  total_change  sqrt_total_change   \n",
       "importance_baseline                0.0316257     0.0267606          0.0168846   \n",
       "sm_importance_baseline             0.0415174     0.0158197         0.00860188   \n",
       "\n",
       "                                    21              22              23  \\\n",
       "features                hist_zeros_1.0  hist_zeros_2.0  hist_zeros_3.0   \n",
       "importance_baseline        0.000475167               0               0   \n",
       "sm_importance_baseline               0               0               0   \n",
       "\n",
       "                                    24              25              26  \\\n",
       "features                hist_zeros_4.0  hist_zeros_5.0  hist_zeros_7.0   \n",
       "importance_baseline                  0               0               0   \n",
       "sm_importance_baseline               0               0               0   \n",
       "\n",
       "                                    27               28                 29  \\\n",
       "features                hist_zeros_8.0  hist_zeros_10.0  hist_tendancy_0.0   \n",
       "importance_baseline                  0                0                  0   \n",
       "sm_importance_baseline               0                0                  0   \n",
       "\n",
       "                                       30               31           32  \\\n",
       "features                hist_tendancy_1.0  sev_decel_0.001  quant_acc_1   \n",
       "importance_baseline           0.000412919                0    0.0050735   \n",
       "sm_importance_baseline                  0                0    0.0241652   \n",
       "\n",
       "                                       33                 34  \\\n",
       "features                quant_light_dec_1  quant_hist_mean_1   \n",
       "importance_baseline            0.00202451        6.36107e-07   \n",
       "sm_importance_baseline        0.000976957        0.000289048   \n",
       "\n",
       "                                       35                 36  \\\n",
       "features                quant_hist_mean_2  quant_hist_mean_3   \n",
       "importance_baseline                     0        0.000271607   \n",
       "sm_importance_baseline        0.000687007         0.00428605   \n",
       "\n",
       "                                       37                 38  \\\n",
       "features                quant_hist_mean_4  quant_hist_mean_5   \n",
       "importance_baseline           0.000183496        0.000962509   \n",
       "sm_importance_baseline                  0        0.000333931   \n",
       "\n",
       "                                       39  \n",
       "features                quant_hist_mean_6  \n",
       "importance_baseline            0.00208523  \n",
       "sm_importance_baseline         0.00104688  "
      ]
     },
     "execution_count": 56,
     "metadata": {},
     "output_type": "execute_result"
    }
   ],
   "source": [
    "#Create table of feature coefficients\n",
    "coef_table = pd.DataFrame(list(X_train.columns)).copy()\n",
    "coef_table.insert(len(coef_table.columns),\"Coefs\",rfc.feature_importances_.transpose())\n",
    "\n",
    "coef_table_2 = pd.DataFrame(list(X_train_smote.columns)).copy()\n",
    "coef_table_2.insert(len(coef_table_2.columns),'sm_Coefs',smrfc.feature_importances_.transpose())\n",
    "\n",
    "smote_vs_coef = pd.concat([coef_table,coef_table_2],axis=1)\n",
    "smote_vs_coef.columns = ['features','importance_baseline','del','sm_importance_baseline']\n",
    "del smote_vs_coef['del']\n",
    "smote_vs_coef.transpose()"
   ]
  },
  {
   "cell_type": "markdown",
   "metadata": {},
   "source": [
    "## Grid Search Random Forest\n",
    "- We ran a gridsearch on the random forest to identify what the best hyperparamters where for the model.  We checked several estimator sizes, max depth and min weight fraction leaf to find the ideal parameters.  "
   ]
  },
  {
   "cell_type": "code",
   "execution_count": 57,
   "metadata": {
    "ExecuteTime": {
     "end_time": "2021-03-17T03:04:49.933375Z",
     "start_time": "2021-03-17T03:04:49.929136Z"
    }
   },
   "outputs": [],
   "source": [
    "#parameter grid for grid search with lists of estimators, both criterion, a list of max depths sqrt max features \n",
    "#and a list of min weight fraction leaf\n",
    "parameters = {\n",
    "    'n_estimators': [25,50,100,300,500],\n",
    "    'criterion' : ['gini','entropy'],\n",
    "    'max_depth' : [8,9,10,11,12],\n",
    "    'max_features' : ['sqrt'],\n",
    "    'min_weight_fraction_leaf' : [0,0.1,0.3,0.5],\n",
    "}"
   ]
  },
  {
   "cell_type": "code",
   "execution_count": 58,
   "metadata": {
    "ExecuteTime": {
     "end_time": "2021-03-17T03:04:51.197265Z",
     "start_time": "2021-03-17T03:04:51.194646Z"
    }
   },
   "outputs": [],
   "source": [
    "#Gridsearch with random forest\n",
    "grid_tree=GridSearchCV(RandomForestClassifier(), parameters, cv=15, scoring='f1', verbose=1, n_jobs=-1)"
   ]
  },
  {
   "cell_type": "code",
   "execution_count": 59,
   "metadata": {
    "ExecuteTime": {
     "end_time": "2021-03-17T03:13:54.242912Z",
     "start_time": "2021-03-17T03:05:16.231283Z"
    }
   },
   "outputs": [
    {
     "name": "stdout",
     "output_type": "stream",
     "text": [
      "Fitting 15 folds for each of 200 candidates, totalling 3000 fits\n"
     ]
    },
    {
     "name": "stderr",
     "output_type": "stream",
     "text": [
      "[Parallel(n_jobs=-1)]: Done  34 tasks      | elapsed:    2.0s\n",
      "[Parallel(n_jobs=-1)]: Done 184 tasks      | elapsed:   25.2s\n",
      "[Parallel(n_jobs=-1)]: Done 434 tasks      | elapsed:  1.2min\n",
      "[Parallel(n_jobs=-1)]: Done 784 tasks      | elapsed:  2.2min\n",
      "[Parallel(n_jobs=-1)]: Done 1234 tasks      | elapsed:  3.2min\n",
      "[Parallel(n_jobs=-1)]: Done 1784 tasks      | elapsed:  4.8min\n",
      "[Parallel(n_jobs=-1)]: Done 2434 tasks      | elapsed:  6.8min\n",
      "[Parallel(n_jobs=-1)]: Done 3000 out of 3000 | elapsed:  8.6min finished\n"
     ]
    },
    {
     "data": {
      "text/plain": [
       "GridSearchCV(cv=15, error_score=nan,\n",
       "             estimator=RandomForestClassifier(bootstrap=True, ccp_alpha=0.0,\n",
       "                                              class_weight=None,\n",
       "                                              criterion='gini', max_depth=None,\n",
       "                                              max_features='auto',\n",
       "                                              max_leaf_nodes=None,\n",
       "                                              max_samples=None,\n",
       "                                              min_impurity_decrease=0.0,\n",
       "                                              min_impurity_split=None,\n",
       "                                              min_samples_leaf=1,\n",
       "                                              min_samples_split=2,\n",
       "                                              min_weight_fraction_leaf=0.0,\n",
       "                                              n_estimators=100, n_jobs=None,\n",
       "                                              oob_score=False,\n",
       "                                              random_state=None, verbose=0,\n",
       "                                              warm_start=False),\n",
       "             iid='deprecated', n_jobs=-1,\n",
       "             param_grid={'criterion': ['gini', 'entropy'],\n",
       "                         'max_depth': [8, 9, 10, 11, 12],\n",
       "                         'max_features': ['sqrt'],\n",
       "                         'min_weight_fraction_leaf': [0, 0.1, 0.3, 0.5],\n",
       "                         'n_estimators': [25, 50, 100, 300, 500]},\n",
       "             pre_dispatch='2*n_jobs', refit=True, return_train_score=False,\n",
       "             scoring='f1', verbose=1)"
      ]
     },
     "execution_count": 59,
     "metadata": {},
     "output_type": "execute_result"
    }
   ],
   "source": [
    "# Fit random forest grid serch to SMOTE train set\n",
    "grid_tree.fit(X_train_smote, y_train_smote)"
   ]
  },
  {
   "cell_type": "code",
   "execution_count": 60,
   "metadata": {
    "ExecuteTime": {
     "end_time": "2021-03-17T03:13:54.255301Z",
     "start_time": "2021-03-17T03:13:54.246635Z"
    }
   },
   "outputs": [
    {
     "name": "stdout",
     "output_type": "stream",
     "text": [
      "0.9753981661884176\n",
      "\n",
      "{'criterion': 'gini', 'max_depth': 12, 'max_features': 'sqrt', 'min_weight_fraction_leaf': 0, 'n_estimators': 50}\n",
      "\n",
      "RandomForestClassifier(bootstrap=True, ccp_alpha=0.0, class_weight=None,\n",
      "                       criterion='gini', max_depth=12, max_features='sqrt',\n",
      "                       max_leaf_nodes=None, max_samples=None,\n",
      "                       min_impurity_decrease=0.0, min_impurity_split=None,\n",
      "                       min_samples_leaf=1, min_samples_split=2,\n",
      "                       min_weight_fraction_leaf=0, n_estimators=50, n_jobs=None,\n",
      "                       oob_score=False, random_state=None, verbose=0,\n",
      "                       warm_start=False)\n"
     ]
    }
   ],
   "source": [
    "# Find the best score, best parameters and best estimator for grid search\n",
    "print(grid_tree.best_score_)\n",
    "print()\n",
    "print(grid_tree.best_params_)\n",
    "print()\n",
    "print(grid_tree.best_estimator_)"
   ]
  },
  {
   "cell_type": "code",
   "execution_count": 61,
   "metadata": {
    "ExecuteTime": {
     "end_time": "2021-03-17T03:13:54.296160Z",
     "start_time": "2021-03-17T03:13:54.260266Z"
    }
   },
   "outputs": [
    {
     "name": "stdout",
     "output_type": "stream",
     "text": [
      "Evaluation Metrics:\n",
      "Accuracy: 0.9586466165413534\n",
      "Precision: 0.9662650602409638\n",
      "Recall: 0.980440097799511\n",
      "F1 Score: 0.9733009708737864\n",
      "\n",
      "Confusion Matrix:\n",
      " TN,  FP, FN, TP\n",
      "[401   8  14 109]\n"
     ]
    }
   ],
   "source": [
    "# Evaluation metrics for random forest gridsearch best parameters\n",
    "y_pred = grid_tree.best_estimator_.predict(X_test)\n",
    "evaluation(y_test,y_pred)"
   ]
  },
  {
   "cell_type": "markdown",
   "metadata": {},
   "source": [
    "**Findings:** \n",
    "- The best parameters for the random forest was a max depth of 11, min weight fraction leave of 0, and 500 estimators.  The Evaluation metrics where our highest score with the experimental set so far.  Below we compared feature importance for the three random forest models we ran and then graphed the top ten important features to visualize there importance for fetal health classification."
   ]
  },
  {
   "cell_type": "code",
   "execution_count": 62,
   "metadata": {
    "ExecuteTime": {
     "end_time": "2021-03-17T03:13:54.365807Z",
     "start_time": "2021-03-17T03:13:54.299918Z"
    }
   },
   "outputs": [
    {
     "data": {
      "text/html": [
       "<div>\n",
       "<style scoped>\n",
       "    .dataframe tbody tr th:only-of-type {\n",
       "        vertical-align: middle;\n",
       "    }\n",
       "\n",
       "    .dataframe tbody tr th {\n",
       "        vertical-align: top;\n",
       "    }\n",
       "\n",
       "    .dataframe thead th {\n",
       "        text-align: right;\n",
       "    }\n",
       "</style>\n",
       "<table border=\"1\" class=\"dataframe\">\n",
       "  <thead>\n",
       "    <tr style=\"text-align: right;\">\n",
       "      <th></th>\n",
       "      <th>0</th>\n",
       "      <th>1</th>\n",
       "      <th>2</th>\n",
       "      <th>3</th>\n",
       "      <th>4</th>\n",
       "      <th>5</th>\n",
       "      <th>6</th>\n",
       "      <th>7</th>\n",
       "      <th>8</th>\n",
       "      <th>9</th>\n",
       "      <th>10</th>\n",
       "      <th>11</th>\n",
       "      <th>12</th>\n",
       "      <th>13</th>\n",
       "      <th>14</th>\n",
       "      <th>15</th>\n",
       "      <th>16</th>\n",
       "      <th>17</th>\n",
       "      <th>18</th>\n",
       "      <th>19</th>\n",
       "      <th>20</th>\n",
       "      <th>21</th>\n",
       "      <th>22</th>\n",
       "      <th>23</th>\n",
       "      <th>24</th>\n",
       "      <th>25</th>\n",
       "      <th>26</th>\n",
       "      <th>27</th>\n",
       "      <th>28</th>\n",
       "      <th>29</th>\n",
       "      <th>30</th>\n",
       "      <th>31</th>\n",
       "      <th>32</th>\n",
       "      <th>33</th>\n",
       "      <th>34</th>\n",
       "      <th>35</th>\n",
       "      <th>36</th>\n",
       "      <th>37</th>\n",
       "      <th>38</th>\n",
       "      <th>39</th>\n",
       "    </tr>\n",
       "  </thead>\n",
       "  <tbody>\n",
       "    <tr>\n",
       "      <th>0</th>\n",
       "      <td>baseline value</td>\n",
       "      <td>accelerations</td>\n",
       "      <td>fetal_movement</td>\n",
       "      <td>uterine_contractions</td>\n",
       "      <td>light_decelerations</td>\n",
       "      <td>prolongued_decelerations</td>\n",
       "      <td>abnormal_short_term_variability</td>\n",
       "      <td>mean_value_of_short_term_variability</td>\n",
       "      <td>percentage_of_time_with_abnormal_long_term_var...</td>\n",
       "      <td>mean_value_of_long_term_variability</td>\n",
       "      <td>histogram_width</td>\n",
       "      <td>histogram_min</td>\n",
       "      <td>histogram_max</td>\n",
       "      <td>histogram_number_of_peaks</td>\n",
       "      <td>histogram_mode</td>\n",
       "      <td>histogram_mean</td>\n",
       "      <td>histogram_median</td>\n",
       "      <td>histogram_variance</td>\n",
       "      <td>uterine_cont_per_min</td>\n",
       "      <td>total_change</td>\n",
       "      <td>sqrt_total_change</td>\n",
       "      <td>hist_zeros_1.0</td>\n",
       "      <td>hist_zeros_2.0</td>\n",
       "      <td>hist_zeros_3.0</td>\n",
       "      <td>hist_zeros_4.0</td>\n",
       "      <td>hist_zeros_5.0</td>\n",
       "      <td>hist_zeros_7.0</td>\n",
       "      <td>hist_zeros_8.0</td>\n",
       "      <td>hist_zeros_10.0</td>\n",
       "      <td>hist_tendancy_0.0</td>\n",
       "      <td>hist_tendancy_1.0</td>\n",
       "      <td>sev_decel_0.001</td>\n",
       "      <td>quant_acc_1</td>\n",
       "      <td>quant_light_dec_1</td>\n",
       "      <td>quant_hist_mean_1</td>\n",
       "      <td>quant_hist_mean_2</td>\n",
       "      <td>quant_hist_mean_3</td>\n",
       "      <td>quant_hist_mean_4</td>\n",
       "      <td>quant_hist_mean_5</td>\n",
       "      <td>quant_hist_mean_6</td>\n",
       "    </tr>\n",
       "    <tr>\n",
       "      <th>Coefs</th>\n",
       "      <td>0.0253198</td>\n",
       "      <td>0.111056</td>\n",
       "      <td>0.0133262</td>\n",
       "      <td>0.0272228</td>\n",
       "      <td>0.00884189</td>\n",
       "      <td>0.0499036</td>\n",
       "      <td>0.167461</td>\n",
       "      <td>0.090732</td>\n",
       "      <td>0.0614142</td>\n",
       "      <td>0.0280673</td>\n",
       "      <td>0.0213656</td>\n",
       "      <td>0.0337478</td>\n",
       "      <td>0.0202811</td>\n",
       "      <td>0.0143864</td>\n",
       "      <td>0.0390797</td>\n",
       "      <td>0.0669102</td>\n",
       "      <td>0.0514727</td>\n",
       "      <td>0.0465844</td>\n",
       "      <td>0.036311</td>\n",
       "      <td>0.0209053</td>\n",
       "      <td>0.0227478</td>\n",
       "      <td>0.00083542</td>\n",
       "      <td>0.000683196</td>\n",
       "      <td>0.000339523</td>\n",
       "      <td>0.000314223</td>\n",
       "      <td>0</td>\n",
       "      <td>0</td>\n",
       "      <td>0</td>\n",
       "      <td>0</td>\n",
       "      <td>0.00280929</td>\n",
       "      <td>0.00294722</td>\n",
       "      <td>0.000320958</td>\n",
       "      <td>0.0175078</td>\n",
       "      <td>0.00272703</td>\n",
       "      <td>0.00347671</td>\n",
       "      <td>0.00196887</td>\n",
       "      <td>0.0027366</td>\n",
       "      <td>0.00110818</td>\n",
       "      <td>0.0016362</td>\n",
       "      <td>0.00345193</td>\n",
       "    </tr>\n",
       "  </tbody>\n",
       "</table>\n",
       "</div>"
      ],
      "text/plain": [
       "                    0              1               2                     3  \\\n",
       "0      baseline value  accelerations  fetal_movement  uterine_contractions   \n",
       "Coefs       0.0253198       0.111056       0.0133262             0.0272228   \n",
       "\n",
       "                         4                         5  \\\n",
       "0      light_decelerations  prolongued_decelerations   \n",
       "Coefs           0.00884189                 0.0499036   \n",
       "\n",
       "                                     6                                     7  \\\n",
       "0      abnormal_short_term_variability  mean_value_of_short_term_variability   \n",
       "Coefs                         0.167461                              0.090732   \n",
       "\n",
       "                                                       8  \\\n",
       "0      percentage_of_time_with_abnormal_long_term_var...   \n",
       "Coefs                                          0.0614142   \n",
       "\n",
       "                                         9               10             11  \\\n",
       "0      mean_value_of_long_term_variability  histogram_width  histogram_min   \n",
       "Coefs                            0.0280673        0.0213656      0.0337478   \n",
       "\n",
       "                  12                         13              14  \\\n",
       "0      histogram_max  histogram_number_of_peaks  histogram_mode   \n",
       "Coefs      0.0202811                  0.0143864       0.0390797   \n",
       "\n",
       "                   15                16                  17  \\\n",
       "0      histogram_mean  histogram_median  histogram_variance   \n",
       "Coefs       0.0669102         0.0514727           0.0465844   \n",
       "\n",
       "                         18            19                 20              21  \\\n",
       "0      uterine_cont_per_min  total_change  sqrt_total_change  hist_zeros_1.0   \n",
       "Coefs              0.036311     0.0209053          0.0227478      0.00083542   \n",
       "\n",
       "                   22              23              24              25  \\\n",
       "0      hist_zeros_2.0  hist_zeros_3.0  hist_zeros_4.0  hist_zeros_5.0   \n",
       "Coefs     0.000683196     0.000339523     0.000314223               0   \n",
       "\n",
       "                   26              27               28                 29  \\\n",
       "0      hist_zeros_7.0  hist_zeros_8.0  hist_zeros_10.0  hist_tendancy_0.0   \n",
       "Coefs               0               0                0         0.00280929   \n",
       "\n",
       "                      30               31           32                 33  \\\n",
       "0      hist_tendancy_1.0  sev_decel_0.001  quant_acc_1  quant_light_dec_1   \n",
       "Coefs         0.00294722      0.000320958    0.0175078         0.00272703   \n",
       "\n",
       "                      34                 35                 36  \\\n",
       "0      quant_hist_mean_1  quant_hist_mean_2  quant_hist_mean_3   \n",
       "Coefs         0.00347671         0.00196887          0.0027366   \n",
       "\n",
       "                      37                 38                 39  \n",
       "0      quant_hist_mean_4  quant_hist_mean_5  quant_hist_mean_6  \n",
       "Coefs         0.00110818          0.0016362         0.00345193  "
      ]
     },
     "execution_count": 62,
     "metadata": {},
     "output_type": "execute_result"
    }
   ],
   "source": [
    "# Best feature table for random forest gridsearch best parameters\n",
    "coef_table = pd.DataFrame(list(X_train.columns)).copy()\n",
    "coef_table.insert(len(coef_table.columns),\"Coefs\",grid_tree.best_estimator_.feature_importances_.transpose())\n",
    "coef_table.transpose()"
   ]
  },
  {
   "cell_type": "code",
   "execution_count": 63,
   "metadata": {
    "ExecuteTime": {
     "end_time": "2021-03-17T03:13:54.377089Z",
     "start_time": "2021-03-17T03:13:54.370096Z"
    }
   },
   "outputs": [],
   "source": [
    "# Table comparing random forest best features between imbalanced data set, smote and smote with gridsearch best features\n",
    "coef_table.columns = ['features','grid_search_importance']\n",
    "del coef_table['features']\n",
    "best_features_rfc = pd.concat([smote_vs_coef,coef_table],axis=1)"
   ]
  },
  {
   "cell_type": "code",
   "execution_count": 64,
   "metadata": {
    "ExecuteTime": {
     "end_time": "2021-03-17T03:13:54.438276Z",
     "start_time": "2021-03-17T03:13:54.380282Z"
    }
   },
   "outputs": [
    {
     "data": {
      "text/html": [
       "<div>\n",
       "<style scoped>\n",
       "    .dataframe tbody tr th:only-of-type {\n",
       "        vertical-align: middle;\n",
       "    }\n",
       "\n",
       "    .dataframe tbody tr th {\n",
       "        vertical-align: top;\n",
       "    }\n",
       "\n",
       "    .dataframe thead th {\n",
       "        text-align: right;\n",
       "    }\n",
       "</style>\n",
       "<table border=\"1\" class=\"dataframe\">\n",
       "  <thead>\n",
       "    <tr style=\"text-align: right;\">\n",
       "      <th></th>\n",
       "      <th>0</th>\n",
       "      <th>1</th>\n",
       "      <th>2</th>\n",
       "      <th>3</th>\n",
       "      <th>4</th>\n",
       "      <th>5</th>\n",
       "      <th>6</th>\n",
       "      <th>7</th>\n",
       "      <th>8</th>\n",
       "      <th>9</th>\n",
       "      <th>10</th>\n",
       "      <th>11</th>\n",
       "      <th>12</th>\n",
       "      <th>13</th>\n",
       "      <th>14</th>\n",
       "      <th>15</th>\n",
       "      <th>16</th>\n",
       "      <th>17</th>\n",
       "      <th>18</th>\n",
       "      <th>19</th>\n",
       "      <th>20</th>\n",
       "      <th>21</th>\n",
       "      <th>22</th>\n",
       "      <th>23</th>\n",
       "      <th>24</th>\n",
       "      <th>25</th>\n",
       "      <th>26</th>\n",
       "      <th>27</th>\n",
       "      <th>28</th>\n",
       "      <th>29</th>\n",
       "      <th>30</th>\n",
       "      <th>31</th>\n",
       "      <th>32</th>\n",
       "      <th>33</th>\n",
       "      <th>34</th>\n",
       "      <th>35</th>\n",
       "      <th>36</th>\n",
       "      <th>37</th>\n",
       "      <th>38</th>\n",
       "      <th>39</th>\n",
       "    </tr>\n",
       "  </thead>\n",
       "  <tbody>\n",
       "    <tr>\n",
       "      <th>features</th>\n",
       "      <td>baseline value</td>\n",
       "      <td>accelerations</td>\n",
       "      <td>fetal_movement</td>\n",
       "      <td>uterine_contractions</td>\n",
       "      <td>light_decelerations</td>\n",
       "      <td>prolongued_decelerations</td>\n",
       "      <td>abnormal_short_term_variability</td>\n",
       "      <td>mean_value_of_short_term_variability</td>\n",
       "      <td>percentage_of_time_with_abnormal_long_term_var...</td>\n",
       "      <td>mean_value_of_long_term_variability</td>\n",
       "      <td>histogram_width</td>\n",
       "      <td>histogram_min</td>\n",
       "      <td>histogram_max</td>\n",
       "      <td>histogram_number_of_peaks</td>\n",
       "      <td>histogram_mode</td>\n",
       "      <td>histogram_mean</td>\n",
       "      <td>histogram_median</td>\n",
       "      <td>histogram_variance</td>\n",
       "      <td>uterine_cont_per_min</td>\n",
       "      <td>total_change</td>\n",
       "      <td>sqrt_total_change</td>\n",
       "      <td>hist_zeros_1.0</td>\n",
       "      <td>hist_zeros_2.0</td>\n",
       "      <td>hist_zeros_3.0</td>\n",
       "      <td>hist_zeros_4.0</td>\n",
       "      <td>hist_zeros_5.0</td>\n",
       "      <td>hist_zeros_7.0</td>\n",
       "      <td>hist_zeros_8.0</td>\n",
       "      <td>hist_zeros_10.0</td>\n",
       "      <td>hist_tendancy_0.0</td>\n",
       "      <td>hist_tendancy_1.0</td>\n",
       "      <td>sev_decel_0.001</td>\n",
       "      <td>quant_acc_1</td>\n",
       "      <td>quant_light_dec_1</td>\n",
       "      <td>quant_hist_mean_1</td>\n",
       "      <td>quant_hist_mean_2</td>\n",
       "      <td>quant_hist_mean_3</td>\n",
       "      <td>quant_hist_mean_4</td>\n",
       "      <td>quant_hist_mean_5</td>\n",
       "      <td>quant_hist_mean_6</td>\n",
       "    </tr>\n",
       "    <tr>\n",
       "      <th>importance_baseline</th>\n",
       "      <td>0.00992676</td>\n",
       "      <td>0.103532</td>\n",
       "      <td>0.00470882</td>\n",
       "      <td>0.0105892</td>\n",
       "      <td>0.00061708</td>\n",
       "      <td>0.0876404</td>\n",
       "      <td>0.157685</td>\n",
       "      <td>0.149226</td>\n",
       "      <td>0.0898387</td>\n",
       "      <td>0.0122778</td>\n",
       "      <td>0.0241374</td>\n",
       "      <td>0.0345421</td>\n",
       "      <td>0.00347558</td>\n",
       "      <td>0.00129207</td>\n",
       "      <td>0.0299309</td>\n",
       "      <td>0.100239</td>\n",
       "      <td>0.0523094</td>\n",
       "      <td>0.0412711</td>\n",
       "      <td>0.0316257</td>\n",
       "      <td>0.0267606</td>\n",
       "      <td>0.0168846</td>\n",
       "      <td>0.000475167</td>\n",
       "      <td>0</td>\n",
       "      <td>0</td>\n",
       "      <td>0</td>\n",
       "      <td>0</td>\n",
       "      <td>0</td>\n",
       "      <td>0</td>\n",
       "      <td>0</td>\n",
       "      <td>0</td>\n",
       "      <td>0.000412919</td>\n",
       "      <td>0</td>\n",
       "      <td>0.0050735</td>\n",
       "      <td>0.00202451</td>\n",
       "      <td>6.36107e-07</td>\n",
       "      <td>0</td>\n",
       "      <td>0.000271607</td>\n",
       "      <td>0.000183496</td>\n",
       "      <td>0.000962509</td>\n",
       "      <td>0.00208523</td>\n",
       "    </tr>\n",
       "    <tr>\n",
       "      <th>sm_importance_baseline</th>\n",
       "      <td>0.0172741</td>\n",
       "      <td>0.20107</td>\n",
       "      <td>0.00249253</td>\n",
       "      <td>0.0203137</td>\n",
       "      <td>0.00140923</td>\n",
       "      <td>0.0858243</td>\n",
       "      <td>0.173725</td>\n",
       "      <td>0.104371</td>\n",
       "      <td>0.0807028</td>\n",
       "      <td>0.00967133</td>\n",
       "      <td>0.0139368</td>\n",
       "      <td>0.0450373</td>\n",
       "      <td>0.007946</td>\n",
       "      <td>0.000497999</td>\n",
       "      <td>0.0139928</td>\n",
       "      <td>0.0629823</td>\n",
       "      <td>0.0220239</td>\n",
       "      <td>0.0390045</td>\n",
       "      <td>0.0415174</td>\n",
       "      <td>0.0158197</td>\n",
       "      <td>0.00860188</td>\n",
       "      <td>0</td>\n",
       "      <td>0</td>\n",
       "      <td>0</td>\n",
       "      <td>0</td>\n",
       "      <td>0</td>\n",
       "      <td>0</td>\n",
       "      <td>0</td>\n",
       "      <td>0</td>\n",
       "      <td>0</td>\n",
       "      <td>0</td>\n",
       "      <td>0</td>\n",
       "      <td>0.0241652</td>\n",
       "      <td>0.000976957</td>\n",
       "      <td>0.000289048</td>\n",
       "      <td>0.000687007</td>\n",
       "      <td>0.00428605</td>\n",
       "      <td>0</td>\n",
       "      <td>0.000333931</td>\n",
       "      <td>0.00104688</td>\n",
       "    </tr>\n",
       "    <tr>\n",
       "      <th>grid_search_importance</th>\n",
       "      <td>0.0253198</td>\n",
       "      <td>0.111056</td>\n",
       "      <td>0.0133262</td>\n",
       "      <td>0.0272228</td>\n",
       "      <td>0.00884189</td>\n",
       "      <td>0.0499036</td>\n",
       "      <td>0.167461</td>\n",
       "      <td>0.090732</td>\n",
       "      <td>0.0614142</td>\n",
       "      <td>0.0280673</td>\n",
       "      <td>0.0213656</td>\n",
       "      <td>0.0337478</td>\n",
       "      <td>0.0202811</td>\n",
       "      <td>0.0143864</td>\n",
       "      <td>0.0390797</td>\n",
       "      <td>0.0669102</td>\n",
       "      <td>0.0514727</td>\n",
       "      <td>0.0465844</td>\n",
       "      <td>0.036311</td>\n",
       "      <td>0.0209053</td>\n",
       "      <td>0.0227478</td>\n",
       "      <td>0.00083542</td>\n",
       "      <td>0.000683196</td>\n",
       "      <td>0.000339523</td>\n",
       "      <td>0.000314223</td>\n",
       "      <td>0</td>\n",
       "      <td>0</td>\n",
       "      <td>0</td>\n",
       "      <td>0</td>\n",
       "      <td>0.00280929</td>\n",
       "      <td>0.00294722</td>\n",
       "      <td>0.000320958</td>\n",
       "      <td>0.0175078</td>\n",
       "      <td>0.00272703</td>\n",
       "      <td>0.00347671</td>\n",
       "      <td>0.00196887</td>\n",
       "      <td>0.0027366</td>\n",
       "      <td>0.00110818</td>\n",
       "      <td>0.0016362</td>\n",
       "      <td>0.00345193</td>\n",
       "    </tr>\n",
       "  </tbody>\n",
       "</table>\n",
       "</div>"
      ],
      "text/plain": [
       "                                     0              1               2  \\\n",
       "features                baseline value  accelerations  fetal_movement   \n",
       "importance_baseline         0.00992676       0.103532      0.00470882   \n",
       "sm_importance_baseline       0.0172741        0.20107      0.00249253   \n",
       "grid_search_importance       0.0253198       0.111056       0.0133262   \n",
       "\n",
       "                                           3                    4  \\\n",
       "features                uterine_contractions  light_decelerations   \n",
       "importance_baseline                0.0105892           0.00061708   \n",
       "sm_importance_baseline             0.0203137           0.00140923   \n",
       "grid_search_importance             0.0272228           0.00884189   \n",
       "\n",
       "                                               5  \\\n",
       "features                prolongued_decelerations   \n",
       "importance_baseline                    0.0876404   \n",
       "sm_importance_baseline                 0.0858243   \n",
       "grid_search_importance                 0.0499036   \n",
       "\n",
       "                                                      6  \\\n",
       "features                abnormal_short_term_variability   \n",
       "importance_baseline                            0.157685   \n",
       "sm_importance_baseline                         0.173725   \n",
       "grid_search_importance                         0.167461   \n",
       "\n",
       "                                                           7  \\\n",
       "features                mean_value_of_short_term_variability   \n",
       "importance_baseline                                 0.149226   \n",
       "sm_importance_baseline                              0.104371   \n",
       "grid_search_importance                              0.090732   \n",
       "\n",
       "                                                                        8  \\\n",
       "features                percentage_of_time_with_abnormal_long_term_var...   \n",
       "importance_baseline                                             0.0898387   \n",
       "sm_importance_baseline                                          0.0807028   \n",
       "grid_search_importance                                          0.0614142   \n",
       "\n",
       "                                                          9               10  \\\n",
       "features                mean_value_of_long_term_variability  histogram_width   \n",
       "importance_baseline                               0.0122778        0.0241374   \n",
       "sm_importance_baseline                           0.00967133        0.0139368   \n",
       "grid_search_importance                            0.0280673        0.0213656   \n",
       "\n",
       "                                   11             12  \\\n",
       "features                histogram_min  histogram_max   \n",
       "importance_baseline         0.0345421     0.00347558   \n",
       "sm_importance_baseline      0.0450373       0.007946   \n",
       "grid_search_importance      0.0337478      0.0202811   \n",
       "\n",
       "                                               13              14  \\\n",
       "features                histogram_number_of_peaks  histogram_mode   \n",
       "importance_baseline                    0.00129207       0.0299309   \n",
       "sm_importance_baseline                0.000497999       0.0139928   \n",
       "grid_search_importance                  0.0143864       0.0390797   \n",
       "\n",
       "                                    15                16                  17  \\\n",
       "features                histogram_mean  histogram_median  histogram_variance   \n",
       "importance_baseline           0.100239         0.0523094           0.0412711   \n",
       "sm_importance_baseline       0.0629823         0.0220239           0.0390045   \n",
       "grid_search_importance       0.0669102         0.0514727           0.0465844   \n",
       "\n",
       "                                          18            19                 20  \\\n",
       "features                uterine_cont_per_min  total_change  sqrt_total_change   \n",
       "importance_baseline                0.0316257     0.0267606          0.0168846   \n",
       "sm_importance_baseline             0.0415174     0.0158197         0.00860188   \n",
       "grid_search_importance              0.036311     0.0209053          0.0227478   \n",
       "\n",
       "                                    21              22              23  \\\n",
       "features                hist_zeros_1.0  hist_zeros_2.0  hist_zeros_3.0   \n",
       "importance_baseline        0.000475167               0               0   \n",
       "sm_importance_baseline               0               0               0   \n",
       "grid_search_importance      0.00083542     0.000683196     0.000339523   \n",
       "\n",
       "                                    24              25              26  \\\n",
       "features                hist_zeros_4.0  hist_zeros_5.0  hist_zeros_7.0   \n",
       "importance_baseline                  0               0               0   \n",
       "sm_importance_baseline               0               0               0   \n",
       "grid_search_importance     0.000314223               0               0   \n",
       "\n",
       "                                    27               28                 29  \\\n",
       "features                hist_zeros_8.0  hist_zeros_10.0  hist_tendancy_0.0   \n",
       "importance_baseline                  0                0                  0   \n",
       "sm_importance_baseline               0                0                  0   \n",
       "grid_search_importance               0                0         0.00280929   \n",
       "\n",
       "                                       30               31           32  \\\n",
       "features                hist_tendancy_1.0  sev_decel_0.001  quant_acc_1   \n",
       "importance_baseline           0.000412919                0    0.0050735   \n",
       "sm_importance_baseline                  0                0    0.0241652   \n",
       "grid_search_importance         0.00294722      0.000320958    0.0175078   \n",
       "\n",
       "                                       33                 34  \\\n",
       "features                quant_light_dec_1  quant_hist_mean_1   \n",
       "importance_baseline            0.00202451        6.36107e-07   \n",
       "sm_importance_baseline        0.000976957        0.000289048   \n",
       "grid_search_importance         0.00272703         0.00347671   \n",
       "\n",
       "                                       35                 36  \\\n",
       "features                quant_hist_mean_2  quant_hist_mean_3   \n",
       "importance_baseline                     0        0.000271607   \n",
       "sm_importance_baseline        0.000687007         0.00428605   \n",
       "grid_search_importance         0.00196887          0.0027366   \n",
       "\n",
       "                                       37                 38  \\\n",
       "features                quant_hist_mean_4  quant_hist_mean_5   \n",
       "importance_baseline           0.000183496        0.000962509   \n",
       "sm_importance_baseline                  0        0.000333931   \n",
       "grid_search_importance         0.00110818          0.0016362   \n",
       "\n",
       "                                       39  \n",
       "features                quant_hist_mean_6  \n",
       "importance_baseline            0.00208523  \n",
       "sm_importance_baseline         0.00104688  \n",
       "grid_search_importance         0.00345193  "
      ]
     },
     "execution_count": 64,
     "metadata": {},
     "output_type": "execute_result"
    }
   ],
   "source": [
    "best_features_rfc.transpose()"
   ]
  },
  {
   "cell_type": "code",
   "execution_count": 65,
   "metadata": {
    "ExecuteTime": {
     "end_time": "2021-03-17T03:13:54.804983Z",
     "start_time": "2021-03-17T03:13:54.441303Z"
    }
   },
   "outputs": [
    {
     "data": {
      "image/png": "[encoded data removed]",
      "text/plain": [
       "<Figure size 432x288 with 1 Axes>"
      ]
     },
     "metadata": {
      "needs_background": "light"
     },
     "output_type": "display_data"
    }
   ],
   "source": [
    "pd.Series(grid_tree.best_estimator_.feature_importances_, index=X.columns).nlargest(10).plot(kind='barh')\n",
    "plt.title('Feature Importance', fontsize=20)\n",
    "plt.yticks(fontsize=16)\n",
    "plt.xticks(fontsize=16)\n",
    "plt.show()"
   ]
  },
  {
   "cell_type": "markdown",
   "metadata": {},
   "source": [
    "**findings**\n",
    "- In the Above graphe you can see the top ten importanct features for our grid search random foret model.  Abnormal_short_term_variatability, acceleration and mean_value_of_short_term_varitability seem to be key factors in health classification.  We can infer from this that extended rapid extreme changes in fetal heart rate are detrimental to fetal health."
   ]
  },
  {
   "cell_type": "markdown",
   "metadata": {},
   "source": [
    "## XGboost"
   ]
  },
  {
   "cell_type": "markdown",
   "metadata": {},
   "source": [
    "- We wanted to try an XGboost classifer to attempt a better model than the gridsearch random forest.  XGboost uses gradiant descent and boosting principles to regression trees.  We first tried an XGboost model with some parametrs we thought would be ideal for the model.  Next we ran a grid search on the XGboost parameters to produce our best possible model.  "
   ]
  },
  {
   "cell_type": "code",
   "execution_count": 66,
   "metadata": {
    "ExecuteTime": {
     "end_time": "2021-03-17T03:13:54.820612Z",
     "start_time": "2021-03-17T03:13:54.811936Z"
    }
   },
   "outputs": [
    {
     "data": {
      "application/javascript": [
       "\n",
       "        if (window._pyforest_update_imports_cell) { window._pyforest_update_imports_cell('import xgboost as xgb'); }\n",
       "    "
      ],
      "text/plain": [
       "<IPython.core.display.Javascript object>"
      ]
     },
     "metadata": {},
     "output_type": "display_data"
    },
    {
     "data": {
      "text/plain": [
       "XGBClassifier(base_score=None, booster=None, colsample_bylevel=None,\n",
       "              colsample_bynode=None, colsample_bytree=None, gamma=None,\n",
       "              gpu_id=None, importance_type='gain', interaction_constraints=None,\n",
       "              learning_rate=None, max_delta_step=None, max_depth=None,\n",
       "              min_child_weight=None, missing=nan, monotone_constraints=None,\n",
       "              n_estimators=100, n_jobs=None, num_parallel_tree=None,\n",
       "              objective='binary:logistic', random_state=None, reg_alpha=None,\n",
       "              reg_lambda=None, scale_pos_weight=None, subsample=None,\n",
       "              tree_method=None, use_label_encoder=True,\n",
       "              validate_parameters=None, verbosity=None)"
      ]
     },
     "execution_count": 66,
     "metadata": {},
     "output_type": "execute_result"
    }
   ],
   "source": [
    "xgb.XGBClassifier()"
   ]
  },
  {
   "cell_type": "code",
   "execution_count": 70,
   "metadata": {
    "ExecuteTime": {
     "end_time": "2021-03-17T03:15:18.390060Z",
     "start_time": "2021-03-17T03:15:18.383580Z"
    }
   },
   "outputs": [
    {
     "data": {
      "application/javascript": [
       "\n",
       "        if (window._pyforest_update_imports_cell) { window._pyforest_update_imports_cell('import xgboost as xgb'); }\n",
       "    "
      ],
      "text/plain": [
       "<IPython.core.display.Javascript object>"
      ]
     },
     "metadata": {},
     "output_type": "display_data"
    }
   ],
   "source": [
    "xg_clf = xgb.XGBClassifier(objective ='binary:logistic', \n",
    "                           colsample_bytree = 0.75, \n",
    "                           subsample = 0.85,\n",
    "                           learning_rate = 0.1,\n",
    "                           max_depth = 11, \n",
    "                           alpha = 1, \n",
    "                           n_estimators = 1000,\n",
    "                          verbose=1, n_jobs=-1)"
   ]
  },
  {
   "cell_type": "code",
   "execution_count": 74,
   "metadata": {
    "ExecuteTime": {
     "end_time": "2021-03-17T04:14:30.303751Z",
     "start_time": "2021-03-17T04:14:30.297595Z"
    }
   },
   "outputs": [
    {
     "data": {
      "application/javascript": [
       "\n",
       "        if (window._pyforest_update_imports_cell) { window._pyforest_update_imports_cell('import xgboost as xgb'); }\n",
       "    "
      ],
      "text/plain": [
       "<IPython.core.display.Javascript object>"
      ]
     },
     "metadata": {},
     "output_type": "display_data"
    },
    {
     "data": {
      "text/plain": [
       "'1.3.0'"
      ]
     },
     "execution_count": 74,
     "metadata": {},
     "output_type": "execute_result"
    }
   ],
   "source": [
    "# Checking if XGBoost is in the correct version\n",
    "xgb.__version__"
   ]
  },
  {
   "cell_type": "markdown",
   "metadata": {},
   "source": [
    "It's known that the 1.3.0 version has problems. I need to update it."
   ]
  },
  {
   "cell_type": "code",
   "execution_count": 73,
   "metadata": {
    "ExecuteTime": {
     "end_time": "2021-03-17T03:15:58.592078Z",
     "start_time": "2021-03-17T03:15:58.566908Z"
    }
   },
   "outputs": [
    {
     "ename": "AttributeError",
     "evalue": "dlsym(0x7ff7747d59b0, XGDMatrixSetDenseInfo): symbol not found",
     "output_type": "error",
     "traceback": [
      "\u001b[0;31m---------------------------------------------------------------------------\u001b[0m",
      "\u001b[0;31mAttributeError\u001b[0m                            Traceback (most recent call last)",
      "\u001b[0;32m<ipython-input-73-35c107e5e418>\u001b[0m in \u001b[0;36m<module>\u001b[0;34m()\u001b[0m\n\u001b[0;32m----> 1\u001b[0;31m \u001b[0mxg_clf\u001b[0m\u001b[0;34m.\u001b[0m\u001b[0mfit\u001b[0m\u001b[0;34m(\u001b[0m\u001b[0mX_train\u001b[0m\u001b[0;34m,\u001b[0m \u001b[0my_train\u001b[0m\u001b[0;34m)\u001b[0m\u001b[0;34m\u001b[0m\u001b[0;34m\u001b[0m\u001b[0m\n\u001b[0m",
      "\u001b[0;32m/opt/anaconda3/envs/learn-env/lib/python3.6/site-packages/xgboost/core.py\u001b[0m in \u001b[0;36minner_f\u001b[0;34m(*args, **kwargs)\u001b[0m\n\u001b[1;32m    419\u001b[0m         \u001b[0;32mfor\u001b[0m \u001b[0mk\u001b[0m\u001b[0;34m,\u001b[0m \u001b[0marg\u001b[0m \u001b[0;32min\u001b[0m \u001b[0mzip\u001b[0m\u001b[0;34m(\u001b[0m\u001b[0msig\u001b[0m\u001b[0;34m.\u001b[0m\u001b[0mparameters\u001b[0m\u001b[0;34m,\u001b[0m \u001b[0margs\u001b[0m\u001b[0;34m)\u001b[0m\u001b[0;34m:\u001b[0m\u001b[0;34m\u001b[0m\u001b[0;34m\u001b[0m\u001b[0m\n\u001b[1;32m    420\u001b[0m             \u001b[0mkwargs\u001b[0m\u001b[0;34m[\u001b[0m\u001b[0mk\u001b[0m\u001b[0;34m]\u001b[0m \u001b[0;34m=\u001b[0m \u001b[0marg\u001b[0m\u001b[0;34m\u001b[0m\u001b[0;34m\u001b[0m\u001b[0m\n\u001b[0;32m--> 421\u001b[0;31m         \u001b[0;32mreturn\u001b[0m \u001b[0mf\u001b[0m\u001b[0;34m(\u001b[0m\u001b[0;34m**\u001b[0m\u001b[0mkwargs\u001b[0m\u001b[0;34m)\u001b[0m\u001b[0;34m\u001b[0m\u001b[0;34m\u001b[0m\u001b[0m\n\u001b[0m\u001b[1;32m    422\u001b[0m \u001b[0;34m\u001b[0m\u001b[0m\n\u001b[1;32m    423\u001b[0m     \u001b[0;32mreturn\u001b[0m \u001b[0minner_f\u001b[0m\u001b[0;34m\u001b[0m\u001b[0;34m\u001b[0m\u001b[0m\n",
      "\u001b[0;32m/opt/anaconda3/envs/learn-env/lib/python3.6/site-packages/xgboost/sklearn.py\u001b[0m in \u001b[0;36mfit\u001b[0;34m(self, X, y, sample_weight, base_margin, eval_set, eval_metric, early_stopping_rounds, verbose, xgb_model, sample_weight_eval_set, feature_weights, callbacks)\u001b[0m\n\u001b[1;32m    905\u001b[0m             \u001b[0mfeature_weights\u001b[0m\u001b[0;34m=\u001b[0m\u001b[0mfeature_weights\u001b[0m\u001b[0;34m,\u001b[0m\u001b[0;34m\u001b[0m\u001b[0;34m\u001b[0m\u001b[0m\n\u001b[1;32m    906\u001b[0m             \u001b[0meval_set\u001b[0m\u001b[0;34m=\u001b[0m\u001b[0meval_set\u001b[0m\u001b[0;34m,\u001b[0m \u001b[0msample_weight_eval_set\u001b[0m\u001b[0;34m=\u001b[0m\u001b[0msample_weight_eval_set\u001b[0m\u001b[0;34m,\u001b[0m\u001b[0;34m\u001b[0m\u001b[0;34m\u001b[0m\u001b[0m\n\u001b[0;32m--> 907\u001b[0;31m             eval_group=None, label_transform=label_transform)\n\u001b[0m\u001b[1;32m    908\u001b[0m \u001b[0;34m\u001b[0m\u001b[0m\n\u001b[1;32m    909\u001b[0m         self._Booster = train(xgb_options, train_dmatrix,\n",
      "\u001b[0;32m/opt/anaconda3/envs/learn-env/lib/python3.6/site-packages/xgboost/sklearn.py\u001b[0m in \u001b[0;36m_wrap_evaluation_matrices\u001b[0;34m(self, X, y, group, sample_weight, base_margin, feature_weights, eval_set, sample_weight_eval_set, eval_group, label_transform)\u001b[0m\n\u001b[1;32m    264\u001b[0m         train_dmatrix = DMatrix(data=X, label=y, weight=sample_weight,\n\u001b[1;32m    265\u001b[0m                                 \u001b[0mbase_margin\u001b[0m\u001b[0;34m=\u001b[0m\u001b[0mbase_margin\u001b[0m\u001b[0;34m,\u001b[0m\u001b[0;34m\u001b[0m\u001b[0;34m\u001b[0m\u001b[0m\n\u001b[0;32m--> 266\u001b[0;31m                                 missing=self.missing, nthread=self.n_jobs)\n\u001b[0m\u001b[1;32m    267\u001b[0m         \u001b[0mtrain_dmatrix\u001b[0m\u001b[0;34m.\u001b[0m\u001b[0mset_info\u001b[0m\u001b[0;34m(\u001b[0m\u001b[0mfeature_weights\u001b[0m\u001b[0;34m=\u001b[0m\u001b[0mfeature_weights\u001b[0m\u001b[0;34m,\u001b[0m \u001b[0mgroup\u001b[0m\u001b[0;34m=\u001b[0m\u001b[0mgroup\u001b[0m\u001b[0;34m)\u001b[0m\u001b[0;34m\u001b[0m\u001b[0;34m\u001b[0m\u001b[0m\n\u001b[1;32m    268\u001b[0m \u001b[0;34m\u001b[0m\u001b[0m\n",
      "\u001b[0;32m/opt/anaconda3/envs/learn-env/lib/python3.6/site-packages/xgboost/core.py\u001b[0m in \u001b[0;36m__init__\u001b[0;34m(self, data, label, weight, base_margin, missing, silent, feature_names, feature_types, nthread, enable_categorical)\u001b[0m\n\u001b[1;32m    506\u001b[0m         \u001b[0mself\u001b[0m\u001b[0;34m.\u001b[0m\u001b[0mhandle\u001b[0m \u001b[0;34m=\u001b[0m \u001b[0mhandle\u001b[0m\u001b[0;34m\u001b[0m\u001b[0;34m\u001b[0m\u001b[0m\n\u001b[1;32m    507\u001b[0m \u001b[0;34m\u001b[0m\u001b[0m\n\u001b[0;32m--> 508\u001b[0;31m         \u001b[0mself\u001b[0m\u001b[0;34m.\u001b[0m\u001b[0mset_info\u001b[0m\u001b[0;34m(\u001b[0m\u001b[0mlabel\u001b[0m\u001b[0;34m=\u001b[0m\u001b[0mlabel\u001b[0m\u001b[0;34m,\u001b[0m \u001b[0mweight\u001b[0m\u001b[0;34m=\u001b[0m\u001b[0mweight\u001b[0m\u001b[0;34m,\u001b[0m \u001b[0mbase_margin\u001b[0m\u001b[0;34m=\u001b[0m\u001b[0mbase_margin\u001b[0m\u001b[0;34m)\u001b[0m\u001b[0;34m\u001b[0m\u001b[0;34m\u001b[0m\u001b[0m\n\u001b[0m\u001b[1;32m    509\u001b[0m \u001b[0;34m\u001b[0m\u001b[0m\n\u001b[1;32m    510\u001b[0m         \u001b[0mself\u001b[0m\u001b[0;34m.\u001b[0m\u001b[0mfeature_names\u001b[0m \u001b[0;34m=\u001b[0m \u001b[0mfeature_names\u001b[0m\u001b[0;34m\u001b[0m\u001b[0;34m\u001b[0m\u001b[0m\n",
      "\u001b[0;32m/opt/anaconda3/envs/learn-env/lib/python3.6/site-packages/xgboost/core.py\u001b[0m in \u001b[0;36minner_f\u001b[0;34m(*args, **kwargs)\u001b[0m\n\u001b[1;32m    419\u001b[0m         \u001b[0;32mfor\u001b[0m \u001b[0mk\u001b[0m\u001b[0;34m,\u001b[0m \u001b[0marg\u001b[0m \u001b[0;32min\u001b[0m \u001b[0mzip\u001b[0m\u001b[0;34m(\u001b[0m\u001b[0msig\u001b[0m\u001b[0;34m.\u001b[0m\u001b[0mparameters\u001b[0m\u001b[0;34m,\u001b[0m \u001b[0margs\u001b[0m\u001b[0;34m)\u001b[0m\u001b[0;34m:\u001b[0m\u001b[0;34m\u001b[0m\u001b[0;34m\u001b[0m\u001b[0m\n\u001b[1;32m    420\u001b[0m             \u001b[0mkwargs\u001b[0m\u001b[0;34m[\u001b[0m\u001b[0mk\u001b[0m\u001b[0;34m]\u001b[0m \u001b[0;34m=\u001b[0m \u001b[0marg\u001b[0m\u001b[0;34m\u001b[0m\u001b[0;34m\u001b[0m\u001b[0m\n\u001b[0;32m--> 421\u001b[0;31m         \u001b[0;32mreturn\u001b[0m \u001b[0mf\u001b[0m\u001b[0;34m(\u001b[0m\u001b[0;34m**\u001b[0m\u001b[0mkwargs\u001b[0m\u001b[0;34m)\u001b[0m\u001b[0;34m\u001b[0m\u001b[0;34m\u001b[0m\u001b[0m\n\u001b[0m\u001b[1;32m    422\u001b[0m \u001b[0;34m\u001b[0m\u001b[0m\n\u001b[1;32m    423\u001b[0m     \u001b[0;32mreturn\u001b[0m \u001b[0minner_f\u001b[0m\u001b[0;34m\u001b[0m\u001b[0;34m\u001b[0m\u001b[0m\n",
      "\u001b[0;32m/opt/anaconda3/envs/learn-env/lib/python3.6/site-packages/xgboost/core.py\u001b[0m in \u001b[0;36mset_info\u001b[0;34m(self, label, weight, base_margin, group, label_lower_bound, label_upper_bound, feature_names, feature_types, feature_weights)\u001b[0m\n\u001b[1;32m    527\u001b[0m         \u001b[0;34m'''Set meta info for DMatrix.'''\u001b[0m\u001b[0;34m\u001b[0m\u001b[0;34m\u001b[0m\u001b[0m\n\u001b[1;32m    528\u001b[0m         \u001b[0;32mif\u001b[0m \u001b[0mlabel\u001b[0m \u001b[0;32mis\u001b[0m \u001b[0;32mnot\u001b[0m \u001b[0;32mNone\u001b[0m\u001b[0;34m:\u001b[0m\u001b[0;34m\u001b[0m\u001b[0;34m\u001b[0m\u001b[0m\n\u001b[0;32m--> 529\u001b[0;31m             \u001b[0mself\u001b[0m\u001b[0;34m.\u001b[0m\u001b[0mset_label\u001b[0m\u001b[0;34m(\u001b[0m\u001b[0mlabel\u001b[0m\u001b[0;34m)\u001b[0m\u001b[0;34m\u001b[0m\u001b[0;34m\u001b[0m\u001b[0m\n\u001b[0m\u001b[1;32m    530\u001b[0m         \u001b[0;32mif\u001b[0m \u001b[0mweight\u001b[0m \u001b[0;32mis\u001b[0m \u001b[0;32mnot\u001b[0m \u001b[0;32mNone\u001b[0m\u001b[0;34m:\u001b[0m\u001b[0;34m\u001b[0m\u001b[0;34m\u001b[0m\u001b[0m\n\u001b[1;32m    531\u001b[0m             \u001b[0mself\u001b[0m\u001b[0;34m.\u001b[0m\u001b[0mset_weight\u001b[0m\u001b[0;34m(\u001b[0m\u001b[0mweight\u001b[0m\u001b[0;34m)\u001b[0m\u001b[0;34m\u001b[0m\u001b[0;34m\u001b[0m\u001b[0m\n",
      "\u001b[0;32m/opt/anaconda3/envs/learn-env/lib/python3.6/site-packages/xgboost/core.py\u001b[0m in \u001b[0;36mset_label\u001b[0;34m(self, label)\u001b[0m\n\u001b[1;32m    656\u001b[0m         \"\"\"\n\u001b[1;32m    657\u001b[0m         \u001b[0;32mfrom\u001b[0m \u001b[0;34m.\u001b[0m\u001b[0mdata\u001b[0m \u001b[0;32mimport\u001b[0m \u001b[0mdispatch_meta_backend\u001b[0m\u001b[0;34m\u001b[0m\u001b[0;34m\u001b[0m\u001b[0m\n\u001b[0;32m--> 658\u001b[0;31m         \u001b[0mdispatch_meta_backend\u001b[0m\u001b[0;34m(\u001b[0m\u001b[0mself\u001b[0m\u001b[0;34m,\u001b[0m \u001b[0mlabel\u001b[0m\u001b[0;34m,\u001b[0m \u001b[0;34m'label'\u001b[0m\u001b[0;34m,\u001b[0m \u001b[0;34m'float'\u001b[0m\u001b[0;34m)\u001b[0m\u001b[0;34m\u001b[0m\u001b[0;34m\u001b[0m\u001b[0m\n\u001b[0m\u001b[1;32m    659\u001b[0m \u001b[0;34m\u001b[0m\u001b[0m\n\u001b[1;32m    660\u001b[0m     \u001b[0;32mdef\u001b[0m \u001b[0mset_weight\u001b[0m\u001b[0;34m(\u001b[0m\u001b[0mself\u001b[0m\u001b[0;34m,\u001b[0m \u001b[0mweight\u001b[0m\u001b[0;34m)\u001b[0m\u001b[0;34m:\u001b[0m\u001b[0;34m\u001b[0m\u001b[0;34m\u001b[0m\u001b[0m\n",
      "\u001b[0;32m/opt/anaconda3/envs/learn-env/lib/python3.6/site-packages/xgboost/data.py\u001b[0m in \u001b[0;36mdispatch_meta_backend\u001b[0;34m(matrix, data, name, dtype)\u001b[0m\n\u001b[1;32m    664\u001b[0m         \u001b[0;32mreturn\u001b[0m\u001b[0;34m\u001b[0m\u001b[0;34m\u001b[0m\u001b[0m\n\u001b[1;32m    665\u001b[0m     \u001b[0;32mif\u001b[0m \u001b[0m_is_numpy_array\u001b[0m\u001b[0;34m(\u001b[0m\u001b[0mdata\u001b[0m\u001b[0;34m)\u001b[0m\u001b[0;34m:\u001b[0m\u001b[0;34m\u001b[0m\u001b[0;34m\u001b[0m\u001b[0m\n\u001b[0;32m--> 666\u001b[0;31m         \u001b[0m_meta_from_numpy\u001b[0m\u001b[0;34m(\u001b[0m\u001b[0mdata\u001b[0m\u001b[0;34m,\u001b[0m \u001b[0mname\u001b[0m\u001b[0;34m,\u001b[0m \u001b[0mdtype\u001b[0m\u001b[0;34m,\u001b[0m \u001b[0mhandle\u001b[0m\u001b[0;34m)\u001b[0m\u001b[0;34m\u001b[0m\u001b[0;34m\u001b[0m\u001b[0m\n\u001b[0m\u001b[1;32m    667\u001b[0m         \u001b[0;32mreturn\u001b[0m\u001b[0;34m\u001b[0m\u001b[0;34m\u001b[0m\u001b[0m\n\u001b[1;32m    668\u001b[0m     \u001b[0;32mif\u001b[0m \u001b[0m_is_pandas_df\u001b[0m\u001b[0;34m(\u001b[0m\u001b[0mdata\u001b[0m\u001b[0;34m)\u001b[0m\u001b[0;34m:\u001b[0m\u001b[0;34m\u001b[0m\u001b[0;34m\u001b[0m\u001b[0m\n",
      "\u001b[0;32m/opt/anaconda3/envs/learn-env/lib/python3.6/site-packages/xgboost/data.py\u001b[0m in \u001b[0;36m_meta_from_numpy\u001b[0;34m(data, field, dtype, handle)\u001b[0m\n\u001b[1;32m    598\u001b[0m     \u001b[0mptr\u001b[0m \u001b[0;34m=\u001b[0m \u001b[0minterface\u001b[0m\u001b[0;34m[\u001b[0m\u001b[0;34m'data'\u001b[0m\u001b[0;34m]\u001b[0m\u001b[0;34m[\u001b[0m\u001b[0;36m0\u001b[0m\u001b[0;34m]\u001b[0m\u001b[0;34m\u001b[0m\u001b[0;34m\u001b[0m\u001b[0m\n\u001b[1;32m    599\u001b[0m     \u001b[0mptr\u001b[0m \u001b[0;34m=\u001b[0m \u001b[0mctypes\u001b[0m\u001b[0;34m.\u001b[0m\u001b[0mc_void_p\u001b[0m\u001b[0;34m(\u001b[0m\u001b[0mptr\u001b[0m\u001b[0;34m)\u001b[0m\u001b[0;34m\u001b[0m\u001b[0;34m\u001b[0m\u001b[0m\n\u001b[0;32m--> 600\u001b[0;31m     _check_call(_LIB.XGDMatrixSetDenseInfo(\n\u001b[0m\u001b[1;32m    601\u001b[0m         \u001b[0mhandle\u001b[0m\u001b[0;34m,\u001b[0m\u001b[0;34m\u001b[0m\u001b[0;34m\u001b[0m\u001b[0m\n\u001b[1;32m    602\u001b[0m         \u001b[0mc_str\u001b[0m\u001b[0;34m(\u001b[0m\u001b[0mfield\u001b[0m\u001b[0;34m)\u001b[0m\u001b[0;34m,\u001b[0m\u001b[0;34m\u001b[0m\u001b[0;34m\u001b[0m\u001b[0m\n",
      "\u001b[0;32m/opt/anaconda3/envs/learn-env/lib/python3.6/ctypes/__init__.py\u001b[0m in \u001b[0;36m__getattr__\u001b[0;34m(self, name)\u001b[0m\n\u001b[1;32m    359\u001b[0m         \u001b[0;32mif\u001b[0m \u001b[0mname\u001b[0m\u001b[0;34m.\u001b[0m\u001b[0mstartswith\u001b[0m\u001b[0;34m(\u001b[0m\u001b[0;34m'__'\u001b[0m\u001b[0;34m)\u001b[0m \u001b[0;32mand\u001b[0m \u001b[0mname\u001b[0m\u001b[0;34m.\u001b[0m\u001b[0mendswith\u001b[0m\u001b[0;34m(\u001b[0m\u001b[0;34m'__'\u001b[0m\u001b[0;34m)\u001b[0m\u001b[0;34m:\u001b[0m\u001b[0;34m\u001b[0m\u001b[0;34m\u001b[0m\u001b[0m\n\u001b[1;32m    360\u001b[0m             \u001b[0;32mraise\u001b[0m \u001b[0mAttributeError\u001b[0m\u001b[0;34m(\u001b[0m\u001b[0mname\u001b[0m\u001b[0;34m)\u001b[0m\u001b[0;34m\u001b[0m\u001b[0;34m\u001b[0m\u001b[0m\n\u001b[0;32m--> 361\u001b[0;31m         \u001b[0mfunc\u001b[0m \u001b[0;34m=\u001b[0m \u001b[0mself\u001b[0m\u001b[0;34m.\u001b[0m\u001b[0m__getitem__\u001b[0m\u001b[0;34m(\u001b[0m\u001b[0mname\u001b[0m\u001b[0;34m)\u001b[0m\u001b[0;34m\u001b[0m\u001b[0;34m\u001b[0m\u001b[0m\n\u001b[0m\u001b[1;32m    362\u001b[0m         \u001b[0msetattr\u001b[0m\u001b[0;34m(\u001b[0m\u001b[0mself\u001b[0m\u001b[0;34m,\u001b[0m \u001b[0mname\u001b[0m\u001b[0;34m,\u001b[0m \u001b[0mfunc\u001b[0m\u001b[0;34m)\u001b[0m\u001b[0;34m\u001b[0m\u001b[0;34m\u001b[0m\u001b[0m\n\u001b[1;32m    363\u001b[0m         \u001b[0;32mreturn\u001b[0m \u001b[0mfunc\u001b[0m\u001b[0;34m\u001b[0m\u001b[0;34m\u001b[0m\u001b[0m\n",
      "\u001b[0;32m/opt/anaconda3/envs/learn-env/lib/python3.6/ctypes/__init__.py\u001b[0m in \u001b[0;36m__getitem__\u001b[0;34m(self, name_or_ordinal)\u001b[0m\n\u001b[1;32m    364\u001b[0m \u001b[0;34m\u001b[0m\u001b[0m\n\u001b[1;32m    365\u001b[0m     \u001b[0;32mdef\u001b[0m \u001b[0m__getitem__\u001b[0m\u001b[0;34m(\u001b[0m\u001b[0mself\u001b[0m\u001b[0;34m,\u001b[0m \u001b[0mname_or_ordinal\u001b[0m\u001b[0;34m)\u001b[0m\u001b[0;34m:\u001b[0m\u001b[0;34m\u001b[0m\u001b[0;34m\u001b[0m\u001b[0m\n\u001b[0;32m--> 366\u001b[0;31m         \u001b[0mfunc\u001b[0m \u001b[0;34m=\u001b[0m \u001b[0mself\u001b[0m\u001b[0;34m.\u001b[0m\u001b[0m_FuncPtr\u001b[0m\u001b[0;34m(\u001b[0m\u001b[0;34m(\u001b[0m\u001b[0mname_or_ordinal\u001b[0m\u001b[0;34m,\u001b[0m \u001b[0mself\u001b[0m\u001b[0;34m)\u001b[0m\u001b[0;34m)\u001b[0m\u001b[0;34m\u001b[0m\u001b[0;34m\u001b[0m\u001b[0m\n\u001b[0m\u001b[1;32m    367\u001b[0m         \u001b[0;32mif\u001b[0m \u001b[0;32mnot\u001b[0m \u001b[0misinstance\u001b[0m\u001b[0;34m(\u001b[0m\u001b[0mname_or_ordinal\u001b[0m\u001b[0;34m,\u001b[0m \u001b[0mint\u001b[0m\u001b[0;34m)\u001b[0m\u001b[0;34m:\u001b[0m\u001b[0;34m\u001b[0m\u001b[0;34m\u001b[0m\u001b[0m\n\u001b[1;32m    368\u001b[0m             \u001b[0mfunc\u001b[0m\u001b[0;34m.\u001b[0m\u001b[0m__name__\u001b[0m \u001b[0;34m=\u001b[0m \u001b[0mname_or_ordinal\u001b[0m\u001b[0;34m\u001b[0m\u001b[0;34m\u001b[0m\u001b[0m\n",
      "\u001b[0;31mAttributeError\u001b[0m: dlsym(0x7ff7747d59b0, XGDMatrixSetDenseInfo): symbol not found"
     ]
    }
   ],
   "source": [
    "\n",
    "xg_clf.fit(X_train, y_train)"
   ]
  },
  {
   "cell_type": "code",
   "execution_count": 72,
   "metadata": {
    "ExecuteTime": {
     "end_time": "2021-03-17T03:15:45.313909Z",
     "start_time": "2021-03-17T03:15:45.293987Z"
    }
   },
   "outputs": [
    {
     "ename": "AttributeError",
     "evalue": "dlsym(0x7ff7747d59b0, XGDMatrixSetStrFeatureInfo): symbol not found",
     "output_type": "error",
     "traceback": [
      "\u001b[0;31m---------------------------------------------------------------------------\u001b[0m",
      "\u001b[0;31mAttributeError\u001b[0m                            Traceback (most recent call last)",
      "\u001b[0;32m<ipython-input-72-0dc2f5f15ac6>\u001b[0m in \u001b[0;36m<module>\u001b[0;34m()\u001b[0m\n\u001b[0;32m----> 1\u001b[0;31m \u001b[0my_pred\u001b[0m \u001b[0;34m=\u001b[0m \u001b[0mxg_clf\u001b[0m\u001b[0;34m.\u001b[0m\u001b[0mpredict\u001b[0m\u001b[0;34m(\u001b[0m\u001b[0mX_test\u001b[0m\u001b[0;34m)\u001b[0m\u001b[0;34m\u001b[0m\u001b[0;34m\u001b[0m\u001b[0m\n\u001b[0m",
      "\u001b[0;32m/opt/anaconda3/envs/learn-env/lib/python3.6/site-packages/xgboost/sklearn.py\u001b[0m in \u001b[0;36mpredict\u001b[0;34m(self, data, output_margin, ntree_limit, validate_features, base_margin)\u001b[0m\n\u001b[1;32m    970\u001b[0m         \"\"\"\n\u001b[1;32m    971\u001b[0m         test_dmatrix = DMatrix(data, base_margin=base_margin,\n\u001b[0;32m--> 972\u001b[0;31m                                missing=self.missing, nthread=self.n_jobs)\n\u001b[0m\u001b[1;32m    973\u001b[0m         \u001b[0;32mif\u001b[0m \u001b[0mntree_limit\u001b[0m \u001b[0;32mis\u001b[0m \u001b[0;32mNone\u001b[0m\u001b[0;34m:\u001b[0m\u001b[0;34m\u001b[0m\u001b[0;34m\u001b[0m\u001b[0m\n\u001b[1;32m    974\u001b[0m             \u001b[0mntree_limit\u001b[0m \u001b[0;34m=\u001b[0m \u001b[0mgetattr\u001b[0m\u001b[0;34m(\u001b[0m\u001b[0mself\u001b[0m\u001b[0;34m,\u001b[0m \u001b[0;34m\"best_ntree_limit\"\u001b[0m\u001b[0;34m,\u001b[0m \u001b[0;36m0\u001b[0m\u001b[0;34m)\u001b[0m\u001b[0;34m\u001b[0m\u001b[0;34m\u001b[0m\u001b[0m\n",
      "\u001b[0;32m/opt/anaconda3/envs/learn-env/lib/python3.6/site-packages/xgboost/core.py\u001b[0m in \u001b[0;36m__init__\u001b[0;34m(self, data, label, weight, base_margin, missing, silent, feature_names, feature_types, nthread, enable_categorical)\u001b[0m\n\u001b[1;32m    508\u001b[0m         \u001b[0mself\u001b[0m\u001b[0;34m.\u001b[0m\u001b[0mset_info\u001b[0m\u001b[0;34m(\u001b[0m\u001b[0mlabel\u001b[0m\u001b[0;34m=\u001b[0m\u001b[0mlabel\u001b[0m\u001b[0;34m,\u001b[0m \u001b[0mweight\u001b[0m\u001b[0;34m=\u001b[0m\u001b[0mweight\u001b[0m\u001b[0;34m,\u001b[0m \u001b[0mbase_margin\u001b[0m\u001b[0;34m=\u001b[0m\u001b[0mbase_margin\u001b[0m\u001b[0;34m)\u001b[0m\u001b[0;34m\u001b[0m\u001b[0;34m\u001b[0m\u001b[0m\n\u001b[1;32m    509\u001b[0m \u001b[0;34m\u001b[0m\u001b[0m\n\u001b[0;32m--> 510\u001b[0;31m         \u001b[0mself\u001b[0m\u001b[0;34m.\u001b[0m\u001b[0mfeature_names\u001b[0m \u001b[0;34m=\u001b[0m \u001b[0mfeature_names\u001b[0m\u001b[0;34m\u001b[0m\u001b[0;34m\u001b[0m\u001b[0m\n\u001b[0m\u001b[1;32m    511\u001b[0m         \u001b[0mself\u001b[0m\u001b[0;34m.\u001b[0m\u001b[0mfeature_types\u001b[0m \u001b[0;34m=\u001b[0m \u001b[0mfeature_types\u001b[0m\u001b[0;34m\u001b[0m\u001b[0;34m\u001b[0m\u001b[0m\n\u001b[1;32m    512\u001b[0m \u001b[0;34m\u001b[0m\u001b[0m\n",
      "\u001b[0;32m/opt/anaconda3/envs/learn-env/lib/python3.6/site-packages/xgboost/core.py\u001b[0m in \u001b[0;36mfeature_names\u001b[0;34m(self, feature_names)\u001b[0m\n\u001b[1;32m    836\u001b[0m             c_feature_names = (ctypes.c_char_p *\n\u001b[1;32m    837\u001b[0m                                len(c_feature_names))(*c_feature_names)\n\u001b[0;32m--> 838\u001b[0;31m             _check_call(_LIB.XGDMatrixSetStrFeatureInfo(\n\u001b[0m\u001b[1;32m    839\u001b[0m                 \u001b[0mself\u001b[0m\u001b[0;34m.\u001b[0m\u001b[0mhandle\u001b[0m\u001b[0;34m,\u001b[0m \u001b[0mc_str\u001b[0m\u001b[0;34m(\u001b[0m\u001b[0;34m'feature_name'\u001b[0m\u001b[0;34m)\u001b[0m\u001b[0;34m,\u001b[0m\u001b[0;34m\u001b[0m\u001b[0;34m\u001b[0m\u001b[0m\n\u001b[1;32m    840\u001b[0m                 \u001b[0mc_feature_names\u001b[0m\u001b[0;34m,\u001b[0m\u001b[0;34m\u001b[0m\u001b[0;34m\u001b[0m\u001b[0m\n",
      "\u001b[0;32m/opt/anaconda3/envs/learn-env/lib/python3.6/ctypes/__init__.py\u001b[0m in \u001b[0;36m__getattr__\u001b[0;34m(self, name)\u001b[0m\n\u001b[1;32m    359\u001b[0m         \u001b[0;32mif\u001b[0m \u001b[0mname\u001b[0m\u001b[0;34m.\u001b[0m\u001b[0mstartswith\u001b[0m\u001b[0;34m(\u001b[0m\u001b[0;34m'__'\u001b[0m\u001b[0;34m)\u001b[0m \u001b[0;32mand\u001b[0m \u001b[0mname\u001b[0m\u001b[0;34m.\u001b[0m\u001b[0mendswith\u001b[0m\u001b[0;34m(\u001b[0m\u001b[0;34m'__'\u001b[0m\u001b[0;34m)\u001b[0m\u001b[0;34m:\u001b[0m\u001b[0;34m\u001b[0m\u001b[0;34m\u001b[0m\u001b[0m\n\u001b[1;32m    360\u001b[0m             \u001b[0;32mraise\u001b[0m \u001b[0mAttributeError\u001b[0m\u001b[0;34m(\u001b[0m\u001b[0mname\u001b[0m\u001b[0;34m)\u001b[0m\u001b[0;34m\u001b[0m\u001b[0;34m\u001b[0m\u001b[0m\n\u001b[0;32m--> 361\u001b[0;31m         \u001b[0mfunc\u001b[0m \u001b[0;34m=\u001b[0m \u001b[0mself\u001b[0m\u001b[0;34m.\u001b[0m\u001b[0m__getitem__\u001b[0m\u001b[0;34m(\u001b[0m\u001b[0mname\u001b[0m\u001b[0;34m)\u001b[0m\u001b[0;34m\u001b[0m\u001b[0;34m\u001b[0m\u001b[0m\n\u001b[0m\u001b[1;32m    362\u001b[0m         \u001b[0msetattr\u001b[0m\u001b[0;34m(\u001b[0m\u001b[0mself\u001b[0m\u001b[0;34m,\u001b[0m \u001b[0mname\u001b[0m\u001b[0;34m,\u001b[0m \u001b[0mfunc\u001b[0m\u001b[0;34m)\u001b[0m\u001b[0;34m\u001b[0m\u001b[0;34m\u001b[0m\u001b[0m\n\u001b[1;32m    363\u001b[0m         \u001b[0;32mreturn\u001b[0m \u001b[0mfunc\u001b[0m\u001b[0;34m\u001b[0m\u001b[0;34m\u001b[0m\u001b[0m\n",
      "\u001b[0;32m/opt/anaconda3/envs/learn-env/lib/python3.6/ctypes/__init__.py\u001b[0m in \u001b[0;36m__getitem__\u001b[0;34m(self, name_or_ordinal)\u001b[0m\n\u001b[1;32m    364\u001b[0m \u001b[0;34m\u001b[0m\u001b[0m\n\u001b[1;32m    365\u001b[0m     \u001b[0;32mdef\u001b[0m \u001b[0m__getitem__\u001b[0m\u001b[0;34m(\u001b[0m\u001b[0mself\u001b[0m\u001b[0;34m,\u001b[0m \u001b[0mname_or_ordinal\u001b[0m\u001b[0;34m)\u001b[0m\u001b[0;34m:\u001b[0m\u001b[0;34m\u001b[0m\u001b[0;34m\u001b[0m\u001b[0m\n\u001b[0;32m--> 366\u001b[0;31m         \u001b[0mfunc\u001b[0m \u001b[0;34m=\u001b[0m \u001b[0mself\u001b[0m\u001b[0;34m.\u001b[0m\u001b[0m_FuncPtr\u001b[0m\u001b[0;34m(\u001b[0m\u001b[0;34m(\u001b[0m\u001b[0mname_or_ordinal\u001b[0m\u001b[0;34m,\u001b[0m \u001b[0mself\u001b[0m\u001b[0;34m)\u001b[0m\u001b[0;34m)\u001b[0m\u001b[0;34m\u001b[0m\u001b[0;34m\u001b[0m\u001b[0m\n\u001b[0m\u001b[1;32m    367\u001b[0m         \u001b[0;32mif\u001b[0m \u001b[0;32mnot\u001b[0m \u001b[0misinstance\u001b[0m\u001b[0;34m(\u001b[0m\u001b[0mname_or_ordinal\u001b[0m\u001b[0;34m,\u001b[0m \u001b[0mint\u001b[0m\u001b[0;34m)\u001b[0m\u001b[0;34m:\u001b[0m\u001b[0;34m\u001b[0m\u001b[0;34m\u001b[0m\u001b[0m\n\u001b[1;32m    368\u001b[0m             \u001b[0mfunc\u001b[0m\u001b[0;34m.\u001b[0m\u001b[0m__name__\u001b[0m \u001b[0;34m=\u001b[0m \u001b[0mname_or_ordinal\u001b[0m\u001b[0;34m\u001b[0m\u001b[0;34m\u001b[0m\u001b[0m\n",
      "\u001b[0;31mAttributeError\u001b[0m: dlsym(0x7ff7747d59b0, XGDMatrixSetStrFeatureInfo): symbol not found"
     ]
    }
   ],
   "source": [
    "y_pred = xg_clf.predict(X_test)"
   ]
  },
  {
   "cell_type": "code",
   "execution_count": null,
   "metadata": {
    "ExecuteTime": {
     "end_time": "2021-03-17T03:13:54.882232Z",
     "start_time": "2021-03-17T03:13:36.848Z"
    }
   },
   "outputs": [],
   "source": [
    "evaluation(y_test,y_pred)"
   ]
  },
  {
   "cell_type": "code",
   "execution_count": null,
   "metadata": {
    "ExecuteTime": {
     "end_time": "2021-03-17T03:13:54.883874Z",
     "start_time": "2021-03-17T03:13:38.458Z"
    }
   },
   "outputs": [],
   "source": [
    "coef_table = pd.DataFrame(list(X_train.columns)).copy()\n",
    "coef_table.insert(len(coef_table.columns),\"Coefs\",xg_clf.feature_importances_.transpose())"
   ]
  },
  {
   "cell_type": "code",
   "execution_count": null,
   "metadata": {
    "ExecuteTime": {
     "end_time": "2021-03-17T03:13:54.885853Z",
     "start_time": "2021-03-17T03:13:39.427Z"
    }
   },
   "outputs": [],
   "source": [
    "coef_table"
   ]
  },
  {
   "cell_type": "code",
   "execution_count": null,
   "metadata": {
    "ExecuteTime": {
     "end_time": "2021-03-17T03:13:54.887668Z",
     "start_time": "2021-03-17T03:13:44.233Z"
    }
   },
   "outputs": [],
   "source": [
    "clf_xgb = xgb.XGBClassifier(objective = 'binary:logistic')\n",
    "param_dist = {'n_estimators': [500,1000,1500],\n",
    "              'learning_rate': [0.1,0.07,0.05,0.03,0.01],\n",
    "              'max_depth': [9,10,11,12,13],\n",
    "              'colsample_bytree': [0.5,0.45,0.4],\n",
    "              'min_child_weight': [1, 2, 3]\n",
    "             }"
   ]
  },
  {
   "cell_type": "code",
   "execution_count": null,
   "metadata": {
    "ExecuteTime": {
     "end_time": "2021-02-22T00:36:33.407537Z",
     "start_time": "2021-02-22T00:36:28.357Z"
    }
   },
   "outputs": [],
   "source": [
    "grid_xg = GridSearchCV(estimator=clf_xgb,\n",
    "                      param_grid= param_dist,\n",
    "                      scoring='f1',\n",
    "                      n_jobs=-1,\n",
    "                      verbose=1,\n",
    "                      iid=False,\n",
    "                      cv=10)"
   ]
  },
  {
   "cell_type": "code",
   "execution_count": null,
   "metadata": {
    "ExecuteTime": {
     "end_time": "2021-02-22T00:36:33.411370Z",
     "start_time": "2021-02-22T00:36:28.360Z"
    }
   },
   "outputs": [],
   "source": [
    "grid_xg.fit(smX_train,smy_train)"
   ]
  },
  {
   "cell_type": "code",
   "execution_count": null,
   "metadata": {
    "ExecuteTime": {
     "end_time": "2021-02-22T00:36:33.414616Z",
     "start_time": "2021-02-22T00:36:28.363Z"
    }
   },
   "outputs": [],
   "source": [
    "grid_xg.best_params_"
   ]
  },
  {
   "cell_type": "code",
   "execution_count": null,
   "metadata": {
    "ExecuteTime": {
     "end_time": "2021-02-22T00:36:33.417318Z",
     "start_time": "2021-02-22T00:36:28.366Z"
    }
   },
   "outputs": [],
   "source": [
    "y_pred = grid_xg.best_estimator_.predict(X_test)"
   ]
  },
  {
   "cell_type": "code",
   "execution_count": null,
   "metadata": {
    "ExecuteTime": {
     "end_time": "2021-02-22T00:36:33.419458Z",
     "start_time": "2021-02-22T00:36:28.368Z"
    }
   },
   "outputs": [],
   "source": [
    "evaluation(y_test,y_pred)"
   ]
  },
  {
   "cell_type": "code",
   "execution_count": null,
   "metadata": {
    "ExecuteTime": {
     "end_time": "2021-02-22T00:36:33.421319Z",
     "start_time": "2021-02-22T00:36:28.371Z"
    }
   },
   "outputs": [],
   "source": [
    "from xgboost import plot_importance\n",
    "plot_importance(grid_xg.best_estimator_)"
   ]
  },
  {
   "cell_type": "code",
   "execution_count": null,
   "metadata": {
    "ExecuteTime": {
     "end_time": "2021-02-22T00:36:33.423789Z",
     "start_time": "2021-02-22T00:36:28.374Z"
    }
   },
   "outputs": [],
   "source": [
    "plot_importance(grid_xg.best_estimator_,max_num_features=10)"
   ]
  },
  {
   "cell_type": "markdown",
   "metadata": {},
   "source": [
    "**findings**\n",
    "- The grid search xgboost produced our overall best model.  We where extremely pleased with the highest recall and accuracy score.  The precision, which was our target metric was also very high.  When graphing the featrue importance, the most important features where abnormal_short_term_variatability and the histogram mean, min, width  and mode.  Our engineered features where not as important as some of the unchanged features.  Our best preforming engineered feature was sqrt_total_change, but no engineered feature was in the top ten.  Just like our random forest model short term varitability of the FHR is a key feature in classifying fetal health."
   ]
  }
 ],
 "metadata": {
  "kernelspec": {
   "display_name": "Python 3",
   "language": "python",
   "name": "python3"
  },
  "language_info": {
   "codemirror_mode": {
    "name": "ipython",
    "version": 3
   },
   "file_extension": ".py",
   "mimetype": "text/x-python",
   "name": "python",
   "nbconvert_exporter": "python",
   "pygments_lexer": "ipython3",
   "version": "3.6.9"
  },
  "toc": {
   "base_numbering": 1,
   "nav_menu": {},
   "number_sections": true,
   "sideBar": true,
   "skip_h1_title": false,
   "title_cell": "Table of Contents",
   "title_sidebar": "Contents",
   "toc_cell": false,
   "toc_position": {},
   "toc_section_display": true,
   "toc_window_display": false
  }
 },
 "nbformat": 4,
 "nbformat_minor": 4
}
