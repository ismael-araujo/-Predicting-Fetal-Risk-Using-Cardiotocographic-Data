{
 "cells": [
  {
   "cell_type": "markdown",
   "metadata": {},
   "source": [
    "# Vanilla Models"
   ]
  },
  {
   "cell_type": "markdown",
   "metadata": {},
   "source": [
    "This notebook will run our baseline models to understand better our dataset and how the features and target variables behave when running different models. Our focus is to find baseline models that can improve the Precision without affecting Recall. To evaluate the models, we will use the metrics Precision, Accuracy, Recall, F1 Score, and Confusion Matrix."
   ]
  },
  {
   "cell_type": "markdown",
   "metadata": {},
   "source": [
    "## Read In Data"
   ]
  },
  {
   "cell_type": "code",
   "execution_count": 11,
   "metadata": {
    "ExecuteTime": {
     "end_time": "2021-03-16T22:05:59.654345Z",
     "start_time": "2021-03-16T22:05:59.650709Z"
    }
   },
   "outputs": [],
   "source": [
    "import pyforest\n",
    "from sklearn import metrics\n",
    "from sklearn.metrics import mean_squared_error, precision_score\n",
    "from sklearn.metrics import confusion_matrix, accuracy_score  \n",
    "import lazypredict \n",
    "from lazypredict.Supervised import LazyClassifier"
   ]
  },
  {
   "cell_type": "code",
   "execution_count": 12,
   "metadata": {
    "ExecuteTime": {
     "end_time": "2021-03-16T22:06:00.056241Z",
     "start_time": "2021-03-16T22:06:00.049839Z"
    }
   },
   "outputs": [],
   "source": [
    "# Importing all functions used in this notebook\n",
    "from functions import *"
   ]
  },
  {
   "cell_type": "code",
   "execution_count": 13,
   "metadata": {
    "ExecuteTime": {
     "end_time": "2021-03-16T22:06:00.418239Z",
     "start_time": "2021-03-16T22:06:00.412458Z"
    }
   },
   "outputs": [],
   "source": [
    "# # Sklearn Packages\n",
    "# from sklearn.model_selection import train_test_split, GridSearchCV, cross_val_score\n",
    "# \n",
    "# \n",
    "# from sklearn.dummy import DummyClassifier\n",
    "# from sklearn.preprocessing import StandardScaler\n",
    "# from sklearn.neighbors import KNeighborsClassifier\n",
    "# from sklearn.linear_model import LogisticRegression\n",
    "# from sklearn.ensemble import RandomForestClassifier, AdaBoostClassifier\n",
    "# from imblearn.over_sampling import SMOTE\n",
    "# from sklearn.tree import DecisionTreeClassifier\n",
    "# from sklearn import set_config\n",
    "# set_config(print_changed_only=False)\n",
    "# from xgboost import XGBClassifier\n",
    "# from sklearn.utils.testing import ignore_warnings\n",
    "# from sklearn.exceptions import ConvergenceWarning\n",
    "\n",
    "# import warnings\n",
    "# warnings.filterwarnings(\"ignore\", category=DeprecationWarning)\n",
    "# warnings.filterwarnings(\"ignore\", category=FutureWarning)\n",
    "# warnings.filterwarnings(\"ignore\", category=ConvergenceWarning)\n",
    "\n",
    "# pd.set_option('display.max_columns', 300)\n",
    "# % matplotlib inline\n",
    "\n",
    "# plt.style.use('seaborn')"
   ]
  },
  {
   "cell_type": "code",
   "execution_count": 14,
   "metadata": {
    "ExecuteTime": {
     "end_time": "2021-03-16T22:06:00.933631Z",
     "start_time": "2021-03-16T22:06:00.913170Z"
    }
   },
   "outputs": [
    {
     "data": {
      "application/javascript": [
       "\n",
       "        if (window._pyforest_update_imports_cell) { window._pyforest_update_imports_cell('import numpy as np\\nimport pandas as pd\\nfrom sklearn.model_selection import train_test_split\\nimport matplotlib.pyplot as plt\\nimport seaborn as sns'); }\n",
       "    "
      ],
      "text/plain": [
       "<IPython.core.display.Javascript object>"
      ]
     },
     "metadata": {},
     "output_type": "display_data"
    }
   ],
   "source": [
    "# Importing dataset\n",
    "df = pd.read_csv('data.csv/fetal_health.csv')"
   ]
  },
  {
   "cell_type": "markdown",
   "metadata": {},
   "source": [
    "## Data Cleaning"
   ]
  },
  {
   "cell_type": "code",
   "execution_count": 15,
   "metadata": {
    "ExecuteTime": {
     "end_time": "2021-03-16T22:06:01.885723Z",
     "start_time": "2021-03-16T22:06:01.880643Z"
    }
   },
   "outputs": [
    {
     "data": {
      "application/javascript": [
       "\n",
       "        if (window._pyforest_update_imports_cell) { window._pyforest_update_imports_cell('import numpy as np\\nimport pandas as pd\\nfrom sklearn.model_selection import train_test_split\\nimport matplotlib.pyplot as plt\\nimport seaborn as sns'); }\n",
       "    "
      ],
      "text/plain": [
       "<IPython.core.display.Javascript object>"
      ]
     },
     "metadata": {},
     "output_type": "display_data"
    }
   ],
   "source": [
    "df.fetal_health = np.where(df.fetal_health > 1.0, 2.0, df.fetal_health)"
   ]
  },
  {
   "cell_type": "markdown",
   "metadata": {},
   "source": [
    "## Train Test Split"
   ]
  },
  {
   "cell_type": "markdown",
   "metadata": {},
   "source": [
    "<b>Objectives: </b>\n",
    "\n",
    "- Assign our feature variables and target variable into the X and y variables. \n",
    "- Split our dataset using Sklearn Train Test Split. We will use the Sklearn default option and assign 75% to our train set and 25% to our test set."
   ]
  },
  {
   "cell_type": "code",
   "execution_count": 16,
   "metadata": {
    "ExecuteTime": {
     "end_time": "2021-03-16T22:06:03.417756Z",
     "start_time": "2021-03-16T22:06:03.408764Z"
    }
   },
   "outputs": [
    {
     "data": {
      "application/javascript": [
       "\n",
       "        if (window._pyforest_update_imports_cell) { window._pyforest_update_imports_cell('import numpy as np\\nimport pandas as pd\\nfrom sklearn.model_selection import train_test_split\\nimport matplotlib.pyplot as plt\\nimport seaborn as sns'); }\n",
       "    "
      ],
      "text/plain": [
       "<IPython.core.display.Javascript object>"
      ]
     },
     "metadata": {},
     "output_type": "display_data"
    }
   ],
   "source": [
    "# Assigning features variables (X) and target variable (y)\n",
    "X = df.drop('fetal_health', axis=1)\n",
    "y = df.fetal_health\n",
    "\n",
    "# Train test split\n",
    "X_train, X_test, y_train, y_test = train_test_split(X, y, random_state=1)"
   ]
  },
  {
   "cell_type": "code",
   "execution_count": 17,
   "metadata": {
    "ExecuteTime": {
     "end_time": "2021-03-16T22:06:04.882398Z",
     "start_time": "2021-03-16T22:06:04.877484Z"
    }
   },
   "outputs": [
    {
     "name": "stdout",
     "output_type": "stream",
     "text": [
      "0.75\n",
      "0.25\n"
     ]
    }
   ],
   "source": [
    "# Checking if train test split ran correclty\n",
    "for dataset in [y_train, y_test]:\n",
    "    print(round(len(dataset)/len(y), 2))"
   ]
  },
  {
   "cell_type": "markdown",
   "metadata": {},
   "source": [
    "Our train and test set were split correctly. 75% of the dataset was assigned to our train set, and 25% was assigned to our test set."
   ]
  },
  {
   "cell_type": "markdown",
   "metadata": {},
   "source": [
    "## Baseline Models"
   ]
  },
  {
   "cell_type": "markdown",
   "metadata": {},
   "source": [
    "To better understand our dataset and how our features variables affect our target variable, we decided to run baseline models and find what approach we should take when tuning our models. None of the baseline models will have any kinds of hyperparameters tuning. We will use the default hyperparameters.\n",
    "\n",
    "<b>Objectives:</b>\n",
    "- Run lazypredict and to have an overview of how the dataset would perform\n",
    "- Run a Logistic Regression, KNN, Decision Tree, and Random Forest model.\n",
    "- Create a function to simplify our model evaluation.\n",
    "- Evaluate each model using the Accuracy, Recall, F1 Score, and Precision metrics.\n",
    "- Create confusion matrices for each model."
   ]
  },
  {
   "cell_type": "code",
   "execution_count": 18,
   "metadata": {
    "ExecuteTime": {
     "end_time": "2021-03-16T22:06:09.668247Z",
     "start_time": "2021-03-16T22:06:09.664389Z"
    }
   },
   "outputs": [],
   "source": [
    "import lazypredict\n",
    "from lazypredict.Supervised import LazyClassifier"
   ]
  },
  {
   "cell_type": "code",
   "execution_count": 9,
   "metadata": {
    "ExecuteTime": {
     "end_time": "2021-03-16T22:05:32.672892Z",
     "start_time": "2021-03-16T22:05:29.306764Z"
    }
   },
   "outputs": [
    {
     "name": "stderr",
     "output_type": "stream",
     "text": [
      "100%|██████████| 30/30 [00:03<00:00,  9.02it/s]\n"
     ]
    },
    {
     "data": {
      "text/html": [
       "<div>\n",
       "<style scoped>\n",
       "    .dataframe tbody tr th:only-of-type {\n",
       "        vertical-align: middle;\n",
       "    }\n",
       "\n",
       "    .dataframe tbody tr th {\n",
       "        vertical-align: top;\n",
       "    }\n",
       "\n",
       "    .dataframe thead th {\n",
       "        text-align: right;\n",
       "    }\n",
       "</style>\n",
       "<table border=\"1\" class=\"dataframe\">\n",
       "  <thead>\n",
       "    <tr style=\"text-align: right;\">\n",
       "      <th></th>\n",
       "      <th>Accuracy</th>\n",
       "      <th>Balanced Accuracy</th>\n",
       "      <th>ROC AUC</th>\n",
       "      <th>F1 Score</th>\n",
       "      <th>Time Taken</th>\n",
       "    </tr>\n",
       "    <tr>\n",
       "      <th>Model</th>\n",
       "      <th></th>\n",
       "      <th></th>\n",
       "      <th></th>\n",
       "      <th></th>\n",
       "      <th></th>\n",
       "    </tr>\n",
       "  </thead>\n",
       "  <tbody>\n",
       "    <tr>\n",
       "      <th>LGBMClassifier</th>\n",
       "      <td>0.96</td>\n",
       "      <td>0.93</td>\n",
       "      <td>0.93</td>\n",
       "      <td>0.96</td>\n",
       "      <td>0.41</td>\n",
       "    </tr>\n",
       "    <tr>\n",
       "      <th>DecisionTreeClassifier</th>\n",
       "      <td>0.92</td>\n",
       "      <td>0.90</td>\n",
       "      <td>0.90</td>\n",
       "      <td>0.93</td>\n",
       "      <td>0.03</td>\n",
       "    </tr>\n",
       "    <tr>\n",
       "      <th>BaggingClassifier</th>\n",
       "      <td>0.95</td>\n",
       "      <td>0.90</td>\n",
       "      <td>0.90</td>\n",
       "      <td>0.94</td>\n",
       "      <td>0.12</td>\n",
       "    </tr>\n",
       "    <tr>\n",
       "      <th>RandomForestClassifier</th>\n",
       "      <td>0.95</td>\n",
       "      <td>0.90</td>\n",
       "      <td>0.90</td>\n",
       "      <td>0.95</td>\n",
       "      <td>0.40</td>\n",
       "    </tr>\n",
       "    <tr>\n",
       "      <th>AdaBoostClassifier</th>\n",
       "      <td>0.94</td>\n",
       "      <td>0.90</td>\n",
       "      <td>0.90</td>\n",
       "      <td>0.94</td>\n",
       "      <td>0.22</td>\n",
       "    </tr>\n",
       "    <tr>\n",
       "      <th>ExtraTreesClassifier</th>\n",
       "      <td>0.95</td>\n",
       "      <td>0.89</td>\n",
       "      <td>0.89</td>\n",
       "      <td>0.95</td>\n",
       "      <td>0.23</td>\n",
       "    </tr>\n",
       "    <tr>\n",
       "      <th>SVC</th>\n",
       "      <td>0.93</td>\n",
       "      <td>0.89</td>\n",
       "      <td>0.89</td>\n",
       "      <td>0.93</td>\n",
       "      <td>0.08</td>\n",
       "    </tr>\n",
       "    <tr>\n",
       "      <th>KNeighborsClassifier</th>\n",
       "      <td>0.94</td>\n",
       "      <td>0.88</td>\n",
       "      <td>0.88</td>\n",
       "      <td>0.94</td>\n",
       "      <td>0.08</td>\n",
       "    </tr>\n",
       "    <tr>\n",
       "      <th>LabelPropagation</th>\n",
       "      <td>0.93</td>\n",
       "      <td>0.88</td>\n",
       "      <td>0.88</td>\n",
       "      <td>0.93</td>\n",
       "      <td>0.15</td>\n",
       "    </tr>\n",
       "    <tr>\n",
       "      <th>LabelSpreading</th>\n",
       "      <td>0.93</td>\n",
       "      <td>0.88</td>\n",
       "      <td>0.88</td>\n",
       "      <td>0.93</td>\n",
       "      <td>0.22</td>\n",
       "    </tr>\n",
       "    <tr>\n",
       "      <th>LogisticRegression</th>\n",
       "      <td>0.92</td>\n",
       "      <td>0.87</td>\n",
       "      <td>0.87</td>\n",
       "      <td>0.92</td>\n",
       "      <td>0.07</td>\n",
       "    </tr>\n",
       "    <tr>\n",
       "      <th>LinearSVC</th>\n",
       "      <td>0.91</td>\n",
       "      <td>0.87</td>\n",
       "      <td>0.87</td>\n",
       "      <td>0.91</td>\n",
       "      <td>0.12</td>\n",
       "    </tr>\n",
       "    <tr>\n",
       "      <th>CalibratedClassifierCV</th>\n",
       "      <td>0.92</td>\n",
       "      <td>0.87</td>\n",
       "      <td>0.87</td>\n",
       "      <td>0.91</td>\n",
       "      <td>0.30</td>\n",
       "    </tr>\n",
       "    <tr>\n",
       "      <th>NearestCentroid</th>\n",
       "      <td>0.87</td>\n",
       "      <td>0.86</td>\n",
       "      <td>0.86</td>\n",
       "      <td>0.87</td>\n",
       "      <td>0.03</td>\n",
       "    </tr>\n",
       "    <tr>\n",
       "      <th>ExtraTreeClassifier</th>\n",
       "      <td>0.91</td>\n",
       "      <td>0.85</td>\n",
       "      <td>0.85</td>\n",
       "      <td>0.91</td>\n",
       "      <td>0.02</td>\n",
       "    </tr>\n",
       "    <tr>\n",
       "      <th>SGDClassifier</th>\n",
       "      <td>0.91</td>\n",
       "      <td>0.85</td>\n",
       "      <td>0.85</td>\n",
       "      <td>0.91</td>\n",
       "      <td>0.04</td>\n",
       "    </tr>\n",
       "    <tr>\n",
       "      <th>Perceptron</th>\n",
       "      <td>0.88</td>\n",
       "      <td>0.85</td>\n",
       "      <td>0.85</td>\n",
       "      <td>0.88</td>\n",
       "      <td>0.04</td>\n",
       "    </tr>\n",
       "    <tr>\n",
       "      <th>LinearDiscriminantAnalysis</th>\n",
       "      <td>0.90</td>\n",
       "      <td>0.83</td>\n",
       "      <td>0.83</td>\n",
       "      <td>0.89</td>\n",
       "      <td>0.47</td>\n",
       "    </tr>\n",
       "    <tr>\n",
       "      <th>RidgeClassifier</th>\n",
       "      <td>0.90</td>\n",
       "      <td>0.83</td>\n",
       "      <td>0.83</td>\n",
       "      <td>0.90</td>\n",
       "      <td>0.04</td>\n",
       "    </tr>\n",
       "    <tr>\n",
       "      <th>RidgeClassifierCV</th>\n",
       "      <td>0.90</td>\n",
       "      <td>0.83</td>\n",
       "      <td>0.83</td>\n",
       "      <td>0.90</td>\n",
       "      <td>0.03</td>\n",
       "    </tr>\n",
       "    <tr>\n",
       "      <th>GaussianNB</th>\n",
       "      <td>0.88</td>\n",
       "      <td>0.81</td>\n",
       "      <td>0.81</td>\n",
       "      <td>0.88</td>\n",
       "      <td>0.02</td>\n",
       "    </tr>\n",
       "    <tr>\n",
       "      <th>PassiveAggressiveClassifier</th>\n",
       "      <td>0.86</td>\n",
       "      <td>0.80</td>\n",
       "      <td>0.80</td>\n",
       "      <td>0.86</td>\n",
       "      <td>0.03</td>\n",
       "    </tr>\n",
       "    <tr>\n",
       "      <th>BernoulliNB</th>\n",
       "      <td>0.84</td>\n",
       "      <td>0.80</td>\n",
       "      <td>0.80</td>\n",
       "      <td>0.85</td>\n",
       "      <td>0.03</td>\n",
       "    </tr>\n",
       "    <tr>\n",
       "      <th>QuadraticDiscriminantAnalysis</th>\n",
       "      <td>0.87</td>\n",
       "      <td>0.78</td>\n",
       "      <td>0.78</td>\n",
       "      <td>0.86</td>\n",
       "      <td>0.05</td>\n",
       "    </tr>\n",
       "    <tr>\n",
       "      <th>DummyClassifier</th>\n",
       "      <td>0.65</td>\n",
       "      <td>0.51</td>\n",
       "      <td>0.51</td>\n",
       "      <td>0.65</td>\n",
       "      <td>0.02</td>\n",
       "    </tr>\n",
       "    <tr>\n",
       "      <th>CheckingClassifier</th>\n",
       "      <td>0.77</td>\n",
       "      <td>0.50</td>\n",
       "      <td>0.50</td>\n",
       "      <td>0.67</td>\n",
       "      <td>0.02</td>\n",
       "    </tr>\n",
       "  </tbody>\n",
       "</table>\n",
       "</div>"
      ],
      "text/plain": [
       "                               Accuracy  Balanced Accuracy  ROC AUC  F1 Score  \\\n",
       "Model                                                                           \n",
       "LGBMClassifier                     0.96               0.93     0.93      0.96   \n",
       "DecisionTreeClassifier             0.92               0.90     0.90      0.93   \n",
       "BaggingClassifier                  0.95               0.90     0.90      0.94   \n",
       "RandomForestClassifier             0.95               0.90     0.90      0.95   \n",
       "AdaBoostClassifier                 0.94               0.90     0.90      0.94   \n",
       "ExtraTreesClassifier               0.95               0.89     0.89      0.95   \n",
       "SVC                                0.93               0.89     0.89      0.93   \n",
       "KNeighborsClassifier               0.94               0.88     0.88      0.94   \n",
       "LabelPropagation                   0.93               0.88     0.88      0.93   \n",
       "LabelSpreading                     0.93               0.88     0.88      0.93   \n",
       "LogisticRegression                 0.92               0.87     0.87      0.92   \n",
       "LinearSVC                          0.91               0.87     0.87      0.91   \n",
       "CalibratedClassifierCV             0.92               0.87     0.87      0.91   \n",
       "NearestCentroid                    0.87               0.86     0.86      0.87   \n",
       "ExtraTreeClassifier                0.91               0.85     0.85      0.91   \n",
       "SGDClassifier                      0.91               0.85     0.85      0.91   \n",
       "Perceptron                         0.88               0.85     0.85      0.88   \n",
       "LinearDiscriminantAnalysis         0.90               0.83     0.83      0.89   \n",
       "RidgeClassifier                    0.90               0.83     0.83      0.90   \n",
       "RidgeClassifierCV                  0.90               0.83     0.83      0.90   \n",
       "GaussianNB                         0.88               0.81     0.81      0.88   \n",
       "PassiveAggressiveClassifier        0.86               0.80     0.80      0.86   \n",
       "BernoulliNB                        0.84               0.80     0.80      0.85   \n",
       "QuadraticDiscriminantAnalysis      0.87               0.78     0.78      0.86   \n",
       "DummyClassifier                    0.65               0.51     0.51      0.65   \n",
       "CheckingClassifier                 0.77               0.50     0.50      0.67   \n",
       "\n",
       "                               Time Taken  \n",
       "Model                                      \n",
       "LGBMClassifier                       0.41  \n",
       "DecisionTreeClassifier               0.03  \n",
       "BaggingClassifier                    0.12  \n",
       "RandomForestClassifier               0.40  \n",
       "AdaBoostClassifier                   0.22  \n",
       "ExtraTreesClassifier                 0.23  \n",
       "SVC                                  0.08  \n",
       "KNeighborsClassifier                 0.08  \n",
       "LabelPropagation                     0.15  \n",
       "LabelSpreading                       0.22  \n",
       "LogisticRegression                   0.07  \n",
       "LinearSVC                            0.12  \n",
       "CalibratedClassifierCV               0.30  \n",
       "NearestCentroid                      0.03  \n",
       "ExtraTreeClassifier                  0.02  \n",
       "SGDClassifier                        0.04  \n",
       "Perceptron                           0.04  \n",
       "LinearDiscriminantAnalysis           0.47  \n",
       "RidgeClassifier                      0.04  \n",
       "RidgeClassifierCV                    0.03  \n",
       "GaussianNB                           0.02  \n",
       "PassiveAggressiveClassifier          0.03  \n",
       "BernoulliNB                          0.03  \n",
       "QuadraticDiscriminantAnalysis        0.05  \n",
       "DummyClassifier                      0.02  \n",
       "CheckingClassifier                   0.02  "
      ]
     },
     "execution_count": 9,
     "metadata": {},
     "output_type": "execute_result"
    }
   ],
   "source": [
    "clf = LazyClassifier(verbose=0,ignore_warnings=True, custom_metric=None)\n",
    "models, predictions = clf.fit(X_train, X_test, y_train, y_test)\n",
    "models"
   ]
  },
  {
   "cell_type": "code",
   "execution_count": 73,
   "metadata": {
    "ExecuteTime": {
     "end_time": "2021-03-11T07:37:58.199876Z",
     "start_time": "2021-03-11T07:37:58.186715Z"
    }
   },
   "outputs": [],
   "source": [
    "# Evaluation function\n",
    "\n",
    "def evaluation(y_true, y_pred):\n",
    "    \n",
    "# Print Accuracy, Recall, F1 Score, and Precision metrics.\n",
    "    print('Evaluation Metrics:')\n",
    "    print('Accuracy: ' + str(metrics.accuracy_score(y_test, y_pred)))\n",
    "    print('Recall: ' + str(metrics.recall_score(y_test, y_pred)))\n",
    "    print('F1 Score: ' + str(metrics.f1_score(y_test, y_pred)))\n",
    "    print('Precision: ' + str(metrics.precision_score(y_test, y_pred)))\n",
    "    \n",
    "# Print Confusion Matrix\n",
    "    print('\\nConfusion Matrix:')\n",
    "    print(' TN,  FP, FN, TP')\n",
    "    print(confusion_matrix(y_true, y_pred).ravel())\n",
    "    \n",
    "# Function Prints best parameters for GridSearchCV\n",
    "def print_results(results):\n",
    "    print('Best Parameters: {}\\n'.format(results.best_params_))    "
   ]
  },
  {
   "cell_type": "markdown",
   "metadata": {},
   "source": [
    "### Logistic Regression"
   ]
  },
  {
   "cell_type": "markdown",
   "metadata": {},
   "source": [
    "When trying to classify structured data, logistic regression models usually give a quick and reliable result. Thus, it will be our first baseline model."
   ]
  },
  {
   "cell_type": "code",
   "execution_count": 74,
   "metadata": {
    "ExecuteTime": {
     "end_time": "2021-03-11T07:39:52.107315Z",
     "start_time": "2021-03-11T07:39:51.955814Z"
    },
    "scrolled": false
   },
   "outputs": [
    {
     "data": {
      "application/javascript": [
       "\n",
       "        if (window._pyforest_update_imports_cell) { window._pyforest_update_imports_cell('import numpy as np\\nimport matplotlib.pyplot as plt\\nimport seaborn as sns\\nfrom sklearn.linear_model import LogisticRegression\\nfrom sklearn.model_selection import train_test_split\\nimport pandas as pd'); }\n",
       "    "
      ],
      "text/plain": [
       "<IPython.core.display.Javascript object>"
      ]
     },
     "metadata": {},
     "output_type": "display_data"
    },
    {
     "name": "stdout",
     "output_type": "stream",
     "text": [
      "Evaluation Metrics:\n",
      "Accuracy: 0.8778195488721805\n",
      "Recall: 0.9511002444987775\n",
      "F1 Score: 0.9228944246737841\n",
      "Precision: 0.8963133640552995\n",
      "\n",
      "Confusion Matrix:\n",
      " TN,  FP, FN, TP\n",
      "[389  20  45  78]\n"
     ]
    }
   ],
   "source": [
    "# Baseline Logistic Regression Model\n",
    "lr_baseline = LogisticRegression()\n",
    "\n",
    "# Fitting and predicting\n",
    "lr_baseline.fit(X_train, y_train)\n",
    "y_pred_lr_baseline = lr_baseline.predict(X_test)\n",
    "\n",
    "# Evaluation Metrics\n",
    "evaluation(y_test, y_pred_lr_baseline)"
   ]
  },
  {
   "cell_type": "markdown",
   "metadata": {},
   "source": [
    "<b>Findings:</b>\n",
    "\n",
    "As we can see, our baseline Logistic Regression model performed reasonably well, even without tuning. Our feature variables can train the model with fairly precision.\n",
    "\n",
    "We will now test the same features and target variables using K-nearest neighbors, which classifies data points based on similarity."
   ]
  },
  {
   "cell_type": "markdown",
   "metadata": {},
   "source": [
    "### KNN"
   ]
  },
  {
   "cell_type": "markdown",
   "metadata": {},
   "source": [
    "Next, we will run a K-Nearest Neighbors model. KNN is a simples model that stores and classifies all data points based on similarity measures (i.e., distance functions). Since it's an easy model to set up, we will run it and read the results to understand what the data tells us. We will have to scale our dataset for KNN before running it."
   ]
  },
  {
   "cell_type": "code",
   "execution_count": 8,
   "metadata": {},
   "outputs": [],
   "source": [
    "# Call and fit scaler \n",
    "scaler = StandardScaler()\n",
    "scaler.fit(X_train)\n",
    "\n",
    "# Scaling our dataset\n",
    "X_train_scaled = scaler.transform(X_train)\n",
    "X_test_scaled = scaler.transform(X_test)"
   ]
  },
  {
   "cell_type": "code",
   "execution_count": 9,
   "metadata": {
    "scrolled": true
   },
   "outputs": [
    {
     "name": "stdout",
     "output_type": "stream",
     "text": [
      "Evaluation Metrics:\n",
      "Accuracy: 0.9398496240601504\n",
      "Recall: 0.9877750611246944\n",
      "F1 Score: 0.961904761904762\n",
      "Precision: 0.9373549883990719\n",
      "\n",
      "Confusion Matrix:\n",
      " TN,  FP, FN, TP\n",
      "[404   5  27  96]\n"
     ]
    }
   ],
   "source": [
    "# Baseline KNN Model\n",
    "knn_baseline = KNeighborsClassifier()\n",
    "\n",
    "# Fitting and predicting\n",
    "knn_baseline.fit(X_train_scaled, y_train)\n",
    "y_pred_knn_baseline = knn_baseline.predict(X_test_scaled)\n",
    "\n",
    "# Evaluation metrics\n",
    "evaluation(y_test, y_pred_knn_baseline)"
   ]
  },
  {
   "cell_type": "markdown",
   "metadata": {},
   "source": [
    "<b>Findings:</b>\n",
    "\n",
    "Our baseline KNN model performed better than our baseline Logistic Regression model in all the metrics that we are analyzing the model. Interestingly, the Recall metric had a performance of .99. This is very high. It means that our baseline model is capable of predicting true positives with high precision. For now, we will keep running baseline models to find what the dataset has to tell us."
   ]
  },
  {
   "cell_type": "markdown",
   "metadata": {},
   "source": [
    "### Decision Tree"
   ]
  },
  {
   "cell_type": "markdown",
   "metadata": {},
   "source": [
    "One of our project's key questions is to find what metrics can predict which features have the highest coefficient in our model predictions. For this reason, we will run Decision Tree as well, since it has a better division of features to predict an outcome."
   ]
  },
  {
   "cell_type": "code",
   "execution_count": 10,
   "metadata": {},
   "outputs": [
    {
     "name": "stdout",
     "output_type": "stream",
     "text": [
      "Evaluation Metrics:\n",
      "Accuracy: 0.9266917293233082\n",
      "Recall: 0.9388753056234719\n",
      "F1 Score: 0.9516728624535316\n",
      "Precision: 0.964824120603015\n",
      "\n",
      "Confusion Matrix:\n",
      " TN,  FP, FN, TP\n",
      "[384  25  14 109]\n"
     ]
    }
   ],
   "source": [
    "# Baseline Decision Tree Model\n",
    "dt_baseline = DecisionTreeClassifier()\n",
    "\n",
    "# Fitting and predicting\n",
    "dt_baseline = dt_baseline.fit(X_train, y_train)\n",
    "y_pred_dt_baseline = dt_baseline.predict(X_test)\n",
    "\n",
    "# Evaluation metrics\n",
    "evaluation(y_test, y_pred_dt_baseline)"
   ]
  },
  {
   "cell_type": "markdown",
   "metadata": {},
   "source": [
    "<b>Findings:</b>\n",
    "\n",
    "Decision Tree did not perform better than KNN for most of the metrics that we are using. However, it performed better for the precision metric, which is the metric that we are most concerned about. Thus, we will run a Random Forest model, which works as a collection of decision trees."
   ]
  },
  {
   "cell_type": "markdown",
   "metadata": {},
   "source": [
    "### Random Forest"
   ]
  },
  {
   "cell_type": "markdown",
   "metadata": {},
   "source": [
    "After running a Decision Tree model, it makes sense to run a Random Forest model, an ensemble model that operates by constructing a multitude of decision trees at training time and outputting the class that is the average prediction for the individual trees."
   ]
  },
  {
   "cell_type": "code",
   "execution_count": 11,
   "metadata": {
    "scrolled": true
   },
   "outputs": [
    {
     "name": "stdout",
     "output_type": "stream",
     "text": [
      "Evaluation Metrics:\n",
      "Accuracy: 0.9492481203007519\n",
      "Recall: 0.9877750611246944\n",
      "F1 Score: 0.9676646706586827\n",
      "Precision: 0.9483568075117371\n",
      "\n",
      "Confusion Matrix:\n",
      " TN,  FP, FN, TP\n",
      "[404   5  22 101]\n"
     ]
    }
   ],
   "source": [
    "# Baseline Random Forest Model\n",
    "rfc_baseline = RandomForestClassifier()\n",
    "\n",
    "# Fitting and predicting\n",
    "rfc_baseline.fit(X_train, y_train)\n",
    "y_pred_rfr_baseline = rfc_baseline.predict(X_test)\n",
    "\n",
    "# Evaluation metrics\n",
    "evaluation(y_test, y_pred_rfr_baseline)"
   ]
  },
  {
   "cell_type": "markdown",
   "metadata": {},
   "source": [
    "<b>Findings:</b>\n",
    "\n",
    "Our baseline random forest model had an exciting performance. It outperformed the Decision Tree baseline model in almost every metric, except Precision, which slightly decreased. Compared to KNN, our best performing model so far, if we compare every metric, performs better for the metrics Accuracy, F1 Score, and Precision. It performed the same for the Recall metric."
   ]
  },
  {
   "cell_type": "markdown",
   "metadata": {},
   "source": [
    "### Baseline Models Evaluation"
   ]
  },
  {
   "cell_type": "markdown",
   "metadata": {},
   "source": [
    "Accuracy, Recall, and F1 Score. Decision Tree had the best performance for the Precision metric. All of our models performed reasonably well. However, we have space for improvement in all of them. We will start improving some hyperparameters and check how they performed."
   ]
  },
  {
   "cell_type": "markdown",
   "metadata": {},
   "source": [
    "## Preprocessing Data"
   ]
  },
  {
   "cell_type": "markdown",
   "metadata": {},
   "source": [
    "We have a class imbalance problem in our dataset. Thus, we will use Synthetic Minority Oversampling Technique (SMOTE), where the minority class is oversampled by producing synthetic examples to fix the class imbalance. We will then compare the results to our baseline models to check if the target variable is even."
   ]
  },
  {
   "cell_type": "code",
   "execution_count": 12,
   "metadata": {
    "scrolled": true
   },
   "outputs": [
    {
     "name": "stdout",
     "output_type": "stream",
     "text": [
      "1.0    0.781681\n",
      "2.0    0.218319\n",
      "Name: fetal_health, dtype: float64\n",
      "2.0    0.5\n",
      "1.0    0.5\n",
      "Name: fetal_health, dtype: float64\n"
     ]
    }
   ],
   "source": [
    "# SMOTE\n",
    "smote = SMOTE()\n",
    "X_train_smote, y_train_smote = smote.fit_sample(X_train, y_train)\n",
    "\n",
    "# Checking if SMOTE was correctly fitted\n",
    "for dataset in (y_train, y_train_smote):\n",
    "    print (dataset.value_counts(normalize=True))"
   ]
  },
  {
   "cell_type": "markdown",
   "metadata": {},
   "source": [
    "## Vanilla Models Tuning"
   ]
  },
  {
   "cell_type": "markdown",
   "metadata": {},
   "source": [
    "We will now start improving our model using hyperparameters tuning without any feature engineering. We will tune all the baseline models changing some hyperparameters. Then, we will use GridSearchCV and XGBoost to find the best hyperparameters."
   ]
  },
  {
   "cell_type": "markdown",
   "metadata": {},
   "source": [
    "### Logistic Regression"
   ]
  },
  {
   "cell_type": "markdown",
   "metadata": {},
   "source": [
    "We will start with the first baseline model that we ran: Logistic Regression using SMOTE. We want to see if SMOTE can help our model best predict our target variable. We will not tune any hyperparameter for the first model."
   ]
  },
  {
   "cell_type": "code",
   "execution_count": 13,
   "metadata": {
    "scrolled": true
   },
   "outputs": [
    {
     "name": "stdout",
     "output_type": "stream",
     "text": [
      "Evaluation Metrics:\n",
      "Accuracy: 0.8364661654135338\n",
      "Recall: 0.8386308068459658\n",
      "F1 Score: 0.88745148771022\n",
      "Precision: 0.9423076923076923\n",
      "\n",
      "Confusion Matrix:\n",
      " TN,  FP, FN, TP\n",
      "[343  66  21 102]\n"
     ]
    }
   ],
   "source": [
    "# Logistic Regression Model\n",
    "lr = LogisticRegression()\n",
    "\n",
    "# Fitting and predicting\n",
    "lr.fit(X_train_smote, y_train_smote)\n",
    "y_pred_lr_smote = lr.predict(X_test)\n",
    "\n",
    "# Evaluation Metrics\n",
    "evaluation(y_test, y_pred_lr_smote)"
   ]
  },
  {
   "cell_type": "markdown",
   "metadata": {},
   "source": [
    "Compared to our model using SMOTE underperformed in almost every metric using SMOTE. However, the Precision metric did perform better. It's the primary metric that we are interested in. We can see that there the number of False Negatives was reduced.\n",
    "\n",
    "Next, we will add a few hyperparameters individually and see if we can improve our model. Here, our approach will be trying random hyperparameters and check the results compared to the model without any parameters."
   ]
  },
  {
   "cell_type": "code",
   "execution_count": 36,
   "metadata": {
    "ExecuteTime": {
     "end_time": "2021-03-11T07:25:08.944247Z",
     "start_time": "2021-03-11T07:25:08.925861Z"
    },
    "scrolled": false
   },
   "outputs": [
    {
     "data": {
      "application/javascript": [
       "\n",
       "        if (window._pyforest_update_imports_cell) { window._pyforest_update_imports_cell('from sklearn.linear_model import LogisticRegression\\nimport numpy as np\\nimport pandas as pd\\nfrom sklearn.model_selection import train_test_split'); }\n",
       "    "
      ],
      "text/plain": [
       "<IPython.core.display.Javascript object>"
      ]
     },
     "metadata": {},
     "output_type": "display_data"
    },
    {
     "ename": "NameError",
     "evalue": "name 'X_train_smote' is not defined",
     "output_type": "error",
     "traceback": [
      "\u001b[0;31m---------------------------------------------------------------------------\u001b[0m",
      "\u001b[0;31mNameError\u001b[0m                                 Traceback (most recent call last)",
      "\u001b[0;32m<ipython-input-36-f28f2787b0e8>\u001b[0m in \u001b[0;36m<module>\u001b[0;34m()\u001b[0m\n\u001b[1;32m      3\u001b[0m \u001b[0;34m\u001b[0m\u001b[0m\n\u001b[1;32m      4\u001b[0m \u001b[0;31m# Fitting and predicting\u001b[0m\u001b[0;34m\u001b[0m\u001b[0;34m\u001b[0m\u001b[0;34m\u001b[0m\u001b[0m\n\u001b[0;32m----> 5\u001b[0;31m \u001b[0mlr\u001b[0m\u001b[0;34m.\u001b[0m\u001b[0mfit\u001b[0m\u001b[0;34m(\u001b[0m\u001b[0mX_train_smote\u001b[0m\u001b[0;34m,\u001b[0m \u001b[0my_train_smote\u001b[0m\u001b[0;34m)\u001b[0m\u001b[0;34m\u001b[0m\u001b[0;34m\u001b[0m\u001b[0m\n\u001b[0m\u001b[1;32m      6\u001b[0m \u001b[0my_pred_lr_tuned\u001b[0m \u001b[0;34m=\u001b[0m \u001b[0mlr\u001b[0m\u001b[0;34m.\u001b[0m\u001b[0mpredict\u001b[0m\u001b[0;34m(\u001b[0m\u001b[0mX_test\u001b[0m\u001b[0;34m)\u001b[0m\u001b[0;34m\u001b[0m\u001b[0;34m\u001b[0m\u001b[0m\n\u001b[1;32m      7\u001b[0m \u001b[0;34m\u001b[0m\u001b[0m\n",
      "\u001b[0;31mNameError\u001b[0m: name 'X_train_smote' is not defined"
     ]
    }
   ],
   "source": [
    "# Logistic Regression Model\n",
    "lr = LogisticRegression(C=100, max_iter=200, class_weight='balanced')\n",
    "\n",
    "# Fitting and predicting\n",
    "lr.fit(X_train_smote, y_train_smote)\n",
    "y_pred_lr_tuned = lr.predict(X_test)\n",
    "\n",
    "# Evaluation Metrics\n",
    "evaluation(y_test, y_pred_lr_tuned)\n"
   ]
  },
  {
   "cell_type": "markdown",
   "metadata": {},
   "source": [
    "`C=100` improved the Precision metric. All the other metrics remained the same.\n",
    "\n",
    "`fit_intercept=False` reduced all the metrics.\n",
    "\n",
    "`max_inter=200` improved the Precision metric compared to the default `max_inter=100`\n",
    "\n",
    "`class_weight='balanced'` improved all the metrics.\n",
    "\n",
    "<b>Findings:</b>\n",
    "\n",
    "Compared to our baseline model, the Logistic Regression model did not perform better. We were able to improve the model slightly using some random tuning. However, we don't think that Logistic Regression has the power that we need. Thus, we will use some more advanced algorithms."
   ]
  },
  {
   "cell_type": "markdown",
   "metadata": {},
   "source": [
    "### KNN"
   ]
  },
  {
   "cell_type": "markdown",
   "metadata": {},
   "source": [
    "Following our order of baseline models, we will know use KNN models. We will first compare the result of our baseline model to a model after applying SMOTE. Then, we will use GridSearchCV to find the best hyperparameter tuning. For this model, we will scale the train set using SMOTE."
   ]
  },
  {
   "cell_type": "code",
   "execution_count": 15,
   "metadata": {
    "scrolled": false
   },
   "outputs": [
    {
     "name": "stdout",
     "output_type": "stream",
     "text": [
      "Evaluation Metrics:\n",
      "Accuracy: 0.793233082706767\n",
      "Recall: 0.9975550122249389\n",
      "F1 Score: 0.8812095032397408\n",
      "Precision: 0.7891682785299806\n",
      "\n",
      "Confusion Matrix:\n",
      " TN,  FP, FN, TP\n",
      "[408   1 109  14]\n"
     ]
    }
   ],
   "source": [
    "# KNN model using SMOTE\n",
    "knn = KNeighborsClassifier()\n",
    "\n",
    "# Fitting and predicting\n",
    "knn.fit(X_train_smote, y_train_smote)\n",
    "y_pred_knn_smote = knn.predict(X_test_scaled)\n",
    "\n",
    "# Evaluation metrics\n",
    "evaluation(y_test, y_pred_knn_smote)"
   ]
  },
  {
   "cell_type": "markdown",
   "metadata": {},
   "source": [
    "Our KNN model performed better than our baseline model in almost every metric, except Recall that had a small drop. We will now run a GridSearchCV to find the most relevant hyperparameters."
   ]
  },
  {
   "cell_type": "code",
   "execution_count": 16,
   "metadata": {},
   "outputs": [],
   "source": [
    "grid_params_knn = {\n",
    "    'n_neighbors':list(range(1,10)),\n",
    "    'weights':['uniform','distance'],\n",
    "    'metric':['eucliean','manhattan','minkowski'],\n",
    "    'leaf_size':list(range(1,101))\n",
    "}"
   ]
  },
  {
   "cell_type": "code",
   "execution_count": 17,
   "metadata": {
    "scrolled": false
   },
   "outputs": [
    {
     "name": "stdout",
     "output_type": "stream",
     "text": [
      "Fitting 5 folds for each of 5400 candidates, totalling 27000 fits\n"
     ]
    },
    {
     "name": "stderr",
     "output_type": "stream",
     "text": [
      "[Parallel(n_jobs=-1)]: Using backend LokyBackend with 8 concurrent workers.\n",
      "[Parallel(n_jobs=-1)]: Done  34 tasks      | elapsed:    2.1s\n",
      "[Parallel(n_jobs=-1)]: Done 976 tasks      | elapsed:    7.0s\n",
      "[Parallel(n_jobs=-1)]: Done 2976 tasks      | elapsed:   16.7s\n",
      "[Parallel(n_jobs=-1)]: Done 5776 tasks      | elapsed:   29.1s\n",
      "[Parallel(n_jobs=-1)]: Done 9376 tasks      | elapsed:   46.8s\n",
      "[Parallel(n_jobs=-1)]: Done 13776 tasks      | elapsed:  1.1min\n",
      "[Parallel(n_jobs=-1)]: Done 18976 tasks      | elapsed:  1.5min\n",
      "[Parallel(n_jobs=-1)]: Done 24976 tasks      | elapsed:  2.0min\n"
     ]
    },
    {
     "name": "stdout",
     "output_type": "stream",
     "text": [
      "Evaluation Metrics:\n",
      "Accuracy: 0.768796992481203\n",
      "Recall: 1.0\n",
      "F1 Score: 0.869287991498406\n",
      "Precision: 0.768796992481203\n",
      "\n",
      "Confusion Matrix:\n",
      " TN,  FP, FN, TP\n",
      "[409   0 123   0]\n",
      "Best Parameters: {'leaf_size': 8, 'metric': 'manhattan', 'n_neighbors': 1, 'weights': 'uniform'}\n",
      "\n"
     ]
    },
    {
     "name": "stderr",
     "output_type": "stream",
     "text": [
      "[Parallel(n_jobs=-1)]: Done 27000 out of 27000 | elapsed:  2.2min finished\n"
     ]
    }
   ],
   "source": [
    "# Using GridSearchCV for a KNN model\n",
    "gs_knn = GridSearchCV(knn,grid_params_knn,verbose=1,n_jobs=-1)\n",
    "\n",
    "# Fitting and predicting\n",
    "gs_knn.fit(X_train_smote, y_train_smote)\n",
    "y_pred_gs_knn = gs_knn.predict(X_test_scaled)\n",
    "\n",
    "# Evaluation metrics\n",
    "evaluation(y_test, y_pred_gs_knn)\n",
    "print_results(gs_knn)"
   ]
  },
  {
   "cell_type": "markdown",
   "metadata": {},
   "source": [
    "KNN using GridSearchCV did not perform better than our baseline model using only SMOTE. The Recall metric increased to 1.0, which might be a sign of overfitting. The model is not capable of identify False Positives or True Positives."
   ]
  },
  {
   "cell_type": "markdown",
   "metadata": {},
   "source": [
    "### Decision Tree"
   ]
  },
  {
   "cell_type": "markdown",
   "metadata": {},
   "source": [
    "Following our order of models, we will now try a Decision Tree model. On the baseline model, Decision Tree did not perform better in most of the metrics. However, it did perform better with the Precision metric, the focus of our project. We will run a model using only SMOTE and see the performance. We believe that Random Forest, since it's an ensemble model, will perform better than KNN. However, we want to know how the model performs without the imbalance classification problem."
   ]
  },
  {
   "cell_type": "code",
   "execution_count": 18,
   "metadata": {},
   "outputs": [
    {
     "name": "stdout",
     "output_type": "stream",
     "text": [
      "Evaluation Metrics:\n",
      "Accuracy: 0.9285714285714286\n",
      "Recall: 0.9584352078239609\n",
      "F1 Score: 0.9537712895377128\n",
      "Precision: 0.9491525423728814\n",
      "\n",
      "Confusion Matrix:\n",
      " TN,  FP, FN, TP\n",
      "[392  17  21 102]\n"
     ]
    }
   ],
   "source": [
    "# Decision Tree Model\n",
    "tree = DecisionTreeClassifier()\n",
    "\n",
    "# Fitting and predicting\n",
    "tree.fit(X_train_smote, y_train_smote)\n",
    "y_pred_tree = tree.predict(X_test)\n",
    "\n",
    "# Evaluation metrics\n",
    "evaluation(y_test, y_pred_tree)"
   ]
  },
  {
   "cell_type": "markdown",
   "metadata": {},
   "source": [
    "<b>Findings:</b>\n",
    "\n",
    "Our Decision Tree model had a good performance. So far, it was our best performing model for precision metric. We expect to improve this result using Random Forest models.\n"
   ]
  },
  {
   "cell_type": "markdown",
   "metadata": {},
   "source": [
    "### Random Forest"
   ]
  },
  {
   "cell_type": "markdown",
   "metadata": {},
   "source": [
    "Random Forest was our best performing baseline model. We will see if we can improve even more the results using hyperparameter tuning. However, let's first see how the model performs using only SMOTE first. Then we will use GridSearchCV to find the best hyperparameters."
   ]
  },
  {
   "cell_type": "code",
   "execution_count": 19,
   "metadata": {
    "scrolled": true
   },
   "outputs": [
    {
     "name": "stdout",
     "output_type": "stream",
     "text": [
      "Evaluation Metrics:\n",
      "Accuracy: 0.9586466165413534\n",
      "Recall: 0.9877750611246944\n",
      "F1 Score: 0.9734939759036144\n",
      "Precision: 0.9596199524940617\n",
      "\n",
      "Confusion Matrix:\n",
      " TN,  FP, FN, TP\n",
      "[404   5  17 106]\n"
     ]
    }
   ],
   "source": [
    "# Random Forest Model\n",
    "rfc = RandomForestClassifier()\n",
    "\n",
    "# Fitting and predicting\n",
    "rfc.fit(X_train_smote, y_train_smote)\n",
    "y_preds_rfr = rfc.predict(X_test)\n",
    "\n",
    "# Evaluation Metrics\n",
    "evaluation(y_test, y_preds_rfr)"
   ]
  },
  {
   "cell_type": "markdown",
   "metadata": {},
   "source": [
    "<b>Findings: </b>\n",
    "\n",
    "Compared to our baseline model, we can see improvements already in all the metrics. We can also see that our model reduced the number of False Positives, which is our focus."
   ]
  },
  {
   "cell_type": "markdown",
   "metadata": {},
   "source": [
    "### Random Forest with Grid Search"
   ]
  },
  {
   "cell_type": "markdown",
   "metadata": {},
   "source": [
    "Now it's time to find the best hyperparameters for Random Forest, the model that interests us the most for now. First, we will set up a dictionary of hyperparameters that we want to try and then run a GridSearchCV to find the best fit for our model."
   ]
  },
  {
   "cell_type": "code",
   "execution_count": 20,
   "metadata": {},
   "outputs": [],
   "source": [
    "# GridSearch Parameters\n",
    "parameters = {\n",
    "    'n_estimators': [5, 50, 100, 150, 200],\n",
    "    'max_depth': list(range(1, 11)),\n",
    "    'criterion':['gini','entropy'],\n",
    "    'max_features': list(range(20)),\n",
    "    'oob_score':[False,True],\n",
    "}"
   ]
  },
  {
   "cell_type": "code",
   "execution_count": 21,
   "metadata": {
    "collapsed": true
   },
   "outputs": [
    {
     "name": "stdout",
     "output_type": "stream",
     "text": [
      "Fitting 5 folds for each of 4000 candidates, totalling 20000 fits\n"
     ]
    },
    {
     "name": "stderr",
     "output_type": "stream",
     "text": [
      "[Parallel(n_jobs=-1)]: Using backend LokyBackend with 8 concurrent workers.\n",
      "[Parallel(n_jobs=-1)]: Done  56 tasks      | elapsed:    0.9s\n",
      "[Parallel(n_jobs=-1)]: Done 296 tasks      | elapsed:   12.6s\n",
      "[Parallel(n_jobs=-1)]: Done 546 tasks      | elapsed:   27.1s\n",
      "[Parallel(n_jobs=-1)]: Done 896 tasks      | elapsed:   48.9s\n",
      "[Parallel(n_jobs=-1)]: Done 1346 tasks      | elapsed:  1.3min\n",
      "[Parallel(n_jobs=-1)]: Done 1896 tasks      | elapsed:  2.0min\n",
      "[Parallel(n_jobs=-1)]: Done 2546 tasks      | elapsed:  2.7min\n",
      "[Parallel(n_jobs=-1)]: Done 3296 tasks      | elapsed:  3.8min\n",
      "[Parallel(n_jobs=-1)]: Done 4146 tasks      | elapsed:  5.1min\n",
      "[Parallel(n_jobs=-1)]: Done 5096 tasks      | elapsed:  6.7min\n",
      "[Parallel(n_jobs=-1)]: Done 6146 tasks      | elapsed:  8.6min\n",
      "[Parallel(n_jobs=-1)]: Done 7296 tasks      | elapsed: 10.7min\n",
      "[Parallel(n_jobs=-1)]: Done 8546 tasks      | elapsed: 13.1min\n",
      "[Parallel(n_jobs=-1)]: Done 9896 tasks      | elapsed: 16.1min\n",
      "[Parallel(n_jobs=-1)]: Done 11346 tasks      | elapsed: 17.7min\n",
      "[Parallel(n_jobs=-1)]: Done 12896 tasks      | elapsed: 19.8min\n",
      "[Parallel(n_jobs=-1)]: Done 14546 tasks      | elapsed: 22.5min\n",
      "[Parallel(n_jobs=-1)]: Done 16296 tasks      | elapsed: 25.8min\n",
      "[Parallel(n_jobs=-1)]: Done 18146 tasks      | elapsed: 29.6min\n",
      "[Parallel(n_jobs=-1)]: Done 20000 out of 20000 | elapsed: 33.6min finished\n"
     ]
    },
    {
     "ename": "NameError",
     "evalue": "name 'y_preds_rfr_rfc_gs' is not defined",
     "output_type": "error",
     "traceback": [
      "\u001b[0;31m---------------------------------------------------------------------------\u001b[0m",
      "\u001b[0;31mNameError\u001b[0m                                 Traceback (most recent call last)",
      "\u001b[0;32m<ipython-input-21-0ce6792381b6>\u001b[0m in \u001b[0;36m<module>\u001b[0;34m()\u001b[0m\n\u001b[1;32m      5\u001b[0m \u001b[0my_preds_rfr_cv\u001b[0m \u001b[0;34m=\u001b[0m \u001b[0mrfc_gs\u001b[0m\u001b[0;34m.\u001b[0m\u001b[0mpredict\u001b[0m\u001b[0;34m(\u001b[0m\u001b[0;34m(\u001b[0m\u001b[0mX_test\u001b[0m\u001b[0;34m)\u001b[0m\u001b[0;34m)\u001b[0m\u001b[0;34m\u001b[0m\u001b[0;34m\u001b[0m\u001b[0m\n\u001b[1;32m      6\u001b[0m \u001b[0;34m\u001b[0m\u001b[0m\n\u001b[0;32m----> 7\u001b[0;31m \u001b[0mevaluation\u001b[0m\u001b[0;34m(\u001b[0m\u001b[0my_test\u001b[0m\u001b[0;34m,\u001b[0m \u001b[0my_preds_rfr_rfc_gs\u001b[0m\u001b[0;34m)\u001b[0m\u001b[0;34m\u001b[0m\u001b[0;34m\u001b[0m\u001b[0m\n\u001b[0m\u001b[1;32m      8\u001b[0m \u001b[0mprint_results\u001b[0m\u001b[0;34m(\u001b[0m\u001b[0mrfc_gs\u001b[0m\u001b[0;34m)\u001b[0m\u001b[0;34m\u001b[0m\u001b[0;34m\u001b[0m\u001b[0m\n",
      "\u001b[0;31mNameError\u001b[0m: name 'y_preds_rfr_rfc_gs' is not defined"
     ]
    }
   ],
   "source": [
    "# # GridSearch (----------remove hyphen from GridSearchCV----------)\n",
    "rfc_gs = GridSearchCV(rfc, parameters, cv=5, verbose=1, n_jobs=-1)\n",
    "\n",
    "rfc_gs.fit(X_train_smote, y_train_smote)\n",
    "y_preds_rfr_cv = rfc_gs.predict((X_test))"
   ]
  },
  {
   "cell_type": "code",
   "execution_count": 22,
   "metadata": {},
   "outputs": [
    {
     "name": "stdout",
     "output_type": "stream",
     "text": [
      "Evaluation Metrics:\n",
      "Accuracy: 0.9548872180451128\n",
      "Recall: 0.9755501222493888\n",
      "F1 Score: 0.9708029197080292\n",
      "Precision: 0.9661016949152542\n",
      "\n",
      "Confusion Matrix:\n",
      " TN,  FP, FN, TP\n",
      "[399  10  14 109]\n",
      "Best Parameters: {'criterion': 'entropy', 'max_depth': 10, 'max_features': 10, 'n_estimators': 50, 'oob_score': False}\n",
      "\n"
     ]
    }
   ],
   "source": [
    "evaluation(y_test, y_preds_rfr_cv)\n",
    "print_results(rfc_gs)"
   ]
  },
  {
   "cell_type": "markdown",
   "metadata": {},
   "source": [
    "This is a great improvement from our baseline model. All the metrics improved and this is the best performing so far before feature engineering.\n",
    "\n",
    "To confirm that this is the best performing model, we would like to play a little bit with the `max_feature` hyperparameter since we noticed that sometimes GridSearchCV might not choose the best one. "
   ]
  },
  {
   "cell_type": "code",
   "execution_count": 23,
   "metadata": {
    "scrolled": true
   },
   "outputs": [
    {
     "name": "stdout",
     "output_type": "stream",
     "text": [
      "Evaluation Metrics:\n",
      "Accuracy: 0.9605263157894737\n",
      "Recall: 0.9755501222493888\n",
      "F1 Score: 0.9743589743589743\n",
      "Precision: 0.973170731707317\n",
      "\n",
      "Confusion Matrix:\n",
      " TN,  FP, FN, TP\n",
      "[399  10  11 112]\n"
     ]
    }
   ],
   "source": [
    "# Baseline Random Forest Model\n",
    "rfc = RandomForestClassifier(criterion='entropy',\n",
    "                             n_estimators= 150, \n",
    "                             max_depth=9, \n",
    "                             max_features=10,\n",
    "                             oob_score=True\n",
    "                            )\n",
    "\n",
    "# Fitting and predicting\n",
    "rfc.fit(X_train_smote, y_train_smote)\n",
    "y_preds_rfr_tuned = rfc.predict(X_test)\n",
    "\n",
    "# Evaluation Metrics\n",
    "evaluation(y_test, y_preds_rfr_tuned)"
   ]
  },
  {
   "cell_type": "code",
   "execution_count": 49,
   "metadata": {},
   "outputs": [
    {
     "data": {
      "text/plain": [
       "Text(0.5, 1.0, 'Feature Importance')"
      ]
     },
     "execution_count": 49,
     "metadata": {},
     "output_type": "execute_result"
    },
    {
     "data": {
      "image/png": "[encoded data removed]",
      "text/plain": [
       "<Figure size 576x396 with 1 Axes>"
      ]
     },
     "metadata": {},
     "output_type": "display_data"
    }
   ],
   "source": [
    "plt = pd.Series(rfc.feature_importances_, index=X.columns).nlargest(10).plot(kind='barh')\n",
    "plt.set_title('Feature Importance')\n"
   ]
  },
  {
   "cell_type": "markdown",
   "metadata": {},
   "source": [
    "<b>Findings:</b>\n",
    "\n",
    "As we predicted, GridSearchCV didn't give us the best `max_features` for precision. We are not sure why this happens, so we always try changing it slightly to see what the result would look like. We changed `max_depth=10` to `max_depth=9` and the metric precision improved.\n",
    "\n",
    "However, we are trying to decrease False Positives. GridSearchCV with Random Forest gave us the lowest False Positives.\n",
    "\n",
    "Finally, we will use XGBoost to see if we can improve our Random Tree model."
   ]
  },
  {
   "cell_type": "markdown",
   "metadata": {},
   "source": [
    "### XGBoost"
   ]
  },
  {
   "cell_type": "markdown",
   "metadata": {},
   "source": [
    "Finally, our last try to improve our model will be XGBoost, which uses Gradient Descent and Boosting principles. We believe there might have space for improvement. First, we will use the default hyperparameters. Then, we will use XGBoost with GridSearch."
   ]
  },
  {
   "cell_type": "code",
   "execution_count": 25,
   "metadata": {
    "scrolled": true
   },
   "outputs": [
    {
     "name": "stdout",
     "output_type": "stream",
     "text": [
      "Evaluation Metrics:\n",
      "Accuracy: 0.943609022556391\n",
      "Recall: 0.9657701711491442\n",
      "F1 Score: 0.9634146341463415\n",
      "Precision: 0.9610705596107056\n",
      "\n",
      "Confusion Matrix:\n",
      " TN,  FP, FN, TP\n",
      "[395  14  16 107]\n"
     ]
    }
   ],
   "source": [
    "# Instantiate XGBClassifier\n",
    "xgb = XGBClassifier()\n",
    "\n",
    "# Fitting and predicting\n",
    "xgb.fit(X_train_smote, y_train_smote)\n",
    "y_pred_xg = xgb.predict(X_test)\n",
    "\n",
    "# Evaluation Metrics\n",
    "evaluation(y_test, y_pred_xg)"
   ]
  },
  {
   "cell_type": "markdown",
   "metadata": {},
   "source": [
    "<b>Findings:</b>\n",
    "\n",
    "XGBoost performed using only the default parameters. It did not perform better than Random Forest using Grid Search."
   ]
  },
  {
   "cell_type": "code",
   "execution_count": 30,
   "metadata": {},
   "outputs": [],
   "source": [
    "#parameter grid for xgboost\n",
    "param_dist = {'n_estimators': [500,1000,1500],\n",
    "              'learning_rate': [0.1,0.07,0.05,0.03,0.01],\n",
    "              'max_depth': [9,10,11,12,13],\n",
    "              'colsample_bytree': [0.5,0.45,0.4],\n",
    "              'min_child_weight': [1, 2, 3]\n",
    "             }"
   ]
  },
  {
   "cell_type": "code",
   "execution_count": 32,
   "metadata": {},
   "outputs": [],
   "source": [
    "#gridsearch for xgboost\n",
    "grid_xg = GridSearchCV(estimator=xgb,\n",
    "                      param_grid= param_dist,\n",
    "                      scoring='f1',\n",
    "                      n_jobs=-1,\n",
    "                      verbose=1,\n",
    "                      iid=False,\n",
    "                      cv=10)"
   ]
  },
  {
   "cell_type": "code",
   "execution_count": 34,
   "metadata": {},
   "outputs": [
    {
     "name": "stdout",
     "output_type": "stream",
     "text": [
      "Fitting 10 folds for each of 675 candidates, totalling 6750 fits\n"
     ]
    },
    {
     "name": "stderr",
     "output_type": "stream",
     "text": [
      "[Parallel(n_jobs=-1)]: Using backend LokyBackend with 8 concurrent workers.\n",
      "[Parallel(n_jobs=-1)]: Done  34 tasks      | elapsed:   21.4s\n",
      "[Parallel(n_jobs=-1)]: Done 184 tasks      | elapsed:  1.8min\n",
      "[Parallel(n_jobs=-1)]: Done 434 tasks      | elapsed:  4.3min\n",
      "[Parallel(n_jobs=-1)]: Done 784 tasks      | elapsed:  8.1min\n",
      "[Parallel(n_jobs=-1)]: Done 1234 tasks      | elapsed: 13.0min\n",
      "[Parallel(n_jobs=-1)]: Done 1784 tasks      | elapsed: 19.8min\n",
      "[Parallel(n_jobs=-1)]: Done 2434 tasks      | elapsed: 28.8min\n",
      "[Parallel(n_jobs=-1)]: Done 3184 tasks      | elapsed: 36.0min\n",
      "[Parallel(n_jobs=-1)]: Done 4034 tasks      | elapsed: 46.1min\n",
      "[Parallel(n_jobs=-1)]: Done 4984 tasks      | elapsed: 58.1min\n",
      "[Parallel(n_jobs=-1)]: Done 6034 tasks      | elapsed: 68.5min\n",
      "[Parallel(n_jobs=-1)]: Done 6750 out of 6750 | elapsed: 77.4min finished\n"
     ]
    },
    {
     "data": {
      "text/plain": [
       "GridSearchCV(cv=10, error_score=nan,\n",
       "             estimator=XGBClassifier(base_score=0.5, booster='gbtree',\n",
       "                                     colsample_bylevel=1, colsample_bynode=1,\n",
       "                                     colsample_bytree=1, gamma=0,\n",
       "                                     learning_rate=0.1, max_delta_step=0,\n",
       "                                     max_depth=3, min_child_weight=1,\n",
       "                                     missing=None, n_estimators=100, n_jobs=1,\n",
       "                                     nthread=None, objective='binary:logistic',\n",
       "                                     random_state=0, reg_alpha=0, reg_lambda=1,\n",
       "                                     scale_pos_weight=1, seed=None, silent=None,\n",
       "                                     subsample=1, verbosity=1),\n",
       "             iid=False, n_jobs=-1,\n",
       "             param_grid={'colsample_bytree': [0.5, 0.45, 0.4],\n",
       "                         'learning_rate': [0.1, 0.07, 0.05, 0.03, 0.01],\n",
       "                         'max_depth': [9, 10, 11, 12, 13],\n",
       "                         'min_child_weight': [1, 2, 3],\n",
       "                         'n_estimators': [500, 1000, 1500]},\n",
       "             pre_dispatch='2*n_jobs', refit=True, return_train_score=False,\n",
       "             scoring='f1', verbose=1)"
      ]
     },
     "execution_count": 34,
     "metadata": {},
     "output_type": "execute_result"
    }
   ],
   "source": [
    "#fit grid search xgboost to train set\n",
    "grid_xg.fit(X_train_smote,y_train_smote)"
   ]
  },
  {
   "cell_type": "code",
   "execution_count": 43,
   "metadata": {},
   "outputs": [],
   "source": [
    "#xgboost best estimator test set predictions\n",
    "y_pred = grid_xg.best_estimator_.predict(X_test)"
   ]
  },
  {
   "cell_type": "code",
   "execution_count": 36,
   "metadata": {},
   "outputs": [
    {
     "name": "stdout",
     "output_type": "stream",
     "text": [
      "Evaluation Metrics:\n",
      "Accuracy: 0.956766917293233\n",
      "Recall: 0.9828850855745721\n",
      "F1 Score: 0.9721886336154776\n",
      "Precision: 0.9617224880382775\n",
      "\n",
      "Confusion Matrix:\n",
      " TN,  FP, FN, TP\n",
      "[402   7  16 107]\n"
     ]
    }
   ],
   "source": [
    "evaluation(y_test,y_pred)"
   ]
  },
  {
   "cell_type": "code",
   "execution_count": 37,
   "metadata": {},
   "outputs": [
    {
     "data": {
      "text/plain": [
       "<matplotlib.axes._subplots.AxesSubplot at 0x7fa8040f2b38>"
      ]
     },
     "execution_count": 37,
     "metadata": {},
     "output_type": "execute_result"
    },
    {
     "data": {
      "image/png": "[encoded data removed]",
      "text/plain": [
       "<Figure size 576x396 with 1 Axes>"
      ]
     },
     "metadata": {},
     "output_type": "display_data"
    }
   ],
   "source": [
    "#plot feature importance of best estimator grid xgboost\n",
    "plot_importance(grid_xg.best_estimator_)"
   ]
  },
  {
   "cell_type": "code",
   "execution_count": 44,
   "metadata": {},
   "outputs": [
    {
     "data": {
      "text/plain": [
       "<matplotlib.axes._subplots.AxesSubplot at 0x7fa8035ff1d0>"
      ]
     },
     "execution_count": 44,
     "metadata": {},
     "output_type": "execute_result"
    },
    {
     "data": {
      "image/png": "[encoded data removed]",
      "text/plain": [
       "<Figure size 576x396 with 1 Axes>"
      ]
     },
     "metadata": {},
     "output_type": "display_data"
    }
   ],
   "source": [
    "#plot top ten key features\n",
    "plot_importance(grid_xg.best_estimator_,max_num_features=10)"
   ]
  },
  {
   "cell_type": "markdown",
   "metadata": {},
   "source": [
    "## Vanilla modeling results\n",
    "- For the vanilla dataset, the best model overall was our grid search best parameter random forest.  This model had the best precision score of any model we ran in this analysis. Key features for the vanilla model where abnormal_short term variatability, acceleration, mean abnormal short term varitability and histogram mean.\n",
    "\n",
    "- for comparison to the experimental datset follow this link\n",
    "[experimental modeling process](.experimental_feature_Modeling.ipynb)"
   ]
  }
 ],
 "metadata": {
  "kernelspec": {
   "display_name": "Python 3",
   "language": "python",
   "name": "python3"
  },
  "language_info": {
   "codemirror_mode": {
    "name": "ipython",
    "version": 3
   },
   "file_extension": ".py",
   "mimetype": "text/x-python",
   "name": "python",
   "nbconvert_exporter": "python",
   "pygments_lexer": "ipython3",
   "version": "3.6.9"
  },
  "toc": {
   "base_numbering": 1,
   "nav_menu": {},
   "number_sections": true,
   "sideBar": true,
   "skip_h1_title": false,
   "title_cell": "Table of Contents",
   "title_sidebar": "Contents",
   "toc_cell": false,
   "toc_position": {},
   "toc_section_display": true,
   "toc_window_display": false
  }
 },
 "nbformat": 4,
 "nbformat_minor": 4
}
